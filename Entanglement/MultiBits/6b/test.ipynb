{
 "cells": [
  {
   "cell_type": "code",
   "execution_count": 1,
   "metadata": {},
   "outputs": [
    {
     "name": "stdout",
     "output_type": "stream",
     "text": [
      "[(1+0j), 0j, 0j, 0j, 0j, (0.9999999999999996+0j), 0j, 0j, 0j, 0j, (0.9999999999999996+0j), 0j, 0j, 0j, 0j, (1+0j)]\n"
     ]
    }
   ],
   "source": [
    "from Werner import werner, witness\n",
    "from Tools.MyGates import SWAP, CX, Id, Z, identity_qb, product, pauli\n",
    "from Tools.MyQM import  tensor, partial_trace, hs_norm, Ad, trace\n",
    "rho = werner(1,0.3)\n",
    "def pauli_group(n):\n",
    "    plus = [tensor(*list(map(pauli, index))) \n",
    "            for index in product([0,1,2,3], repeat = n) ]\n",
    "    return plus\n",
    "\n",
    "W = witness()\n",
    "expectations = [trace(W@p) for p in pauli_group(2)]\n",
    "\n",
    "print(expectations)"
   ]
  },
  {
   "cell_type": "code",
   "execution_count": 11,
   "metadata": {},
   "outputs": [
    {
     "data": {
      "text/plain": [
       "{'II': (1+0j),\n",
       " 'IX': 0j,\n",
       " 'IY': 0j,\n",
       " 'IZ': 0j,\n",
       " 'XI': 0j,\n",
       " 'XX': (0.9999999999999996+0j),\n",
       " 'XY': 0j,\n",
       " 'XZ': 0j,\n",
       " 'YI': 0j,\n",
       " 'YX': 0j,\n",
       " 'YY': (0.9999999999999996+0j),\n",
       " 'YZ': 0j,\n",
       " 'ZI': 0j,\n",
       " 'ZX': 0j,\n",
       " 'ZY': 0j,\n",
       " 'ZZ': (1+0j)}"
      ]
     },
     "execution_count": 11,
     "metadata": {},
     "output_type": "execute_result"
    }
   ],
   "source": [
    "import numpy as np\n",
    "from itertools import product\n",
    "from functools import reduce\n",
    "from operator import add\n",
    "\n",
    "PauliName_dict = {0:'I', 1:'X', 2:'Y', 3:'Z'}\n",
    "\n",
    "def tomo(rho):\n",
    "    n = int(np.log2(len(rho)))\n",
    "    return {\n",
    "         reduce(add, [ PauliName_dict[i] for i in index ] ) # key\n",
    "        : trace(rho @ tensor(*list(map(pauli, index))) )  # value\n",
    "        for index in product([0,1,2,3], repeat = n)  }  # induction\n",
    "\n",
    "tomo(W)"
   ]
  },
  {
   "cell_type": "code",
   "execution_count": 1,
   "metadata": {},
   "outputs": [],
   "source": [
    "from qiskit import QuantumCircuit\n",
    "from qiskit.quantum_info.operators import Operator\n",
    "from Werner import werner\n"
   ]
  },
  {
   "cell_type": "code",
   "execution_count": 4,
   "metadata": {},
   "outputs": [],
   "source": [
    "from numpy import trace\n",
    "import numpy as np"
   ]
  },
  {
   "cell_type": "code",
   "execution_count": 5,
   "metadata": {},
   "outputs": [
    {
     "data": {
      "text/plain": [
       "(0.2+0j)"
      ]
     },
     "execution_count": 5,
     "metadata": {},
     "output_type": "execute_result"
    }
   ],
   "source": [
    "rho = werner(3, 0.2)\n",
    "qc = QuantumCircuit(6)\n",
    "qc.swap([0,1,2], [3,4,5])\n",
    "U = np.array(Operator(qc))\n",
    "trace(U @ rho)"
   ]
  },
  {
   "cell_type": "code",
   "execution_count": 18,
   "metadata": {},
   "outputs": [
    {
     "data": {
      "text/plain": [
       "(64, 64)"
      ]
     },
     "execution_count": 18,
     "metadata": {},
     "output_type": "execute_result"
    }
   ],
   "source": [
    "eigval = np.linalg.eigvals(rho)\n",
    "np.diag(eigval).shape"
   ]
  },
  {
   "cell_type": "code",
   "execution_count": 16,
   "metadata": {},
   "outputs": [
    {
     "data": {
      "text/plain": [
       "True"
      ]
     },
     "execution_count": 16,
     "metadata": {},
     "output_type": "execute_result"
    }
   ],
   "source": [
    "all(np.linalg.eig(rho)[0] == )"
   ]
  },
  {
   "attachments": {},
   "cell_type": "markdown",
   "metadata": {},
   "source": [
    "Test QNN for werner"
   ]
  },
  {
   "cell_type": "code",
   "execution_count": 26,
   "metadata": {},
   "outputs": [
    {
     "name": "stdout",
     "output_type": "stream",
     "text": [
      "(32, 32)\n",
      "(16, 16)\n",
      "(16, 16)\n",
      "trace(O_tilta) = (7.999999999999997+0j)\n",
      "trace(W) = (4+0j)\n",
      "trace(H) = (7.999999999999997+0j)\n"
     ]
    }
   ],
   "source": [
    "from Werner import QNN_for_Werner\n",
    "from numpy import trace\n",
    "from qiskit import QuantumCircuit\n",
    "from qiskit.quantum_info.operators import Operator\n",
    "import numpy as np\n",
    "num = 2\n",
    "num_layer = 5\n",
    "num_anc = 1\n",
    "qnn = QNN_for_Werner(num, num_layer, num_anc)\n",
    "Ot = qnn.get_O_tilde(qnn.rand_para())\n",
    "print(Ot.shape)\n",
    "H = qnn.get_H()\n",
    "print(H.shape)\n",
    "qc = QuantumCircuit( 2*num)\n",
    "qc.swap(range(num), range(num, num*2))\n",
    "W = np.array(Operator(qc))\n",
    "print(H.shape)\n",
    "    # print(W)\n",
    "print(f\"trace(O_tilta) = {trace(Ot)}\\n\" + \n",
    "      f\"trace(W) = {trace(W)}\\n\" + \n",
    "      f\"trace(H) = {trace(H)}\" )\n"
   ]
  },
  {
   "cell_type": "code",
   "execution_count": 21,
   "metadata": {},
   "outputs": [],
   "source": [
    "from Tools.Gardient import grad_des\n",
    "from Tools.MyQM import hs_norm\n",
    "y_lst = []\n",
    "x_lst = []\n",
    "def callback(y,x):\n",
    "    y_lst.append(y)\n",
    "    x_lst.append(x)\n",
    "def cost(para):\n",
    "    qnn.get_O_tilde(para)\n",
    "    H = qnn.get_H()\n",
    "    return hs_norm(H - W)"
   ]
  },
  {
   "cell_type": "code",
   "execution_count": 18,
   "metadata": {},
   "outputs": [],
   "source": [
    "grad_des(cost, qnn.rand_para(), callback, eta=0.1)"
   ]
  },
  {
   "cell_type": "code",
   "execution_count": 19,
   "metadata": {},
   "outputs": [
    {
     "name": "stdout",
     "output_type": "stream",
     "text": [
      "15.87084153399572\n"
     ]
    },
    {
     "data": {
      "text/plain": [
       "[<matplotlib.lines.Line2D at 0x2336fead700>]"
      ]
     },
     "execution_count": 19,
     "metadata": {},
     "output_type": "execute_result"
    },
    {
     "data": {
      "image/png": "[encoded data removed]",
      "text/plain": [
       "<Figure size 432x288 with 1 Axes>"
      ]
     },
     "metadata": {
      "needs_background": "light"
     },
     "output_type": "display_data"
    }
   ],
   "source": [
    "import matplotlib.pyplot as plt\n",
    "print(y_lst[-1])\n",
    "plt.plot(y_lst)"
   ]
  },
  {
   "cell_type": "code",
   "execution_count": 27,
   "metadata": {},
   "outputs": [
    {
     "data": {
      "text/plain": [
       "58.94891150598415"
      ]
     },
     "execution_count": 27,
     "metadata": {},
     "output_type": "execute_result"
    }
   ],
   "source": [
    "hs_norm(Ot - qnn.observable)"
   ]
  },
  {
   "attachments": {},
   "cell_type": "markdown",
   "metadata": {},
   "source": [
    "Construct W"
   ]
  },
  {
   "cell_type": "code",
   "execution_count": 4,
   "metadata": {},
   "outputs": [
    {
     "data": {
      "text/plain": [
       "(array([3., 1.]),\n",
       " matrix([[ 0.70710678,  0.70710678],\n",
       "         [-0.70710678,  0.70710678]]))"
      ]
     },
     "execution_count": 4,
     "metadata": {},
     "output_type": "execute_result"
    }
   ],
   "source": [
    "import numpy as np\n",
    "A  = np.matrix([[2,-1], [-1,2]])\n",
    "np.linalg.eig(A)"
   ]
  }
 ],
 "metadata": {
  "kernelspec": {
   "display_name": "base",
   "language": "python",
   "name": "python3"
  },
  "language_info": {
   "codemirror_mode": {
    "name": "ipython",
    "version": 3
   },
   "file_extension": ".py",
   "mimetype": "text/x-python",
   "name": "python",
   "nbconvert_exporter": "python",
   "pygments_lexer": "ipython3",
   "version": "3.9.12"
  },
  "orig_nbformat": 4
 },
 "nbformat": 4,
 "nbformat_minor": 2
}
