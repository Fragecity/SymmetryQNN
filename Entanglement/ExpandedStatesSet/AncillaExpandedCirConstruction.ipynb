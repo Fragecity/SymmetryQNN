{
 "cells": [
  {
   "cell_type": "code",
   "execution_count": 62,
   "metadata": {},
   "outputs": [],
   "source": [
    "import sys\n",
    "from pyprojroot import here\n",
    "sys.path.insert(0, str(here()))"
   ]
  },
  {
   "cell_type": "code",
   "execution_count": 24,
   "metadata": {},
   "outputs": [
    {
     "name": "stdout",
     "output_type": "stream",
     "text": [
      "Eigenvalues of X: [ 1. -1.]\n",
      "Eigenvalues of Y: [ 1.+0.j -1.+0.j]\n",
      "Eigenvalues of Z: [ 1. -1.]\n",
      "Eigenvalues of SWAP: [ 1. -1.  1.  1.]\n",
      "IIIZ Eigenvalues: [ 1.  1.  1.  1.  1.  1.  1.  1. -1. -1. -1. -1. -1. -1. -1. -1.]\n",
      "IIZZ Eigenvalues: [ 1.  1.  1.  1. -1. -1. -1. -1. -1. -1. -1. -1.  1.  1.  1.  1.]\n"
     ]
    },
    {
     "data": {
      "text/latex": [
       "$\\displaystyle \\left[\\begin{array}{cccccccccccccccc}1 & 0 & 0 & 0 & 0 & 0 & 0 & 0 & 0 & 0 & 0 & 0 & 0 & 0 & 0 & 0\\\\0 & 1 & 0 & 0 & 0 & 0 & 0 & 0 & 0 & 0 & 0 & 0 & 0 & 0 & 0 & 0\\\\0 & 0 & -1 & 0 & 0 & 0 & 0 & 0 & 0 & 0 & 0 & 0 & 0 & 0 & 0 & 0\\\\0 & 0 & 0 & -1 & 0 & 0 & 0 & 0 & 0 & 0 & 0 & 0 & 0 & 0 & 0 & 0\\\\0 & 0 & 0 & 0 & 0 & 0 & 0 & 0 & 1 & 0 & 0 & 0 & 0 & 0 & 0 & 0\\\\0 & 0 & 0 & 0 & 0 & 0 & 0 & 0 & 0 & 1 & 0 & 0 & 0 & 0 & 0 & 0\\\\0 & 0 & 0 & 0 & 0 & 0 & 0 & 0 & 0 & 0 & -1 & 0 & 0 & 0 & 0 & 0\\\\0 & 0 & 0 & 0 & 0 & 0 & 0 & 0 & 0 & 0 & 0 & -1 & 0 & 0 & 0 & 0\\\\0 & 0 & 0 & 0 & 1 & 0 & 0 & 0 & 0 & 0 & 0 & 0 & 0 & 0 & 0 & 0\\\\0 & 0 & 0 & 0 & 0 & 1 & 0 & 0 & 0 & 0 & 0 & 0 & 0 & 0 & 0 & 0\\\\0 & 0 & 0 & 0 & 0 & 0 & -1 & 0 & 0 & 0 & 0 & 0 & 0 & 0 & 0 & 0\\\\0 & 0 & 0 & 0 & 0 & 0 & 0 & -1 & 0 & 0 & 0 & 0 & 0 & 0 & 0 & 0\\\\0 & 0 & 0 & 0 & 0 & 0 & 0 & 0 & 0 & 0 & 0 & 0 & 1 & 0 & 0 & 0\\\\0 & 0 & 0 & 0 & 0 & 0 & 0 & 0 & 0 & 0 & 0 & 0 & 0 & 1 & 0 & 0\\\\0 & 0 & 0 & 0 & 0 & 0 & 0 & 0 & 0 & 0 & 0 & 0 & 0 & 0 & -1 & 0\\\\0 & 0 & 0 & 0 & 0 & 0 & 0 & 0 & 0 & 0 & 0 & 0 & 0 & 0 & 0 & -1\\end{array}\\right]$"
      ],
      "text/plain": [
       "<IPython.core.display.Math object>"
      ]
     },
     "metadata": {},
     "output_type": "display_data"
    },
    {
     "name": "stdout",
     "output_type": "stream",
     "text": [
      "SWAP*diag(1,1,-1,-1) Eigenvalues: [ 1. -1.  1. -1.  1. -1.  1. -1.  1.  1. -1. -1.  1.  1. -1. -1.]\n"
     ]
    }
   ],
   "source": [
    "import numpy as np\n",
    "import sympy as sp\n",
    "from Utils import Id, Z, SWAP, tensorOfListOps, X, Y\n",
    "from sympy import symbols, Matrix, latex\n",
    "from IPython.display import display, Math\n",
    "from Utils import equal_tol\n",
    "\n",
    "print(f\"Eigenvalues of X: {np.linalg.eigvals(X)}\")\n",
    "print(f\"Eigenvalues of Y: {np.linalg.eigvals(Y)}\")\n",
    "print(f\"Eigenvalues of Z: {np.linalg.eigvals(Z)}\")\n",
    "\n",
    "print(f\"Eigenvalues of SWAP: {np.linalg.eigvals(SWAP)}\")\n",
    "\n",
    "O1 = tensorOfListOps(Id, Id, Id, Z)\n",
    "# display(Math(latex(Matrix(O1))))\n",
    "print(f'IIIZ Eigenvalues: {np.linalg.eigvals(O1)}')\n",
    "\n",
    "O1_2 = tensorOfListOps(Id, Id, Z, Z)\n",
    "print(f'IIZZ Eigenvalues: {np.linalg.eigvals(O1_2)}')\n",
    "\n",
    "O2 = np.kron(SWAP, np.diag([1, 1, -1, -1]))\n",
    "display(Math(latex(Matrix(O2))))\n",
    "print(f'SWAP*diag(1,1,-1,-1) Eigenvalues: {np.linalg.eigvals(O2)}')\n",
    "\n",
    "# tmpO2 = np.kron(Id,Id)\n",
    "# O2 = np.kron(tmpO2, SWAP)\n",
    "# display(Math(latex(Matrix(O2))))\n",
    "\n",
    "# O2_2 = np.kron(SWAP, SWAP)\n",
    "# display(Math(latex(Matrix(O2_2))))"
   ]
  },
  {
   "cell_type": "code",
   "execution_count": 30,
   "metadata": {},
   "outputs": [
    {
     "data": {
      "text/latex": [
       "$\\displaystyle \\left[\\begin{matrix}0 & 0 & 1.0 & 0\\\\0.707106781186547 & 0.707106781186547 & 0 & 0\\\\0.707106781186547 & -0.707106781186547 & 0 & 0\\\\0 & 0 & 0 & 1.0\\end{matrix}\\right]$"
      ],
      "text/plain": [
       "<IPython.core.display.Math object>"
      ]
     },
     "metadata": {},
     "output_type": "display_data"
    },
    {
     "name": "stdout",
     "output_type": "stream",
     "text": [
      "P_swap Eigenvalues: [-1.        +0.j          0.85355339+0.52100538j  0.85355339-0.52100538j\n",
      "  1.        +0.j        ]\n"
     ]
    }
   ],
   "source": [
    "egvs, egks = np.linalg.eig(SWAP)\n",
    "P_swap = egks\n",
    "# P_swap_inv = np.linalg.inv(P_swap)\n",
    "# P_swap @ np.diag(egvs) @ P_swap_inv\n",
    "\n",
    "display(Math(latex(Matrix(P_swap))))\n",
    "print(f'P_swap Eigenvalues: {np.linalg.eigvals(P_swap)}')"
   ]
  },
  {
   "attachments": {},
   "cell_type": "markdown",
   "metadata": {},
   "source": [
    "Pauli⊗4 egvs"
   ]
  },
  {
   "cell_type": "code",
   "execution_count": 292,
   "metadata": {},
   "outputs": [
    {
     "name": "stdout",
     "output_type": "stream",
     "text": [
      "IIIZ Eigenvalues: [ 1.  1.  1.  1.  1.  1.  1.  1. -1. -1. -1. -1. -1. -1. -1. -1.]\n",
      "IIZZ Eigenvalues: [ 1.  1.  1.  1. -1. -1. -1. -1. -1. -1. -1. -1.  1.  1.  1.  1.]\n",
      "IZZZ Eigenvalues: [ 1.  1. -1. -1. -1. -1.  1.  1. -1. -1.  1.  1.  1.  1. -1. -1.]\n",
      "ZZZZ Eigenvalues: [ 1. -1. -1.  1. -1.  1.  1. -1. -1.  1.  1. -1.  1. -1. -1.  1.]\n",
      "type 1\n",
      "IIIX Eigenvalues: [ 1. -1.  1. -1.  1. -1.  1. -1.  1. -1.  1. -1.  1. -1.  1. -1.]\n",
      "IIXX Eigenvalues: [ 1. -1.  1. -1.  1. -1.  1. -1.  1. -1.  1. -1.  1. -1.  1. -1.]\n",
      "IXXX Eigenvalues: [ 1. -1.  1. -1.  1. -1.  1. -1.  1. -1.  1. -1.  1. -1.  1. -1.]\n",
      "XXXX Eigenvalues: [ 1. -1.  1. -1.  1. -1.  1. -1.  1. -1.  1. -1.  1. -1.  1. -1.]\n",
      "IIIY Eigenvalues: [ 1. -1.  1. -1.  1. -1.  1. -1.  1. -1.  1. -1.  1. -1.  1. -1.]\n",
      "IIYY Eigenvalues: [ 1. -1.  1. -1.  1. -1.  1. -1.  1. -1.  1. -1.  1. -1.  1. -1.]\n",
      "IYYY Eigenvalues: [ 1. -1.  1. -1.  1. -1.  1. -1.  1. -1.  1. -1.  1. -1.  1. -1.]\n",
      "YYYY Eigenvalues: [ 1. -1.  1. -1.  1. -1.  1. -1.  1. -1.  1. -1.  1. -1.  1. -1.]\n",
      "IIII Eigenvalues: [1. 1. 1. 1. 1. 1. 1. 1. 1. 1. 1. 1. 1. 1. 1. 1.]\n"
     ]
    }
   ],
   "source": [
    "O1 = tensorOfListOps(Id, Id, Id, Z)\n",
    "print(f'IIIZ Eigenvalues: {np.linalg.eigvals(O1)}')\n",
    "\n",
    "O1_2 = tensorOfListOps(Id, Id, Z, Z)\n",
    "print(f'IIZZ Eigenvalues: {np.linalg.eigvals(O1_2)}')\n",
    "\n",
    "O1_3 = tensorOfListOps(Id, Z, Z, Z)\n",
    "print(f'IZZZ Eigenvalues: {np.linalg.eigvals(O1_3)}')\n",
    "\n",
    "O1_4 = tensorOfListOps(Z, Z, Z, Z)\n",
    "print(f'ZZZZ Eigenvalues: {np.linalg.eigvals(O1_4)}')\n",
    "\n",
    "print(\"type 1\")\n",
    "O1_5 = tensorOfListOps(Id, Id, Id, X)\n",
    "print(f'IIIX Eigenvalues: {np.linalg.eigvals(O1_5)}')\n",
    "\n",
    "O1_6 = tensorOfListOps(Id, Id, X, X)\n",
    "print(f'IIXX Eigenvalues: {np.linalg.eigvals(O1_6)}')\n",
    "\n",
    "O1_7 = tensorOfListOps(Id, X, X, X)\n",
    "print(f'IXXX Eigenvalues: {np.linalg.eigvals(O1_7)}')\n",
    "\n",
    "O1_8 = tensorOfListOps(X, X, X, X)\n",
    "print(f'XXXX Eigenvalues: {np.real(np.linalg.eigvals(O1_8))}')\n",
    "\n",
    "O1_9 = tensorOfListOps(Id, Id, Id, Y)\n",
    "print(f'IIIY Eigenvalues: {np.real(np.linalg.eigvals(O1_9))}')\n",
    "\n",
    "O1_10 = tensorOfListOps(Id, Id, Y, Y)\n",
    "print(f'IIYY Eigenvalues: {np.real(np.linalg.eigvals(O1_10))}')\n",
    "\n",
    "O1_11 = tensorOfListOps(Id, Y, Y, Y)\n",
    "print(f'IYYY Eigenvalues: {np.real(np.linalg.eigvals(O1_11))}')\n",
    "\n",
    "O1_12 = tensorOfListOps(Y, Y, Y, Y)\n",
    "print(f'YYYY Eigenvalues: {np.real(np.linalg.eigvals(O1_12))}')\n",
    "\n",
    "O1_13 = tensorOfListOps(Id, Id, Id, Id)\n",
    "print(f'IIII Eigenvalues: {np.linalg.eigvals(O1_13)}')"
   ]
  },
  {
   "attachments": {},
   "cell_type": "markdown",
   "metadata": {},
   "source": [
    "all of their egvs are -1\\*8 and 1\\*8, but the position changes"
   ]
  },
  {
   "cell_type": "code",
   "execution_count": 33,
   "metadata": {},
   "outputs": [
    {
     "name": "stdout",
     "output_type": "stream",
     "text": [
      "diag(-1,-1,1,1) Eigenvalues: [ 1. -1.  1. -1.  1. -1.  1. -1. -1. -1.  1.  1. -1. -1.  1.  1.]\n",
      "diag(-1,1,-1,1) Eigenvalues: [ 1. -1.  1. -1.  1. -1.  1. -1. -1.  1. -1.  1. -1.  1. -1.  1.]\n",
      "diag(-1,1,1,-1) Eigenvalues: [ 1. -1.  1. -1.  1. -1.  1. -1. -1.  1.  1. -1. -1.  1.  1. -1.]\n",
      "diag(1,-1,-1,1) Eigenvalues: [ 1. -1.  1. -1.  1. -1.  1. -1.  1. -1. -1.  1.  1. -1. -1.  1.]\n",
      "diag(1,-1,1,-1) Eigenvalues: [ 1. -1.  1. -1.  1. -1.  1. -1.  1. -1.  1. -1.  1. -1.  1. -1.]\n",
      "diag(1,1,-1,-1) Eigenvalues: [ 1. -1.  1. -1.  1. -1.  1. -1.  1.  1. -1. -1.  1.  1. -1. -1.]\n"
     ]
    }
   ],
   "source": [
    "O2_swap_c = np.kron(SWAP, np.diag([-1, -1, 1, 1]))\n",
    "print(f'diag(-1,-1,1,1) Eigenvalues: {np.linalg.eigvals(O2_swap_c)}')\n",
    "\n",
    "O2_swap_c = np.kron(SWAP, np.diag([-1, 1, -1, 1]))\n",
    "print(f'diag(-1,1,-1,1) Eigenvalues: {np.linalg.eigvals(O2_swap_c)}')\n",
    "\n",
    "O2_swap_c = np.kron(SWAP, np.diag([-1, 1, 1, -1]))\n",
    "print(f'diag(-1,1,1,-1) Eigenvalues: {np.linalg.eigvals(O2_swap_c)}')\n",
    "\n",
    "O2_swap_c = np.kron(SWAP, np.diag([1, -1, -1, 1]))\n",
    "print(f'diag(1,-1,-1,1) Eigenvalues: {np.linalg.eigvals(O2_swap_c)}')\n",
    "\n",
    "O2_swap_c = np.kron(SWAP, np.diag([1, -1, 1, -1]))\n",
    "print(f'diag(1,-1,1,-1) Eigenvalues: {np.linalg.eigvals(O2_swap_c)}')\n",
    "\n",
    "O2_swap_c = np.kron(SWAP, np.diag([1, 1, -1, -1]))\n",
    "print(f'diag(1,1,-1,-1) Eigenvalues: {np.linalg.eigvals(O2_swap_c)}')"
   ]
  },
  {
   "attachments": {},
   "cell_type": "markdown",
   "metadata": {},
   "source": [
    "Pauli ⊗ Pauli egvs"
   ]
  },
  {
   "cell_type": "code",
   "execution_count": 52,
   "metadata": {},
   "outputs": [
    {
     "name": "stdout",
     "output_type": "stream",
     "text": [
      "IX Eigenvalues: [ 1. -1.  1. -1.]\n",
      "XX Eigenvalues: [ 1. -1.  1. -1.]\n",
      "XI Eigenvalues: [ 1. -1.  1. -1.]\n",
      "IY Eigenvalues: [ 1.+0.j -1.+0.j  1.+0.j -1.+0.j]\n",
      "YY Eigenvalues: [ 1.+0.j -1.+0.j  1.+0.j -1.+0.j]\n",
      "YI Eigenvalues: [ 1.+0.j -1.+0.j  1.+0.j -1.+0.j]\n",
      "IZ Eigenvalues: [ 1. -1.  1. -1.]\n",
      "ZZ Eigenvalues: [ 1. -1. -1.  1.]\n",
      "ZI Eigenvalues: [ 1.  1. -1. -1.]\n"
     ]
    }
   ],
   "source": [
    "test_op = np.kron(Id,X)\n",
    "print(f'IX Eigenvalues: {np.linalg.eigvals(test_op)}')\n",
    "\n",
    "test_op = np.kron(X,X)\n",
    "print(f'XX Eigenvalues: {np.linalg.eigvals(test_op)}')\n",
    "\n",
    "test_op = np.kron(X,Id)\n",
    "print(f'XI Eigenvalues: {np.linalg.eigvals(test_op)}')\n",
    "\n",
    "test_op = np.kron(Id,Y)\n",
    "print(f'IY Eigenvalues: {np.linalg.eigvals(test_op)}')\n",
    "\n",
    "test_op = np.kron(Y,Y)\n",
    "print(f'YY Eigenvalues: {np.linalg.eigvals(test_op)}')\n",
    "\n",
    "test_op = np.kron(Y,Id)\n",
    "print(f'YI Eigenvalues: {np.linalg.eigvals(test_op)}')\n",
    "\n",
    "test_op = np.kron(Id,Z)\n",
    "print(f'IZ Eigenvalues: {np.linalg.eigvals(test_op)}')\n",
    "\n",
    "test_op = np.kron(Z,Z)\n",
    "print(f'ZZ Eigenvalues: {np.linalg.eigvals(test_op)}')\n",
    "\n",
    "test_op = np.kron(Z,Id)\n",
    "print(f'ZI Eigenvalues: {np.linalg.eigvals(test_op)}')"
   ]
  },
  {
   "cell_type": "code",
   "execution_count": 258,
   "metadata": {},
   "outputs": [],
   "source": [
    "IX = np.kron(Id, X)\n",
    "IY = np.kron(Id, Y)\n",
    "IZ = np.kron(Id, Z)\n",
    "XI = np.kron(X, Id)\n",
    "XX = np.kron(X, X)\n",
    "XY = np.kron(X, Y)\n",
    "XZ = np.kron(X, Z)\n",
    "YI = np.kron(Y, Id)\n",
    "YX = np.kron(Y, X)\n",
    "YY = np.kron(Y, Y)\n",
    "YZ = np.kron(Y, Z)\n",
    "ZI = np.kron(Z, Id)\n",
    "ZX = np.kron(Z, X)\n",
    "ZY = np.kron(Z, Y)\n",
    "ZZ = np.kron(Z, Z)"
   ]
  },
  {
   "attachments": {},
   "cell_type": "markdown",
   "metadata": {},
   "source": [
    "diag SWAP ⊗ Pauli"
   ]
  },
  {
   "cell_type": "code",
   "execution_count": 85,
   "metadata": {},
   "outputs": [
    {
     "name": "stdout",
     "output_type": "stream",
     "text": [
      "SWAPIX Eigenvalues: [ 1. -1.  1. -1.  1. -1.  1. -1.  1. -1.  1. -1.  1. -1.  1. -1.]\n",
      "SWAPXI Eigenvalues: [ 1. -1.  1. -1.  1. -1.  1. -1.  1. -1.  1. -1.  1. -1.  1. -1.]\n",
      "SWAPYI Eigenvalues: [ 1. -1.  1. -1.  1. -1.  1. -1.  1. -1.  1. -1.  1. -1.  1. -1.]\n",
      "SWAPIY Eigenvalues: [ 1. -1.  1. -1.  1. -1.  1. -1.  1. -1.  1. -1.  1. -1.  1. -1.]\n",
      "SWAPIZ Eigenvalues: [ 1. -1.  1. -1.  1. -1.  1. -1.  1. -1.  1. -1.  1. -1.  1. -1.]\n",
      "SWAPZI Eigenvalues: [ 1. -1.  1. -1.  1. -1.  1. -1.  1.  1. -1. -1.  1.  1. -1. -1.]\n",
      "SWAPXX Eigenvalues: [ 1. -1.  1. -1.  1. -1.  1. -1.  1. -1.  1. -1.  1. -1.  1. -1.]\n",
      "SWAPXY Eigenvalues: [ 1. -1.  1. -1.  1. -1.  1. -1.  1. -1.  1. -1.  1. -1.  1. -1.]\n",
      "SWAPYX Eigenvalues: [ 1. -1.  1. -1.  1. -1.  1. -1.  1. -1.  1. -1.  1. -1.  1. -1.]\n",
      "SWAPYY Eigenvalues: [ 1. -1.  1. -1.  1. -1.  1. -1.  1. -1.  1. -1.  1. -1.  1. -1.]\n",
      "SWAPZX Eigenvalues: [ 1. -1.  1. -1.  1. -1.  1. -1.  1. -1.  1. -1.  1. -1.  1. -1.]\n",
      "SWAPYY Eigenvalues: [ 1. -1.  1. -1.  1. -1.  1. -1.  1. -1.  1. -1.  1. -1.  1. -1.]\n",
      "SWAPYZ Eigenvalues: [ 1. -1.  1. -1.  1. -1.  1. -1.  1. -1.  1. -1.  1. -1.  1. -1.]\n",
      "SWAPZY Eigenvalues: [ 1. -1.  1. -1.  1. -1.  1. -1.  1. -1.  1. -1.  1. -1.  1. -1.]\n",
      "SWAPZZ Eigenvalues: [ 1. -1.  1. -1.  1. -1.  1. -1.  1. -1. -1.  1.  1. -1. -1.  1.]\n"
     ]
    }
   ],
   "source": [
    "SWAPIX = np.kron(SWAP, IX)\n",
    "print(f'SWAPIX Eigenvalues: {np.linalg.eigvals(SWAPIX)}')\n",
    "\n",
    "SWAPXI = np.kron(SWAP, XI)\n",
    "print(f'SWAPXI Eigenvalues: {np.linalg.eigvals(SWAPXI)}')\n",
    "\n",
    "SWAPYI = np.kron(SWAP, YI)\n",
    "print(f'SWAPYI Eigenvalues: {np.real(np.linalg.eigvals(SWAPYI))}')\n",
    "\n",
    "SWAPIY = np.kron(SWAP, IY)\n",
    "print(f'SWAPIY Eigenvalues: {np.real(np.linalg.eigvals(SWAPIY))}')\n",
    "\n",
    "SWAPIZ = np.kron(SWAP, IZ)\n",
    "print(f'SWAPIZ Eigenvalues: {np.linalg.eigvals(SWAPIZ)}')\n",
    "\n",
    "SWAPZI = np.kron(SWAP, ZI)\n",
    "print(f'SWAPZI Eigenvalues: {np.linalg.eigvals(SWAPZI)}')\n",
    "\n",
    "SWAPXX = np.kron(SWAP, XX)\n",
    "print(f'SWAPXX Eigenvalues: {np.linalg.eigvals(SWAPXX)}')\n",
    "\n",
    "SWAPXY = np.kron(SWAP, XY)\n",
    "print(f'SWAPXY Eigenvalues: {np.real(np.linalg.eigvals(SWAPXY))}')\n",
    "\n",
    "SWAPYX = np.kron(SWAP, YX)\n",
    "print(f'SWAPYX Eigenvalues: {np.real(np.linalg.eigvals(SWAPYX))}')\n",
    "\n",
    "SWAPXZ = np.kron(SWAP, XZ)\n",
    "print(f'SWAPYY Eigenvalues: {np.linalg.eigvals(SWAPXZ)}')\n",
    "\n",
    "SWAPZX = np.kron(SWAP, ZX)\n",
    "print(f'SWAPZX Eigenvalues: {np.linalg.eigvals(SWAPZX)}')\n",
    "\n",
    "SWAPYY = np.kron(SWAP, YY)\n",
    "print(f'SWAPYY Eigenvalues: {np.real(np.linalg.eigvals(SWAPYY))}')\n",
    "\n",
    "SWAPYZ = np.kron(SWAP, YZ)\n",
    "print(f'SWAPYZ Eigenvalues: {np.real(np.linalg.eigvals(SWAPYZ))}')\n",
    "\n",
    "SWAPZY = np.kron(SWAP, ZY)\n",
    "print(f'SWAPZY Eigenvalues: {np.real(np.linalg.eigvals(SWAPZY))}')\n",
    "\n",
    "SWAPZZ = np.kron(SWAP, ZZ)\n",
    "print(f'SWAPZZ Eigenvalues: {np.linalg.eigvals(SWAPZZ)}')"
   ]
  },
  {
   "cell_type": "code",
   "execution_count": 291,
   "metadata": {},
   "outputs": [
    {
     "name": "stdout",
     "output_type": "stream",
     "text": [
      "diag SWAP II : [ 1.  1.  1.  1. -1. -1. -1. -1.  1.  1.  1.  1.  1.  1.  1.  1.]\n",
      "type 1\n",
      "diag SWAP IX : [ 1. -1.  1. -1. -1.  1. -1.  1.  1. -1.  1. -1.  1. -1.  1. -1.]\n",
      "diag SWAP IY : [ 1. -1.  1. -1. -1.  1. -1.  1.  1. -1.  1. -1.  1. -1.  1. -1.]\n",
      "diag SWAP IZ : [ 1. -1.  1. -1. -1.  1. -1.  1.  1. -1.  1. -1.  1. -1.  1. -1.]\n",
      "diag SWAP ZX : [ 1. -1.  1. -1. -1.  1. -1.  1.  1. -1.  1. -1.  1. -1.  1. -1.]\n",
      "diag SWAP ZY : [ 1. -1.  1. -1. -1.  1. -1.  1.  1. -1.  1. -1.  1. -1.  1. -1.]\n",
      "type 2\n",
      "diag SWAP XI : [ 1. -1.  1. -1. -1.  1. -1.  1.  1. -1.  1. -1.  1. -1.  1. -1.]\n",
      "diag SWAP XX : [ 1. -1.  1. -1. -1.  1. -1.  1.  1. -1.  1. -1.  1. -1.  1. -1.]\n",
      "diag SWAP XY : [ 1. -1.  1. -1. -1.  1. -1.  1.  1. -1.  1. -1.  1. -1.  1. -1.]\n",
      "diag SWAP XZ : [ 1. -1.  1. -1. -1.  1. -1.  1.  1. -1.  1. -1.  1. -1.  1. -1.]\n",
      "diag SWAP YI : [ 1. -1.  1. -1. -1.  1. -1.  1.  1. -1.  1. -1.  1. -1.  1. -1.]\n",
      "diag SWAP YX : [ 1. -1.  1. -1. -1.  1. -1.  1.  1. -1.  1. -1.  1. -1.  1. -1.]\n",
      "diag SWAP YY : [ 1. -1.  1. -1. -1.  1. -1.  1.  1. -1.  1. -1.  1. -1.  1. -1.]\n",
      "diag SWAP YZ : [ 1. -1.  1. -1. -1.  1. -1.  1.  1. -1.  1. -1.  1. -1.  1. -1.]\n",
      "others\n",
      "diag SWAP ZI : [ 1.  1. -1. -1. -1. -1.  1.  1.  1.  1. -1. -1.  1.  1. -1. -1.]\n",
      "diag SWAP ZZ : [ 1. -1. -1.  1. -1.  1.  1. -1.  1. -1. -1.  1.  1. -1. -1.  1.]\n"
     ]
    }
   ],
   "source": [
    "II = np.kron(Id, Id)\n",
    "\n",
    "egvs_ii, egks_ii = np.linalg.eig(II)\n",
    "d_ii = np.diag(egvs_ii)\n",
    "print(f\"diag SWAP II : {np.diag(np.kron(d_swap, d_ii))}\")\n",
    "\n",
    "print(\"type 1\")\n",
    "egvs_ix, egks_ix = np.linalg.eig(IX)\n",
    "d_ix = np.diag(egvs_ix)\n",
    "print(f\"diag SWAP IX : {np.diag(np.kron(d_swap, d_ix))}\")\n",
    "\n",
    "egvs_iy, egks_iy = np.linalg.eig(IY)\n",
    "d_iy = np.diag(egvs_iy)\n",
    "print(f\"diag SWAP IY : {np.real(np.diag(np.kron(d_swap, d_iy)))}\")\n",
    "\n",
    "egvs_iz, egks_iz = np.linalg.eig(IZ)\n",
    "d_iz = np.diag(egvs_iz)\n",
    "print(f\"diag SWAP IZ : {np.diag(np.kron(d_swap, d_iz))}\")\n",
    "\n",
    "egvs_zx, egks_zx = np.linalg.eig(ZX)\n",
    "d_zx = np.diag(egvs_zx)\n",
    "print(f\"diag SWAP ZX : {np.diag(np.kron(d_swap, d_zx))}\")\n",
    "\n",
    "egvs_zy, egks_zy = np.linalg.eig(ZY)\n",
    "d_zy = np.diag(egvs_zy)\n",
    "print(f\"diag SWAP ZY : {np.real(np.diag(np.kron(d_swap, d_zy)))}\")\n",
    "\n",
    "print(\"type 2\")\n",
    "egvs_xi, egks_xi = np.linalg.eig(XI)\n",
    "d_xi = np.diag(egvs_xi)\n",
    "print(f\"diag SWAP XI : {np.diag(np.kron(d_swap, d_xi))}\")\n",
    "\n",
    "egvs_xx, egks_xx = np.linalg.eig(XX)\n",
    "d_xx = np.diag(egvs_xx)\n",
    "print(f\"diag SWAP XX : {np.diag(np.kron(d_swap, d_xx))}\")\n",
    "\n",
    "egvs_xy, egks_xy = np.linalg.eig(XY)\n",
    "d_xy = np.diag(egvs_xy)\n",
    "print(f\"diag SWAP XY : {np.real(np.diag(np.kron(d_swap, d_xy)))}\")\n",
    "\n",
    "egvs_xz, egks_xz = np.linalg.eig(XZ)\n",
    "d_xz = np.diag(egvs_xz)\n",
    "print(f\"diag SWAP XZ : {np.diag(np.kron(d_swap, d_xz))}\")\n",
    "\n",
    "egvs_yi, egks_yi = np.linalg.eig(YI)\n",
    "d_yi = np.diag(egvs_yi)\n",
    "print(f\"diag SWAP YI : {np.real(np.diag(np.kron(d_swap, d_yi)))}\")\n",
    "\n",
    "egvs_yx, egks_yx = np.linalg.eig(YX)\n",
    "d_yx = np.diag(egvs_yx)\n",
    "print(f\"diag SWAP YX : {np.real(np.diag(np.kron(d_swap, d_yx)))}\")\n",
    "\n",
    "egvs_yy, egks_yy = np.linalg.eig(YY)\n",
    "d_yy = np.diag(egvs_yy)\n",
    "print(f\"diag SWAP YY : {np.real(np.diag(np.kron(d_swap, d_yy)))}\")\n",
    "\n",
    "egvs_yz, egks_yz = np.linalg.eig(YZ)\n",
    "d_yz = np.diag(egvs_yz)\n",
    "print(f\"diag SWAP YZ : {np.real(np.diag(np.kron(d_swap, d_yz)))}\")\n",
    "\n",
    "print(\"others\")\n",
    "egvs_zi, egks_zi = np.linalg.eig(ZI)\n",
    "d_zi = np.diag(egvs_zi)\n",
    "print(f\"diag SWAP ZI : {np.diag(np.kron(d_swap, d_zi))}\")\n",
    "\n",
    "egvs_zz, egks_zz = np.linalg.eig(ZZ)\n",
    "d_zz = np.diag(egvs_zz)\n",
    "print(f\"diag SWAP ZZ : {np.diag(np.kron(d_swap, d_zz))}\")"
   ]
  },
  {
   "cell_type": "code",
   "execution_count": 86,
   "metadata": {},
   "outputs": [
    {
     "data": {
      "text/latex": [
       "$\\displaystyle \\left[\\begin{matrix}1 & 0 & 0 & 0\\\\0 & -1 & 0 & 0\\\\0 & 0 & 1 & 0\\\\0 & 0 & 0 & -1\\end{matrix}\\right]$"
      ],
      "text/plain": [
       "<IPython.core.display.Math object>"
      ]
     },
     "metadata": {},
     "output_type": "display_data"
    },
    {
     "data": {
      "text/latex": [
       "$\\displaystyle \\left[\\begin{matrix}1 & 0 & 0 & 0\\\\0 & 0 & 0 & 0\\\\0 & 0 & 0 & 0\\\\0 & 0 & 0 & 0\\end{matrix}\\right]$"
      ],
      "text/plain": [
       "<IPython.core.display.Math object>"
      ]
     },
     "metadata": {},
     "output_type": "display_data"
    },
    {
     "data": {
      "text/plain": [
       "1"
      ]
     },
     "execution_count": 86,
     "metadata": {},
     "output_type": "execute_result"
    }
   ],
   "source": [
    "display(Math(latex(Matrix(IZ))))\n",
    "\n",
    "phi_zero = np.kron(np.array([1,0]), np.array([1,0]))\n",
    "rho_zero = np.outer(phi_zero, phi_zero)\n",
    "display(Math(latex(Matrix(rho_zero))))\n",
    "\n",
    "np.trace(rho_zero @ IZ)"
   ]
  },
  {
   "cell_type": "code",
   "execution_count": 293,
   "metadata": {},
   "outputs": [
    {
     "name": "stdout",
     "output_type": "stream",
     "text": [
      "IZ:\n"
     ]
    },
    {
     "data": {
      "text/latex": [
       "$\\displaystyle \\left[\\begin{matrix}1 & 0 & 0 & 0\\\\0 & -1 & 0 & 0\\\\0 & 0 & 1 & 0\\\\0 & 0 & 0 & -1\\end{matrix}\\right]$"
      ],
      "text/plain": [
       "<IPython.core.display.Math object>"
      ]
     },
     "metadata": {},
     "output_type": "display_data"
    },
    {
     "name": "stdout",
     "output_type": "stream",
     "text": [
      "egvs of IZ: [ 1. -1.  1. -1.]\n"
     ]
    }
   ],
   "source": [
    "from Utils import dagger\n",
    "\n",
    "IZ = np.kron(Id,Z)\n",
    "print(\"IZ:\")\n",
    "display(Math(latex(Matrix(IZ))))\n",
    "print(f\"egvs of IZ: {np.linalg.eigvals(IZ)}\")\n",
    "# print(\"SWAPIZ:\")\n",
    "# display(Math(latex(Matrix(SWAPIZ))))\n",
    "# print(f\"egvs of SWAPIZ: {np.linalg.eigvals(SWAPIZ)}\")"
   ]
  },
  {
   "attachments": {},
   "cell_type": "markdown",
   "metadata": {},
   "source": [
    "is P_swap\\otimes I = P_swapiz?"
   ]
  },
  {
   "cell_type": "code",
   "execution_count": 271,
   "metadata": {},
   "outputs": [
    {
     "name": "stdout",
     "output_type": "stream",
     "text": [
      "[[ 1.  0.  0.  0.]\n",
      " [ 0. -1.  0.  0.]\n",
      " [ 0.  0.  1.  0.]\n",
      " [ 0.  0.  0. -1.]]\n",
      "[[ 1.  0.  0.  0.  0.  0.  0.  0.  0.  0.  0.  0.  0.  0.  0.  0.]\n",
      " [ 0. -1.  0.  0.  0. -0.  0.  0.  0. -0.  0.  0.  0. -0.  0.  0.]\n",
      " [ 0.  0.  1.  0.  0.  0.  0.  0.  0.  0.  0.  0.  0.  0.  0.  0.]\n",
      " [ 0.  0.  0. -1.  0.  0.  0. -0.  0.  0.  0. -0.  0.  0.  0. -0.]\n",
      " [ 0.  0.  0.  0. -1. -0. -0. -0.  0.  0.  0.  0.  0.  0.  0.  0.]\n",
      " [ 0. -0.  0.  0. -0.  1. -0. -0.  0. -0.  0.  0.  0. -0.  0.  0.]\n",
      " [ 0.  0.  0.  0. -0. -0. -1. -0.  0.  0.  0.  0.  0.  0.  0.  0.]\n",
      " [ 0.  0.  0. -0. -0. -0. -0.  1.  0.  0.  0. -0.  0.  0.  0. -0.]\n",
      " [ 0.  0.  0.  0.  0.  0.  0.  0.  1.  0.  0.  0.  0.  0.  0.  0.]\n",
      " [ 0. -0.  0.  0.  0. -0.  0.  0.  0. -1.  0.  0.  0. -0.  0.  0.]\n",
      " [ 0.  0.  0.  0.  0.  0.  0.  0.  0.  0.  1.  0.  0.  0.  0.  0.]\n",
      " [ 0.  0.  0. -0.  0.  0.  0. -0.  0.  0.  0. -1.  0.  0.  0. -0.]\n",
      " [ 0.  0.  0.  0.  0.  0.  0.  0.  0.  0.  0.  0.  1.  0.  0.  0.]\n",
      " [ 0. -0.  0.  0.  0. -0.  0.  0.  0. -0.  0.  0.  0. -1.  0.  0.]\n",
      " [ 0.  0.  0.  0.  0.  0.  0.  0.  0.  0.  0.  0.  0.  0.  1.  0.]\n",
      " [ 0.  0.  0. -0.  0.  0.  0. -0.  0.  0.  0. -0.  0.  0.  0. -1.]]\n",
      "swapiz_1 == SWAPIZ:  True\n",
      "swapiz_2 == SWAPIZ:  True\n"
     ]
    }
   ],
   "source": [
    "SWAPIZ = np.kron(SWAP, IZ)\n",
    "# print(\"SWAPIZ: \")\n",
    "# display(Math(latex(Matrix(SWAPIZ))))\n",
    "\n",
    "egvs_swap, P_swap = np.linalg.eig(SWAP)\n",
    "egvs_iz, P_iz = np.linalg.eig(IZ)\n",
    "\n",
    "egvs_swapiz, P_swapiz = np.linalg.eig(SWAPIZ)\n",
    "\n",
    "d_swap = np.diag(egvs_swap)\n",
    "d_iz = np.diag(egvs_iz)\n",
    "d_swapiz = np.diag(egvs_swapiz)\n",
    "\n",
    "swapiz_1 = np.kron(P_swap, P_iz) @ np.kron(d_swap, d_iz) @  dagger(np.kron(P_swap, P_iz)) # np.kron(dagger(P_swap), dagger(P_iz))\n",
    "swapiz_1 = np.where(np.abs(swapiz_1) < 1e-10, 0, swapiz_1)\n",
    "print(\"swapiz_1 == SWAPIZ: \", np.allclose(swapiz_1, SWAPIZ))\n",
    "# print(\"swapiz_1: \")\n",
    "# display(Math(latex(Matrix(swapiz_1))))\n",
    "\n",
    "swapiz_2 = P_swapiz @ d_swapiz @ dagger(P_swapiz)\n",
    "swapiz_2 = np.where(np.abs(swapiz_2) < 1e-10, 0, swapiz_2)\n",
    "print(\"swapiz_2 == SWAPIZ: \", np.allclose(swapiz_2, SWAPIZ))\n",
    "# print(\"swapiz_2: \")\n",
    "# display(Math(latex(Matrix(swapiz_2))))\n",
    "\n",
    "# dswapdiz = np.kron(d_swap, d_iz)\n",
    "# dswapdiz = np.where(np.abs(dswapdiz) < 1e-10, 0, dswapdiz)\n",
    "# print(\"dswapdiz: \")\n",
    "# display(Math(latex(Matrix(dswapdiz))))\n",
    "# display(Math(latex(Matrix(d_swapiz))))\n",
    "# print(\"dswapdiz == d_swapiz: \", np.allclose(dswapdiz, d_swapiz))\n",
    "\n",
    "\n",
    "# pswappi = np.kron(P_swap, P_iz)\n",
    "# pswappi = np.where(np.abs(pswappi) < 1e-10, 0, pswappi)\n",
    "# print(\"pswappi: \")\n",
    "# display(Math(latex(Matrix(pswappi))))\n",
    "# display(Math(latex(Matrix(P_swapiz))))\n",
    "# print(\"pswappi == P_swapiz: \", np.allclose(pswappi, P_swapiz))\n",
    "\n",
    "\n",
    "# swapiz_3 = np.kron(P_swap, P_iz) @ d_swapiz @ np.kron(dagger(P_swap), dagger(P_iz))\n",
    "# swapiz_3 = np.where(np.abs(swapiz_3) < 1e-10, 0, swapiz_3)\n",
    "# print(\"swapiz_3 == SWAPIZ: \", np.allclose(swapiz_3, SWAPIZ))\n",
    "# print(\"swapiz_3: \")\n",
    "# display(Math(latex(Matrix(swapiz_3))))\n",
    "\n",
    "# swapiz_4 = np.kron(P_swap, P_iz) @ d_swapiz @ dagger(np.kron(P_swap, P_iz))\n",
    "# swapiz_4 = np.where(np.abs(swapiz_4) < 1e-10, 0, swapiz_4)\n",
    "# print(\"swapiz_4 == SWAPIZ: \", np.allclose(swapiz_4, SWAPIZ))\n",
    "# print(\"swapiz_4: \")\n",
    "# display(Math(latex(Matrix(swapiz_4))))"
   ]
  },
  {
   "attachments": {},
   "cell_type": "markdown",
   "metadata": {},
   "source": [
    "test (A⊗B)(C⊗D) = (AC) ⊗ (BD)"
   ]
  },
  {
   "cell_type": "code",
   "execution_count": 210,
   "metadata": {},
   "outputs": [
    {
     "data": {
      "text/latex": [
       "$\\displaystyle \\left[\\begin{matrix}0.570154984317329 & 0.181095441701448 & 0.55986605443769 & 0.177827420983503\\\\0.32001821571539 & 0.0410051763426037 & 0.314243215807873 & 0.0402652031849606\\\\0.121085465156953 & 0.0384597633965771 & 0.108154100761156 & 0.0343524395785398\\\\0.0679631952266321 & 0.00870838804861455 & 0.0607050421374972 & 0.00777837271596773\\end{matrix}\\right]$"
      ],
      "text/plain": [
       "<IPython.core.display.Math object>"
      ]
     },
     "metadata": {},
     "output_type": "display_data"
    },
    {
     "data": {
      "text/latex": [
       "$\\displaystyle \\left[\\begin{matrix}0.570154984317329 & 0.181095441701448 & 0.55986605443769 & 0.177827420983503\\\\0.32001821571539 & 0.0410051763426038 & 0.314243215807873 & 0.0402652031849606\\\\0.121085465156953 & 0.0384597633965771 & 0.108154100761156 & 0.0343524395785398\\\\0.0679631952266321 & 0.00870838804861455 & 0.0607050421374972 & 0.00777837271596773\\end{matrix}\\right]$"
      ],
      "text/plain": [
       "<IPython.core.display.Math object>"
      ]
     },
     "metadata": {},
     "output_type": "display_data"
    },
    {
     "name": "stdout",
     "output_type": "stream",
     "text": [
      "tmp_1 == tmp_2:  True\n"
     ]
    }
   ],
   "source": [
    "# tmp_A = np.random.random((2,2))\n",
    "# tmp_B = np.random.random((2,2))\n",
    "# tmp_C = np.random.random((2,2))\n",
    "# tmp_D = np.random.random((2,2))\n",
    "\n",
    "# tmp_1 = np.kron(tmp_A, tmp_B) @ np.kron(tmp_C, tmp_D)\n",
    "# tmp_2 = np.kron(tmp_A @ tmp_C, tmp_B @ tmp_D)\n",
    "\n",
    "# display(Math(latex(Matrix(tmp_1))))\n",
    "# display(Math(latex(Matrix(tmp_2))))\n",
    "# print(\"tmp_1 == tmp_2: \", np.allclose(tmp_1, tmp_2))"
   ]
  },
  {
   "attachments": {},
   "cell_type": "markdown",
   "metadata": {},
   "source": [
    "test A⊗B = (UDU^dagger) ⊗ (VEV^dagger) = (U ⊗ V) (D ⊗ E) (U^dagger ⊗ V^dagger)"
   ]
  },
  {
   "cell_type": "code",
   "execution_count": 230,
   "metadata": {},
   "outputs": [
    {
     "name": "stdout",
     "output_type": "stream",
     "text": [
      "tmp_0 == tmp_1:  True\n",
      "tmp_0 == tmp_3:  True\n",
      "tmp_1 == tmp_2:  True\n",
      "tmp_1 == tmp_3:  True\n"
     ]
    }
   ],
   "source": [
    "# # tmp_A = np.random.random((4,4))\n",
    "# # tmp_B = np.random.random((4,4))\n",
    "# tmp_A = SWAP\n",
    "# tmp_B = IZ\n",
    "# tmp_AB = np.kron(tmp_A, tmp_B)\n",
    "\n",
    "# egvs_a, u_a = np.linalg.eig(tmp_A)\n",
    "# egvs_b, u_b = np.linalg.eig(tmp_B)\n",
    "# egvs_ab, u_ab = np.linalg.eig(tmp_AB)\n",
    "# d_a = np.diag(egvs_a)\n",
    "# d_b = np.diag(egvs_b)\n",
    "# d_ab = np.diag(egvs_ab)\n",
    "\n",
    "# tmp_0 = tmp_AB\n",
    "# tmp_1 = np.kron(u_a @ d_a @ dagger(u_a), u_b @ d_b @ dagger(u_b))\n",
    "# tmp_2 = np.kron(u_a, u_b) @ np.kron(d_a, d_b) @ np.kron(dagger(u_a), dagger(u_b))\n",
    "# tmp_3 = u_ab @ d_ab @ dagger(u_ab)\n",
    "\n",
    "# # display(Math(latex(Matrix(tmp_0))))\n",
    "# # display(Math(latex(Matrix(tmp_1))))\n",
    "# # display(Math(latex(Matrix(tmp_2))))\n",
    "# # display(Math(latex(Matrix(tmp_3))))\n",
    "# print(\"tmp_0 == tmp_1: \", np.allclose(tmp_0, tmp_1))\n",
    "# print(\"tmp_0 == tmp_3: \", np.allclose(tmp_0, tmp_3))\n",
    "# print(\"tmp_1 == tmp_2: \", np.allclose(tmp_1, tmp_2))\n",
    "# print(\"tmp_1 == tmp_3: \", np.allclose(tmp_1, tmp_3))"
   ]
  },
  {
   "attachments": {},
   "cell_type": "markdown",
   "metadata": {},
   "source": [
    "# qiskit transpile"
   ]
  },
  {
   "cell_type": "code",
   "execution_count": 325,
   "metadata": {},
   "outputs": [],
   "source": [
    "from qiskit import transpile\n",
    "from qiskit.quantum_info import Operator\n",
    "from qiskit import QuantumCircuit\n",
    "from qiskit import Aer\n",
    "\n",
    "def genTranspiledGate(U, num_qubits):\n",
    "    # Create an Operator object\n",
    "    op = Operator(U)\n",
    "\n",
    "    # Create a QuantumCircuit from the Operator\n",
    "    circuit = QuantumCircuit(num_qubits)  # number of qubits\n",
    "    circuit.unitary(op, range(num_qubits))  # the list of qubit indices the operator acts on\n",
    "\n",
    "    # Transpile the circuit for a specific backend\n",
    "    simulator = Aer.get_backend('aer_simulator')\n",
    "    transpiled_circuit = transpile(circuit, simulator, optimization_level=3) # 0-3\n",
    "    return transpiled_circuit\n",
    "\n",
    "def displayCircuitMx(transpiled_circuit):\n",
    "    op_from_circuit = Operator(transpiled_circuit)\n",
    "    mx = np.array(op_from_circuit.data)\n",
    "    mx = vec_simplify(mx)\n",
    "    display(Math(latex(Matrix(mx))))"
   ]
  },
  {
   "cell_type": "code",
   "execution_count": 79,
   "metadata": {},
   "outputs": [],
   "source": [
    "def tensorOfListOps2(*U):\n",
    "    '''Tensor Product of a list of operators, Result in np.kron(np.kron(A,B), C)'''\n",
    "    U_res = 1\n",
    "    if len(U)>0:\n",
    "        for u in U:\n",
    "            U_res = np.kron(U_res, np.array(u))\n",
    "        return U_res\n",
    "    return None"
   ]
  },
  {
   "cell_type": "code",
   "execution_count": 328,
   "metadata": {},
   "outputs": [],
   "source": [
    "# Define a function to check for 1/sqrt(2)\n",
    "def check_simplify(x):\n",
    "    if np.isclose(x, np.sqrt(2)/2, atol=1e-8):\n",
    "        return sp.Rational(1, 2) * sp.sqrt(2)\n",
    "    elif np.isclose(x, -np.sqrt(2)/2, atol=1e-8):\n",
    "        return -sp.Rational(1, 2) * sp.sqrt(2)\n",
    "    else:\n",
    "        return x\n",
    "\n",
    "# Vectorize the function\n",
    "vec_simplify = np.vectorize(check_simplify)"
   ]
  },
  {
   "attachments": {},
   "cell_type": "markdown",
   "metadata": {},
   "source": [
    "## Dx"
   ]
  },
  {
   "cell_type": "code",
   "execution_count": 303,
   "metadata": {},
   "outputs": [
    {
     "name": "stdout",
     "output_type": "stream",
     "text": [
      "Dx:\n"
     ]
    },
    {
     "data": {
      "text/latex": [
       "$\\displaystyle \\left[\\begin{array}{cccccccccccccccc}0 & 1 & 0 & 0 & 0 & 0 & 0 & 0 & 0 & 0 & 0 & 0 & 0 & 0 & 0 & 0\\\\1 & 0 & 0 & 0 & 0 & 0 & 0 & 0 & 0 & 0 & 0 & 0 & 0 & 0 & 0 & 0\\\\0 & 0 & 0 & 1 & 0 & 0 & 0 & 0 & 0 & 0 & 0 & 0 & 0 & 0 & 0 & 0\\\\0 & 0 & 1 & 0 & 0 & 0 & 0 & 0 & 0 & 0 & 0 & 0 & 0 & 0 & 0 & 0\\\\0 & 0 & 0 & 0 & 0 & 1 & 0 & 0 & 0 & 0 & 0 & 0 & 0 & 0 & 0 & 0\\\\0 & 0 & 0 & 0 & 1 & 0 & 0 & 0 & 0 & 0 & 0 & 0 & 0 & 0 & 0 & 0\\\\0 & 0 & 0 & 0 & 0 & 0 & 0 & 1 & 0 & 0 & 0 & 0 & 0 & 0 & 0 & 0\\\\0 & 0 & 0 & 0 & 0 & 0 & 1 & 0 & 0 & 0 & 0 & 0 & 0 & 0 & 0 & 0\\\\0 & 0 & 0 & 0 & 0 & 0 & 0 & 0 & 0 & 1 & 0 & 0 & 0 & 0 & 0 & 0\\\\0 & 0 & 0 & 0 & 0 & 0 & 0 & 0 & 1 & 0 & 0 & 0 & 0 & 0 & 0 & 0\\\\0 & 0 & 0 & 0 & 0 & 0 & 0 & 0 & 0 & 0 & 0 & 1 & 0 & 0 & 0 & 0\\\\0 & 0 & 0 & 0 & 0 & 0 & 0 & 0 & 0 & 0 & 1 & 0 & 0 & 0 & 0 & 0\\\\0 & 0 & 0 & 0 & 0 & 0 & 0 & 0 & 0 & 0 & 0 & 0 & 0 & 1 & 0 & 0\\\\0 & 0 & 0 & 0 & 0 & 0 & 0 & 0 & 0 & 0 & 0 & 0 & 1 & 0 & 0 & 0\\\\0 & 0 & 0 & 0 & 0 & 0 & 0 & 0 & 0 & 0 & 0 & 0 & 0 & 0 & 0 & 1\\\\0 & 0 & 0 & 0 & 0 & 0 & 0 & 0 & 0 & 0 & 0 & 0 & 0 & 0 & 1 & 0\\end{array}\\right]$"
      ],
      "text/plain": [
       "<IPython.core.display.Math object>"
      ]
     },
     "metadata": {},
     "output_type": "display_data"
    },
    {
     "name": "stdout",
     "output_type": "stream",
     "text": [
      "egvs of Dx: [ 1. -1.  1. -1.  1. -1.  1. -1.  1. -1.  1. -1.  1. -1.  1. -1.]\n"
     ]
    }
   ],
   "source": [
    "Dx = tensorOfListOps2(Id, Id, Id, X)\n",
    "print(\"Dx:\")\n",
    "display(Math(latex(Matrix(Dx))))\n",
    "print(f\"egvs of Dx: {np.linalg.eigvals(Dx)}\")\n",
    "egvs_dx, P_Dx = np.linalg.eig(Dx)\n",
    "d_dx = np.diag(egvs_dx)"
   ]
  },
  {
   "attachments": {},
   "cell_type": "markdown",
   "metadata": {},
   "source": [
    "d_swap ⊗ d_iz != d_swapiz = diag(egvs_dx)"
   ]
  },
  {
   "cell_type": "code",
   "execution_count": 256,
   "metadata": {},
   "outputs": [
    {
     "name": "stdout",
     "output_type": "stream",
     "text": [
      "d_right egvs:  [ 1. -1.  1. -1. -1.  1. -1.  1.  1. -1.  1. -1.  1. -1.  1. -1.]\n",
      "Dx egvs:       [ 1. -1.  1. -1.  1. -1.  1. -1.  1. -1.  1. -1.  1. -1.  1. -1.]\n"
     ]
    }
   ],
   "source": [
    "d_right = np.kron(d_swap, d_iz)\n",
    "d_right = np.where(np.abs(d_right) < 1e-10, 0, d_right)\n",
    "print(\"d_right egvs: \", np.diag(d_right))\n",
    "print(\"Dx egvs:      \", egvs_dx)"
   ]
  },
  {
   "attachments": {},
   "cell_type": "markdown",
   "metadata": {},
   "source": [
    "### P_Dx"
   ]
  },
  {
   "cell_type": "code",
   "execution_count": 200,
   "metadata": {},
   "outputs": [
    {
     "name": "stdout",
     "output_type": "stream",
     "text": [
      "P_Dx:\n"
     ]
    },
    {
     "data": {
      "text/latex": [
       "$\\displaystyle \\left[\\begin{array}{cccccccccccccccc}\\frac{\\sqrt{2}}{2} & - \\frac{\\sqrt{2}}{2} & 0 & 0 & 0 & 0 & 0 & 0 & 0 & 0 & 0 & 0 & 0 & 0 & 0 & 0\\\\\\frac{\\sqrt{2}}{2} & \\frac{\\sqrt{2}}{2} & 0 & 0 & 0 & 0 & 0 & 0 & 0 & 0 & 0 & 0 & 0 & 0 & 0 & 0\\\\0 & 0 & \\frac{\\sqrt{2}}{2} & - \\frac{\\sqrt{2}}{2} & 0 & 0 & 0 & 0 & 0 & 0 & 0 & 0 & 0 & 0 & 0 & 0\\\\0 & 0 & \\frac{\\sqrt{2}}{2} & \\frac{\\sqrt{2}}{2} & 0 & 0 & 0 & 0 & 0 & 0 & 0 & 0 & 0 & 0 & 0 & 0\\\\0 & 0 & 0 & 0 & \\frac{\\sqrt{2}}{2} & - \\frac{\\sqrt{2}}{2} & 0 & 0 & 0 & 0 & 0 & 0 & 0 & 0 & 0 & 0\\\\0 & 0 & 0 & 0 & \\frac{\\sqrt{2}}{2} & \\frac{\\sqrt{2}}{2} & 0 & 0 & 0 & 0 & 0 & 0 & 0 & 0 & 0 & 0\\\\0 & 0 & 0 & 0 & 0 & 0 & \\frac{\\sqrt{2}}{2} & - \\frac{\\sqrt{2}}{2} & 0 & 0 & 0 & 0 & 0 & 0 & 0 & 0\\\\0 & 0 & 0 & 0 & 0 & 0 & \\frac{\\sqrt{2}}{2} & \\frac{\\sqrt{2}}{2} & 0 & 0 & 0 & 0 & 0 & 0 & 0 & 0\\\\0 & 0 & 0 & 0 & 0 & 0 & 0 & 0 & \\frac{\\sqrt{2}}{2} & - \\frac{\\sqrt{2}}{2} & 0 & 0 & 0 & 0 & 0 & 0\\\\0 & 0 & 0 & 0 & 0 & 0 & 0 & 0 & \\frac{\\sqrt{2}}{2} & \\frac{\\sqrt{2}}{2} & 0 & 0 & 0 & 0 & 0 & 0\\\\0 & 0 & 0 & 0 & 0 & 0 & 0 & 0 & 0 & 0 & \\frac{\\sqrt{2}}{2} & - \\frac{\\sqrt{2}}{2} & 0 & 0 & 0 & 0\\\\0 & 0 & 0 & 0 & 0 & 0 & 0 & 0 & 0 & 0 & \\frac{\\sqrt{2}}{2} & \\frac{\\sqrt{2}}{2} & 0 & 0 & 0 & 0\\\\0 & 0 & 0 & 0 & 0 & 0 & 0 & 0 & 0 & 0 & 0 & 0 & \\frac{\\sqrt{2}}{2} & - \\frac{\\sqrt{2}}{2} & 0 & 0\\\\0 & 0 & 0 & 0 & 0 & 0 & 0 & 0 & 0 & 0 & 0 & 0 & \\frac{\\sqrt{2}}{2} & \\frac{\\sqrt{2}}{2} & 0 & 0\\\\0 & 0 & 0 & 0 & 0 & 0 & 0 & 0 & 0 & 0 & 0 & 0 & 0 & 0 & \\frac{\\sqrt{2}}{2} & - \\frac{\\sqrt{2}}{2}\\\\0 & 0 & 0 & 0 & 0 & 0 & 0 & 0 & 0 & 0 & 0 & 0 & 0 & 0 & \\frac{\\sqrt{2}}{2} & \\frac{\\sqrt{2}}{2}\\end{array}\\right]$"
      ],
      "text/plain": [
       "<IPython.core.display.Math object>"
      ]
     },
     "metadata": {},
     "output_type": "display_data"
    }
   ],
   "source": [
    "P_Dx_simplified = vec_simplify(P_Dx)\n",
    "\n",
    "print(\"P_Dx:\")\n",
    "display(Math(latex(Matrix(P_Dx_simplified))))"
   ]
  },
  {
   "attachments": {},
   "cell_type": "markdown",
   "metadata": {},
   "source": [
    "decomposition"
   ]
  },
  {
   "cell_type": "code",
   "execution_count": 135,
   "metadata": {},
   "outputs": [
    {
     "name": "stdout",
     "output_type": "stream",
     "text": [
      "element_P_Dx:\n"
     ]
    },
    {
     "data": {
      "text/latex": [
       "$\\displaystyle \\left[\\begin{matrix}\\frac{\\sqrt{2}}{2} & - \\frac{\\sqrt{2}}{2}\\\\\\frac{\\sqrt{2}}{2} & \\frac{\\sqrt{2}}{2}\\end{matrix}\\right]$"
      ],
      "text/plain": [
       "<IPython.core.display.Math object>"
      ]
     },
     "metadata": {},
     "output_type": "display_data"
    }
   ],
   "source": [
    "element_P_Dx = 1/np.sqrt(2) * np.array([[1, -1],\n",
    "                                        [1,  1]])\n",
    "\n",
    "element_P_Dx = vec_simplify(element_P_Dx)\n",
    "print(\"element_P_Dx:\")\n",
    "display(Math(latex(Matrix(element_P_Dx))))"
   ]
  },
  {
   "cell_type": "code",
   "execution_count": 140,
   "metadata": {},
   "outputs": [
    {
     "name": "stdout",
     "output_type": "stream",
     "text": [
      "P_Dx == U_tmp: True\n"
     ]
    }
   ],
   "source": [
    "P_Dx_restored = np.kron(np.identity(4), np.kron(Id, element_P_Dx))\n",
    "P_Dx_diff = P_Dx_restored - P_Dx\n",
    "\n",
    "print(f'P_Dx == U_tmp: {equal_tol(P_Dx, P_Dx_restored)}')"
   ]
  },
  {
   "cell_type": "code",
   "execution_count": 137,
   "metadata": {},
   "outputs": [
    {
     "data": {
      "text/latex": [
       "$\\displaystyle \\left[\\begin{matrix}\\frac{\\sqrt{2}}{2} & - \\frac{\\sqrt{2}}{2}\\\\\\frac{\\sqrt{2}}{2} & \\frac{\\sqrt{2}}{2}\\end{matrix}\\right]$"
      ],
      "text/plain": [
       "<IPython.core.display.Math object>"
      ]
     },
     "metadata": {},
     "output_type": "display_data"
    },
    {
     "data": {
      "image/png": "[encoded data removed]",
      "text/plain": [
       "<Figure size 185.453x117.056 with 1 Axes>"
      ]
     },
     "execution_count": 137,
     "metadata": {},
     "output_type": "execute_result"
    }
   ],
   "source": [
    "e_P_Dx_cir = genTranspiledGate(element_P_Dx, 1)\n",
    "displayCircuitMx(e_P_Dx_cir)\n",
    "e_P_Dx_cir.decompose().draw('mpl')"
   ]
  },
  {
   "attachments": {},
   "cell_type": "markdown",
   "metadata": {},
   "source": [
    "## U"
   ]
  },
  {
   "cell_type": "code",
   "execution_count": 299,
   "metadata": {},
   "outputs": [],
   "source": [
    "def permutationUMx(num_qubits, pairList, startIdx=0):\n",
    "    # Start with the identity matrix\n",
    "    permuMX = np.identity(2**num_qubits)\n",
    "    \n",
    "    # Perform each swap\n",
    "    for (i,j) in pairList:\n",
    "        i, j = i-startIdx, j-startIdx\n",
    "        if i != j:\n",
    "            permuMX[i,i], permuMX[j,j] = 0, 0\n",
    "            permuMX[i,j], permuMX[j,i] = 1, 1\n",
    "\n",
    "    return permuMX\n",
    "\n",
    "# permuTest = permutationUMx(4, [(5,6), (7,8)], startIdx=1)\n",
    "\n",
    "# display(Math(latex(Matrix(permuTest))))"
   ]
  },
  {
   "cell_type": "code",
   "execution_count": 306,
   "metadata": {},
   "outputs": [
    {
     "name": "stdout",
     "output_type": "stream",
     "text": [
      "left:\n"
     ]
    },
    {
     "data": {
      "text/latex": [
       "$\\displaystyle \\left[\\begin{array}{cccccccccccccccc}1.0 & 0 & 0 & 0 & 0 & 0 & 0 & 0 & 0 & 0 & 0 & 0 & 0 & 0 & 0 & 0\\\\0 & -1.0 & 0 & 0 & 0 & 0 & 0 & 0 & 0 & 0 & 0 & 0 & 0 & 0 & 0 & 0\\\\0 & 0 & 1.0 & 0 & 0 & 0 & 0 & 0 & 0 & 0 & 0 & 0 & 0 & 0 & 0 & 0\\\\0 & 0 & 0 & -1.0 & 0 & 0 & 0 & 0 & 0 & 0 & 0 & 0 & 0 & 0 & 0 & 0\\\\0 & 0 & 0 & 0 & 0 & 0 & 0 & 0 & 1.0 & 0 & 0 & 0 & 0 & 0 & 0 & 0\\\\0 & 0 & 0 & 0 & 0 & 0 & 0 & 0 & 0 & -1.0 & 0 & 0 & 0 & 0 & 0 & 0\\\\0 & 0 & 0 & 0 & 0 & 0 & 0 & 0 & 0 & 0 & 1.0 & 0 & 0 & 0 & 0 & 0\\\\0 & 0 & 0 & 0 & 0 & 0 & 0 & 0 & 0 & 0 & 0 & -1.0 & 0 & 0 & 0 & 0\\\\0 & 0 & 0 & 0 & 1.0 & 0 & 0 & 0 & 0 & 0 & 0 & 0 & 0 & 0 & 0 & 0\\\\0 & 0 & 0 & 0 & 0 & -1.0 & 0 & 0 & 0 & 0 & 0 & 0 & 0 & 0 & 0 & 0\\\\0 & 0 & 0 & 0 & 0 & 0 & 1.0 & 0 & 0 & 0 & 0 & 0 & 0 & 0 & 0 & 0\\\\0 & 0 & 0 & 0 & 0 & 0 & 0 & -1.0 & 0 & 0 & 0 & 0 & 0 & 0 & 0 & 0\\\\0 & 0 & 0 & 0 & 0 & 0 & 0 & 0 & 0 & 0 & 0 & 0 & 1.0 & 0 & 0 & 0\\\\0 & 0 & 0 & 0 & 0 & 0 & 0 & 0 & 0 & 0 & 0 & 0 & 0 & -1.0 & 0 & 0\\\\0 & 0 & 0 & 0 & 0 & 0 & 0 & 0 & 0 & 0 & 0 & 0 & 0 & 0 & 1.0 & 0\\\\0 & 0 & 0 & 0 & 0 & 0 & 0 & 0 & 0 & 0 & 0 & 0 & 0 & 0 & 0 & -1.0\\end{array}\\right]$"
      ],
      "text/plain": [
       "<IPython.core.display.Math object>"
      ]
     },
     "metadata": {},
     "output_type": "display_data"
    },
    {
     "name": "stdout",
     "output_type": "stream",
     "text": [
      "SWAPIZ:\n"
     ]
    },
    {
     "data": {
      "text/latex": [
       "$\\displaystyle \\left[\\begin{array}{cccccccccccccccc}1 & 0 & 0 & 0 & 0 & 0 & 0 & 0 & 0 & 0 & 0 & 0 & 0 & 0 & 0 & 0\\\\0 & -1 & 0 & 0 & 0 & 0 & 0 & 0 & 0 & 0 & 0 & 0 & 0 & 0 & 0 & 0\\\\0 & 0 & 1 & 0 & 0 & 0 & 0 & 0 & 0 & 0 & 0 & 0 & 0 & 0 & 0 & 0\\\\0 & 0 & 0 & -1 & 0 & 0 & 0 & 0 & 0 & 0 & 0 & 0 & 0 & 0 & 0 & 0\\\\0 & 0 & 0 & 0 & 0 & 0 & 0 & 0 & 1 & 0 & 0 & 0 & 0 & 0 & 0 & 0\\\\0 & 0 & 0 & 0 & 0 & 0 & 0 & 0 & 0 & -1 & 0 & 0 & 0 & 0 & 0 & 0\\\\0 & 0 & 0 & 0 & 0 & 0 & 0 & 0 & 0 & 0 & 1 & 0 & 0 & 0 & 0 & 0\\\\0 & 0 & 0 & 0 & 0 & 0 & 0 & 0 & 0 & 0 & 0 & -1 & 0 & 0 & 0 & 0\\\\0 & 0 & 0 & 0 & 1 & 0 & 0 & 0 & 0 & 0 & 0 & 0 & 0 & 0 & 0 & 0\\\\0 & 0 & 0 & 0 & 0 & -1 & 0 & 0 & 0 & 0 & 0 & 0 & 0 & 0 & 0 & 0\\\\0 & 0 & 0 & 0 & 0 & 0 & 1 & 0 & 0 & 0 & 0 & 0 & 0 & 0 & 0 & 0\\\\0 & 0 & 0 & 0 & 0 & 0 & 0 & -1 & 0 & 0 & 0 & 0 & 0 & 0 & 0 & 0\\\\0 & 0 & 0 & 0 & 0 & 0 & 0 & 0 & 0 & 0 & 0 & 0 & 1 & 0 & 0 & 0\\\\0 & 0 & 0 & 0 & 0 & 0 & 0 & 0 & 0 & 0 & 0 & 0 & 0 & -1 & 0 & 0\\\\0 & 0 & 0 & 0 & 0 & 0 & 0 & 0 & 0 & 0 & 0 & 0 & 0 & 0 & 1 & 0\\\\0 & 0 & 0 & 0 & 0 & 0 & 0 & 0 & 0 & 0 & 0 & 0 & 0 & 0 & 0 & -1\\end{array}\\right]$"
      ],
      "text/plain": [
       "<IPython.core.display.Math object>"
      ]
     },
     "metadata": {},
     "output_type": "display_data"
    }
   ],
   "source": [
    "element_P_Dx = 1/np.sqrt(2) * np.array([[1, -1],\n",
    "                                        [1,  1]])\n",
    "\n",
    "T_56_78 = permutationUMx(4, [(5,6), (7,8)], startIdx=1)\n",
    "\n",
    "U = np.kron(II, np.kron(Id, element_P_Dx)) @ T_56_78 @ np.kron(dagger(P_swap), II)\n",
    "\n",
    "left = dagger(U) @ Dx @ U\n",
    "left = np.where(np.abs(left) < 1e-10, 0, left)\n",
    "\n",
    "print(\"left:\")\n",
    "display(Math(latex(Matrix(left))))\n",
    "print(\"SWAPIZ:\")\n",
    "display(Math(latex(Matrix(SWAPIZ))))"
   ]
  },
  {
   "cell_type": "code",
   "execution_count": 308,
   "metadata": {},
   "outputs": [
    {
     "data": {
      "text/latex": [
       "$\\displaystyle \\left[\\begin{array}{cccccccccccccccc}0 & 0 & 0 & 0 & 0.5 & -0.5 & 0 & 0 & 0.5 & -0.5 & 0 & 0 & 0 & 0 & 0 & 0\\\\0 & 0 & 0 & 0 & 0.5 & 0.5 & 0 & 0 & 0.5 & 0.5 & 0 & 0 & 0 & 0 & 0 & 0\\\\0 & 0 & 0 & 0 & 0 & 0 & 0.5 & -0.5 & 0 & 0 & 0.5 & -0.5 & 0 & 0 & 0 & 0\\\\0 & 0 & 0 & 0 & 0 & 0 & 0.5 & 0.5 & 0 & 0 & 0.5 & 0.5 & 0 & 0 & 0 & 0\\\\0 & 0 & 0 & 0 & -0.5 & 0.5 & 0 & 0 & 0.5 & -0.5 & 0 & 0 & 0 & 0 & 0 & 0\\\\0 & 0 & 0 & 0 & 0.5 & 0.5 & 0 & 0 & -0.5 & -0.5 & 0 & 0 & 0 & 0 & 0 & 0\\\\0 & 0 & 0 & 0 & 0 & 0 & -0.5 & 0.5 & 0 & 0 & 0.5 & -0.5 & 0 & 0 & 0 & 0\\\\0 & 0 & 0 & 0 & 0 & 0 & 0.5 & 0.5 & 0 & 0 & -0.5 & -0.5 & 0 & 0 & 0 & 0\\\\0.707106781186548 & -0.707106781186548 & 0 & 0 & 0 & 0 & 0 & 0 & 0 & 0 & 0 & 0 & 0 & 0 & 0 & 0\\\\0.707106781186548 & 0.707106781186548 & 0 & 0 & 0 & 0 & 0 & 0 & 0 & 0 & 0 & 0 & 0 & 0 & 0 & 0\\\\0 & 0 & 0.707106781186548 & -0.707106781186548 & 0 & 0 & 0 & 0 & 0 & 0 & 0 & 0 & 0 & 0 & 0 & 0\\\\0 & 0 & 0.707106781186548 & 0.707106781186548 & 0 & 0 & 0 & 0 & 0 & 0 & 0 & 0 & 0 & 0 & 0 & 0\\\\0 & 0 & 0 & 0 & 0 & 0 & 0 & 0 & 0 & 0 & 0 & 0 & 0.707106781186548 & -0.707106781186548 & 0 & 0\\\\0 & 0 & 0 & 0 & 0 & 0 & 0 & 0 & 0 & 0 & 0 & 0 & 0.707106781186548 & 0.707106781186548 & 0 & 0\\\\0 & 0 & 0 & 0 & 0 & 0 & 0 & 0 & 0 & 0 & 0 & 0 & 0 & 0 & 0.707106781186548 & -0.707106781186548\\\\0 & 0 & 0 & 0 & 0 & 0 & 0 & 0 & 0 & 0 & 0 & 0 & 0 & 0 & 0.707106781186548 & 0.707106781186548\\end{array}\\right]$"
      ],
      "text/plain": [
       "<IPython.core.display.Math object>"
      ]
     },
     "metadata": {},
     "output_type": "display_data"
    }
   ],
   "source": [
    "U_simplified = vec_simplify(U)\n",
    "display(Math(latex(Matrix(U_simplified))))"
   ]
  },
  {
   "attachments": {},
   "cell_type": "markdown",
   "metadata": {},
   "source": [
    "check trace values"
   ]
  },
  {
   "cell_type": "code",
   "execution_count": 327,
   "metadata": {},
   "outputs": [
    {
     "name": "stdout",
     "output_type": "stream",
     "text": [
      "tr_left: 1.603462390144236\n",
      "tr_mid0: 1.603462390144236\n",
      "tr_mid1: 1.6034623901442364\n",
      "tr_mid2: 1.6034623901442364\n",
      "tr_right: 1.6034623901442364\n"
     ]
    }
   ],
   "source": [
    "test_rho2 = np.random.random((4,4))\n",
    "\n",
    "rho_composed = np.kron(test_rho2, rho_zero)\n",
    "\n",
    "tr_left = np.trace(U @ rho_composed @ dagger(U) @ Dx)\n",
    "print(f\"tr_left: {tr_left}\")\n",
    "\n",
    "tr_mid0 = np.trace(rho_composed @ dagger(U) @ Dx @ U)\n",
    "print(f\"tr_mid0: {tr_mid0}\")\n",
    "\n",
    "tr_mid1 = np.trace(rho_composed @ (np.kron(SWAP, IZ)))\n",
    "print(f\"tr_mid1: {tr_mid1}\")\n",
    "\n",
    "tr_mid2 = np.trace(test_rho2 @ SWAP) * np.trace(rho_zero @ IZ)\n",
    "print(f\"tr_mid2: {tr_mid2}\")\n",
    "\n",
    "tr_right = np.trace(test_rho2 @ SWAP)\n",
    "print(f\"tr_right: {tr_right}\")"
   ]
  },
  {
   "attachments": {},
   "cell_type": "markdown",
   "metadata": {},
   "source": [
    "## transpile U"
   ]
  },
  {
   "cell_type": "code",
   "execution_count": 310,
   "metadata": {},
   "outputs": [],
   "source": [
    "U_trans_cir = genTranspiledGate(U, 4)\n",
    "\n",
    "# print the matrix form\n",
    "# displayCircuitMx(U_trans_cir)\n",
    "\n",
    "# Now, 'transpiled_circuit' is a quantum circuit that implements the unitary operation\n",
    "# U_trans_cir.decompose().decompose().decompose().decompose().decompose().decompose().draw('mpl')"
   ]
  },
  {
   "attachments": {},
   "cell_type": "markdown",
   "metadata": {},
   "source": [
    "its three components"
   ]
  },
  {
   "cell_type": "code",
   "execution_count": null,
   "metadata": {},
   "outputs": [],
   "source": [
    "U_part1 = np.kron(np.identity(4), np.kron(Id, element_P_Dx))\n",
    "U_part2 = T_56_78\n",
    "U_part3 = np.kron(dagger(P_swap), np.identity(4))"
   ]
  },
  {
   "attachments": {},
   "cell_type": "markdown",
   "metadata": {},
   "source": [
    "part1: (Id⊗Id) ⊗ (Id⊗P_Dx)"
   ]
  },
  {
   "cell_type": "code",
   "execution_count": 359,
   "metadata": {},
   "outputs": [
    {
     "data": {
      "image/png": "[encoded data removed]",
      "text/plain": [
       "<Figure size 185.453x117.056 with 1 Axes>"
      ]
     },
     "execution_count": 359,
     "metadata": {},
     "output_type": "execute_result"
    }
   ],
   "source": [
    "e_P_Dx_cir.decompose().draw('mpl')"
   ]
  },
  {
   "attachments": {},
   "cell_type": "markdown",
   "metadata": {},
   "source": [
    "permutaion op"
   ]
  },
  {
   "cell_type": "code",
   "execution_count": null,
   "metadata": {},
   "outputs": [],
   "source": [
    "T_56 = permutationUMx(4, [(5,6)], startIdx=1)\n",
    "# display(Math(latex(Matrix(T_56))))\n",
    "T_56_trans_cir = genTranspiledGate(T_56, 4)\n",
    "# displayCircuitMx(T_56_trans_cir)\n",
    "T_56_trans_cir.decompose().decompose().decompose().decompose().decompose().decompose().draw('mpl')\n",
    "\n",
    "# U_part2_trans_cir = genTranspiledGate(U_part2, 4)\n",
    "# displayCircuitMx(U_part2_trans_cir)\n",
    "# U_part2_trans_cir.decompose().decompose().decompose().decompose().decompose().decompose().draw('mpl')"
   ]
  },
  {
   "cell_type": "code",
   "execution_count": null,
   "metadata": {},
   "outputs": [],
   "source": [
    "import pennylane as qml\n",
    "import pennylane.numpy as qnp\n",
    "import itertools"
   ]
  },
  {
   "cell_type": "code",
   "execution_count": 389,
   "metadata": {},
   "outputs": [
    {
     "name": "stdout",
     "output_type": "stream",
     "text": [
      "0: ─╭BasisState(x)─╭○─╭○─┤  <Z>\n",
      "1: ─├BasisState(x)─├●─├●─┤  <Z>\n",
      "2: ─├BasisState(x)─├○─├●─┤  <Z>\n",
      "3: ─╰BasisState(x)─╰X─╰X─┤  <Z>\n",
      "state: [0 0 0 0], output: [0. 0. 0. 0.]\n",
      "state: [0 0 0 1], output: [0. 0. 0. 1.]\n",
      "state: [0 0 1 0], output: [0. 0. 1. 0.]\n",
      "state: [0 0 1 1], output: [0. 0. 1. 1.]\n",
      "state: [0 1 0 0], output: [0. 1. 0. 1.]\n",
      "state: [0 1 0 1], output: [0. 1. 0. 0.]\n",
      "state: [0 1 1 0], output: [0. 1. 1. 1.]\n",
      "state: [0 1 1 1], output: [0. 1. 1. 0.]\n",
      "state: [1 0 0 0], output: [1. 0. 0. 0.]\n",
      "state: [1 0 0 1], output: [1. 0. 0. 1.]\n",
      "state: [1 0 1 0], output: [1. 0. 1. 0.]\n",
      "state: [1 0 1 1], output: [1. 0. 1. 1.]\n",
      "state: [1 1 0 0], output: [1. 1. 0. 0.]\n",
      "state: [1 1 0 1], output: [1. 1. 0. 1.]\n",
      "state: [1 1 1 0], output: [1. 1. 1. 0.]\n",
      "state: [1 1 1 1], output: [1. 1. 1. 1.]\n"
     ]
    }
   ],
   "source": [
    "dev = qml.device('default.qubit', wires=4)\n",
    "\n",
    "Ob = tensorOfListOps2(Id, Id, Id, Z)\n",
    "\n",
    "@qml.qnode(dev)\n",
    "def circuit(x):\n",
    "    qml.BasisState(x, wires=[0,1,2,3])\n",
    "    qml.ctrl(qml.PauliX, (0,1,2), control_values=(0,1,0))(wires=3)\n",
    "    qml.ctrl(qml.PauliX, (0,1,2), control_values=(0,1,1))(wires=3)\n",
    "    return qml.expval(qml.PauliZ(0)), qml.expval(qml.PauliZ(1)), qml.expval(qml.PauliZ(2)), qml.expval(qml.PauliZ(3))\n",
    "    # return qml.expval(qml.Hermitian(Ob, wires=[0,1,2,3]))\n",
    "\n",
    "# get the state vector output of the circuit\n",
    "print(qml.draw(circuit)(\"x\"))\n",
    "\n",
    "binary_arrays = np.array(list(itertools.product([0, 1], repeat=4)))\n",
    "\n",
    "for state in binary_arrays:\n",
    "    # state = state[::-1]\n",
    "    expvalues = circuit(state)\n",
    "    for i in range(4):\n",
    "        expvalues[i] = 0 if (expvalues[i] == 1) else 1\n",
    "    print(f\"state: {state}, output: {expvalues}\")"
   ]
  },
  {
   "cell_type": "code",
   "execution_count": 367,
   "metadata": {},
   "outputs": [
    {
     "name": "stdout",
     "output_type": "stream",
     "text": [
      "[[0 0 0 0]\n",
      " [0 0 0 1]\n",
      " [0 0 1 0]\n",
      " [0 0 1 1]\n",
      " [0 1 0 0]\n",
      " [0 1 0 1]\n",
      " [0 1 1 0]\n",
      " [0 1 1 1]\n",
      " [1 0 0 0]\n",
      " [1 0 0 1]\n",
      " [1 0 1 0]\n",
      " [1 0 1 1]\n",
      " [1 1 0 0]\n",
      " [1 1 0 1]\n",
      " [1 1 1 0]\n",
      " [1 1 1 1]]\n"
     ]
    }
   ],
   "source": [
    "\n",
    "\n",
    "print(binary_arrays)"
   ]
  },
  {
   "cell_type": "code",
   "execution_count": 336,
   "metadata": {},
   "outputs": [
    {
     "data": {
      "image/png": "[encoded data removed]",
      "text/plain": [
       "<Figure size 2210.55x2876.22 with 1 Axes>"
      ]
     },
     "execution_count": 336,
     "metadata": {},
     "output_type": "execute_result"
    }
   ],
   "source": [
    "# qml.matrix(plop)\n",
    "# op = qml.RX(0.54, wires=0)\n",
    "# qml.matrix(op)"
   ]
  },
  {
   "attachments": {},
   "cell_type": "markdown",
   "metadata": {},
   "source": [
    "part3: dagger(P_swap) ⊗ II"
   ]
  },
  {
   "cell_type": "code",
   "execution_count": 361,
   "metadata": {},
   "outputs": [
    {
     "data": {
      "text/latex": [
       "$\\displaystyle \\left[\\begin{matrix}0 & 0.707106781186548 & 0.707106781186548 & 0\\\\0 & 0.707106781186548 & -0.707106781186548 & 0\\\\1.0 & 0 & 0 & 0\\\\0 & 0 & 0 & 1.0\\end{matrix}\\right]$"
      ],
      "text/plain": [
       "<IPython.core.display.Math object>"
      ]
     },
     "metadata": {},
     "output_type": "display_data"
    },
    {
     "data": {
      "image/png": "[encoded data removed]",
      "text/plain": [
       "<Figure size 788.961x200.667 with 1 Axes>"
      ]
     },
     "execution_count": 361,
     "metadata": {},
     "output_type": "execute_result"
    }
   ],
   "source": [
    "P_swap_dag_cir = genTranspiledGate(dagger(P_swap), 2)\n",
    "displayCircuitMx(P_swap_dag_cir)\n",
    "P_swap_dag_cir.decompose().draw('mpl')"
   ]
  },
  {
   "cell_type": "code",
   "execution_count": null,
   "metadata": {},
   "outputs": [],
   "source": [
    "# U_part1_trans_cir = genTranspiledGate(U_part1, 4)\n",
    "# displayCircuitMx(U_part1_trans_cir)\n",
    "# U_part1_trans_cir.decompose().decompose().decompose().decompose().draw('mpl')"
   ]
  }
 ],
 "metadata": {
  "kernelspec": {
   "display_name": "pennyl",
   "language": "python",
   "name": "python3"
  },
  "language_info": {
   "codemirror_mode": {
    "name": "ipython",
    "version": 3
   },
   "file_extension": ".py",
   "mimetype": "text/x-python",
   "name": "python",
   "nbconvert_exporter": "python",
   "pygments_lexer": "ipython3",
   "version": "3.9.12"
  },
  "orig_nbformat": 4
 },
 "nbformat": 4,
 "nbformat_minor": 2
}
