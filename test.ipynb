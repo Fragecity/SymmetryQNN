{
 "cells": [
  {
   "cell_type": "code",
   "execution_count": 35,
   "metadata": {},
   "outputs": [],
   "source": [
    "import matplotlib.pyplot as plt\n",
    "from itertools import product\n",
    "import pennylane as qml\n",
    "import pennylane.numpy as np\n",
    "import pickle\n",
    "\n",
    "num_bits = 6\n",
    "NUM_LAYER = 28\n",
    "with open('parameter 4-10 2.pkl', 'rb') as f:\n",
    "    record = pickle.load(f)\n",
    "    para, paraG = record[-1]"
   ]
  },
  {
   "cell_type": "code",
   "execution_count": 36,
   "metadata": {},
   "outputs": [
    {
     "name": "stdout",
     "output_type": "stream",
     "text": [
      "Iter:   1 | Cost:  0.0407 | CostG:  1.3546 | accuracy:  77.08% | accuracyG:  81.25%\n",
      "Iter:   5 | Cost:  0.0373 | CostG:  1.3823 | accuracy:  81.25% | accuracyG:  80.21%\n",
      "Iter:   9 | Cost:  0.0352 | CostG:  1.3548 | accuracy:  79.17% | accuracyG:  83.33%\n",
      "Iter:  13 | Cost:  0.0355 | CostG:  1.3332 | accuracy:  82.29% | accuracyG:  82.29%\n",
      "Iter:  17 | Cost:  0.0301 | CostG:  1.3216 | accuracy:  80.21% | accuracyG:  82.29%\n",
      "Iter:  21 | Cost:  0.0297 | CostG:  1.3071 | accuracy:  81.25% | accuracyG:  82.29%\n",
      "Iter:  25 | Cost:  0.0286 | CostG:  1.2925 | accuracy:  81.25% | accuracyG:  82.29%\n",
      "Iter:  29 | Cost:  0.0283 | CostG:  1.2729 | accuracy:  82.29% | accuracyG:  82.29%\n",
      "Iter:  33 | Cost:  0.0298 | CostG:  1.2427 | accuracy:  81.25% | accuracyG:  82.29%\n",
      "Iter:  37 | Cost:  0.0294 | CostG:  1.2090 | accuracy:  81.25% | accuracyG:  80.21%\n",
      "Iter:  41 | Cost:  0.0301 | CostG:  1.1763 | accuracy:  81.25% | accuracyG:  80.21%\n",
      "Iter:  45 | Cost:  0.0312 | CostG:  1.1508 | accuracy:  81.25% | accuracyG:  80.21%\n",
      "Iter:  49 | Cost:  0.0313 | CostG:  1.1341 | accuracy:  81.25% | accuracyG:  78.12%\n",
      "Iter:  53 | Cost:  0.0304 | CostG:  1.1231 | accuracy:  80.21% | accuracyG:  78.12%\n",
      "Iter:  57 | Cost:  0.0276 | CostG:  1.1100 | accuracy:  79.17% | accuracyG:  77.08%\n",
      "Iter:  61 | Cost:  0.0244 | CostG:  1.0820 | accuracy:  81.25% | accuracyG:  77.08%\n",
      "Iter:  65 | Cost:  0.0244 | CostG:  1.0322 | accuracy:  79.17% | accuracyG:  80.21%\n",
      "Iter:  69 | Cost:  0.0256 | CostG:  1.0071 | accuracy:  82.29% | accuracyG:  81.25%\n",
      "Iter:  73 | Cost:  0.0257 | CostG:  0.9922 | accuracy:  81.25% | accuracyG:  80.21%\n",
      "Iter:  77 | Cost:  0.0252 | CostG:  0.9830 | accuracy:  82.29% | accuracyG:  80.21%\n"
     ]
    }
   ],
   "source": [
    "#%% import\n",
    "import pennylane.numpy as np\n",
    "import pennylane as qml\n",
    "import pickle, copy\n",
    "from DataGenerator import SwapSymmetry\n",
    "with open('data_symmetry5.pkl', 'rb') as f:\n",
    "        [num_bits, train_data, test_data, symmetry] = pickle.load(f)\n",
    "\n",
    "\n",
    "dev = qml.device('default.mixed', wires=num_bits)\n",
    "\n",
    "#%% Ansatz\n",
    "def ansatz(parameters, num_layers):\n",
    "    para_arr = [parameters[i:i+num_bits] for i in range(0, len(parameters), num_bits)]\n",
    "    para_arr.reverse()\n",
    "\n",
    "    qml.broadcast(qml.RZ, wires=range(num_bits), \n",
    "                  pattern=\"single\", parameters=para_arr.pop() )\n",
    "    for i in range(num_layers):\n",
    "        pattern = \"double\" if i%2 == 0 else \"double_odd\"\n",
    "        layer(num_bits, para_arr.pop(), pattern)\n",
    "    qml.broadcast(qml.RX, wires=range(num_bits), \n",
    "                  pattern=\"single\", parameters=para_arr.pop() )\n",
    "    \n",
    "@qml.qnode(dev, diff_method=\"backprop\", interface=\"torch\")\n",
    "def circuit(x, parameters, num_layers):\n",
    "    # x = np.append(x,x)\n",
    "    # x = np.append(x,[0])\n",
    "    qml.broadcast(qml.RY, wires=range(num_bits), \n",
    "                  pattern=\"single\", parameters=x )\n",
    "    ansatz(parameters, num_layers)\n",
    "\n",
    "    return qml.expval(qml.PauliZ(num_bits-1))\n",
    "\n",
    "def layer(num_bits, parameters, pattern):\n",
    "    qml.broadcast(qml.RY, wires=range(num_bits), \n",
    "                  pattern=\"single\", parameters=parameters )\n",
    "    qml.broadcast(qml.CNOT, wires=range(num_bits), pattern=pattern)\n",
    "\n",
    "# %% cost function\n",
    "\n",
    "def cost(parameter, num_layers):\n",
    "    # cst_values =  [(circuit(x, parameter, num_layers) + (-1)**label)**2\n",
    "    #                 for x, label in train_data ]\n",
    "    cst_values = []\n",
    "    for x, label in train_data:\n",
    "        cst_values.append(\n",
    "            ( circuit(x, parameter, num_layers) + (-1)**label )**2\n",
    "            )\n",
    "    return sum(cst_values) / len(train_data)\n",
    "\n",
    "@qml.qnode(dev, diff_method=\"backprop\", interface=\"torch\")\n",
    "def U_circ(parameters, num_layer):\n",
    "    ansatz(parameters, num_layer)\n",
    "    return qml.expval(qml.Identity(0))\n",
    "\n",
    "def costG(parameter, num_layer, lamd):\n",
    "    cst = cost(parameter, num_layer)\n",
    "    guid = g(parameter, num_layer)\n",
    "    return cst + lamd * guid\n",
    "\n",
    "def g(parameter, num_layer):\n",
    "    U = qml.matrix(U_circ)(parameter, num_layer)\n",
    "    return symmetry.symmetry_guidance(U)\n",
    "\n",
    "def accuracy(parameter, num_layer):\n",
    "    correct = 0\n",
    "    for rho,label in test_data: \n",
    "        prediction = np.ceil(circuit(rho, parameter, num_layer))\n",
    "        if np.abs(prediction - label) < 1 : correct += 1\n",
    "    return correct / len(test_data)\n",
    "\n",
    "\n",
    "\n",
    "from functools import partial\n",
    "\n",
    "\n",
    "    \n",
    "ETA = 0.04\n",
    "LAMD = 3\n",
    "MAX_ITER = 80\n",
    "NUM_PARA = (NUM_LAYER + 2) * num_bits\n",
    "opt = qml.AdamOptimizer(stepsize = ETA)\n",
    "\n",
    "cst_lst = []\n",
    "cstG_lst = []\n",
    "\n",
    "\n",
    "cost_ = partial(cost, num_layers = NUM_LAYER)\n",
    "costG_ = partial(costG, num_layer = NUM_LAYER, lamd = LAMD)\n",
    "accuracy_ = partial(accuracy, num_layer = NUM_LAYER)\n",
    "\n",
    "\n",
    "\n",
    "for it in range(MAX_ITER):\n",
    "\n",
    "    para, cst = opt.step_and_cost(cost_, para)\n",
    "    paraG, cstG = opt.step_and_cost(costG_, paraG)\n",
    "    cst_lst.append(cst)\n",
    "    cstG_lst.append(cstG/2)\n",
    "    # ac, acG = accuracy_(para), accuracy_(paraG)\n",
    "    record.append((para,paraG))\n",
    "\n",
    "    if it % 4 == 0: \n",
    "        print( f\"Iter: {it + 1 : 3d} | Cost: {cst : 0.4f} | CostG: {cstG : 0.4f} | accuracy: {accuracy_(para) : 3.2%} | accuracyG: {accuracy_(paraG) : 3.2%}\" )\n",
    "\n"
   ]
  },
  {
   "cell_type": "code",
   "execution_count": 37,
   "metadata": {},
   "outputs": [],
   "source": [
    "\n",
    "with open('parameter 4-10 2.pkl', 'wb') as f:\n",
    "    pickle.dump(record, f)"
   ]
  },
  {
   "cell_type": "code",
   "execution_count": 38,
   "metadata": {},
   "outputs": [
    {
     "data": {
      "text/plain": [
       "179"
      ]
     },
     "execution_count": 38,
     "metadata": {},
     "output_type": "execute_result"
    }
   ],
   "source": [
    "len(record)"
   ]
  }
 ],
 "metadata": {
  "kernelspec": {
   "display_name": "base",
   "language": "python",
   "name": "python3"
  },
  "language_info": {
   "codemirror_mode": {
    "name": "ipython",
    "version": 3
   },
   "file_extension": ".py",
   "mimetype": "text/x-python",
   "name": "python",
   "nbconvert_exporter": "python",
   "pygments_lexer": "ipython3",
   "version": "3.9.12"
  },
  "orig_nbformat": 4
 },
 "nbformat": 4,
 "nbformat_minor": 2
}
