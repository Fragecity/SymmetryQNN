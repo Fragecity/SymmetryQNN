{
 "cells": [
  {
   "cell_type": "code",
   "execution_count": 1,
   "metadata": {},
   "outputs": [],
   "source": [
    "%matplotlib inline"
   ]
  },
  {
   "attachments": {},
   "cell_type": "markdown",
   "metadata": {},
   "source": [
    "# CNOT eigen-decoposition"
   ]
  },
  {
   "cell_type": "code",
   "execution_count": 2,
   "metadata": {},
   "outputs": [
    {
     "name": "stdout",
     "output_type": "stream",
     "text": [
      "Eigenvalues:\n",
      " [ 1. -1.  1.  1.]\n",
      "Eigenvectors:\n",
      " [[ 0.          0.          1.          0.        ]\n",
      " [ 0.          0.          0.          1.        ]\n",
      " [ 0.70710678 -0.70710678  0.          0.        ]\n",
      " [ 0.70710678  0.70710678  0.          0.        ]]\n",
      "P matrix:\n",
      " [[ 0.          0.          1.          0.        ]\n",
      " [ 0.          0.          0.          1.        ]\n",
      " [ 0.70710678 -0.70710678  0.          0.        ]\n",
      " [ 0.70710678  0.70710678  0.          0.        ]]\n",
      "D matrix:\n",
      " [[ 1.  0.  0.  0.]\n",
      " [ 0. -1.  0.  0.]\n",
      " [ 0.  0.  1.  0.]\n",
      " [ 0.  0.  0.  1.]]\n",
      "P_inv matrix:\n",
      " [[ 0.          0.          0.70710678  0.70710678]\n",
      " [ 0.          0.         -0.70710678  0.70710678]\n",
      " [ 1.          0.          0.          0.        ]\n",
      " [ 0.          1.          0.          0.        ]]\n"
     ]
    }
   ],
   "source": [
    "import numpy as np\n",
    "\n",
    "# 定义CNOT门矩阵\n",
    "CNOT = np.array([[1, 0, 0, 0],\n",
    "                 [0, 1, 0, 0],\n",
    "                 [0, 0, 0, 1],\n",
    "                 [0, 0, 1, 0]])\n",
    "\n",
    "# 计算CNOT门的本征值和本征向量\n",
    "eigenvalues, eigenvectors = np.linalg.eig(CNOT)\n",
    "\n",
    "# 输出本征值和本征向量\n",
    "print(\"Eigenvalues:\\n\", eigenvalues)\n",
    "print(\"Eigenvectors:\\n\", eigenvectors)\n",
    "\n",
    "# 计算P和D矩阵\n",
    "P = eigenvectors\n",
    "D = np.diag(eigenvalues)\n",
    "P_inv = np.linalg.inv(P)\n",
    "\n",
    "\n",
    "# 输出P和D矩阵\n",
    "print(\"P matrix:\\n\", P)\n",
    "print(\"D matrix:\\n\", D)\n",
    "print(\"P_inv matrix:\\n\", P_inv)"
   ]
  },
  {
   "attachments": {},
   "cell_type": "markdown",
   "metadata": {},
   "source": [
    "# Circuit Form U(θ)"
   ]
  },
  {
   "cell_type": "code",
   "execution_count": 3,
   "metadata": {},
   "outputs": [
    {
     "data": {
      "text/latex": [
       "$\\displaystyle \\left[\\begin{matrix}1.0 & 0 & 0 & 0\\\\0 & 1.0 & 0 & 0\\\\0 & 0 & 0.5 e^{i \\pi \\cos^{2}{\\left(\\theta \\right)}} + 0.5 & 0.5 - 0.5 e^{i \\pi \\cos^{2}{\\left(\\theta \\right)}}\\\\0 & 0 & 0.5 - 0.5 e^{i \\pi \\cos^{2}{\\left(\\theta \\right)}} & 0.5 e^{i \\pi \\cos^{2}{\\left(\\theta \\right)}} + 0.5\\end{matrix}\\right]$"
      ],
      "text/plain": [
       "Matrix([\n",
       "[1.0,   0,                                 0,                                 0],\n",
       "[  0, 1.0,                                 0,                                 0],\n",
       "[  0,   0, 0.5*exp(I*pi*cos(theta)**2) + 0.5, 0.5 - 0.5*exp(I*pi*cos(theta)**2)],\n",
       "[  0,   0, 0.5 - 0.5*exp(I*pi*cos(theta)**2), 0.5*exp(I*pi*cos(theta)**2) + 0.5]])"
      ]
     },
     "execution_count": 3,
     "metadata": {},
     "output_type": "execute_result"
    }
   ],
   "source": [
    "import sympy as sp\n",
    "\n",
    "# 定义符号变量\n",
    "theta = sp.Symbol('theta', real=True)\n",
    "\n",
    "# 定义矩阵D\n",
    "D = sp.diag(1, sp.exp(sp.I*sp.pi*sp.cos(theta)**2), 1, 1)\n",
    "\n",
    "U = P * D * P_inv\n",
    "\n",
    "U"
   ]
  },
  {
   "attachments": {},
   "cell_type": "markdown",
   "metadata": {},
   "source": [
    "As the Z msmt result of input 00 and 11 are related to the front two columns of the matrix, we could easily found outputs of them are 1 and -1, respectively. Both of them are independent of θ."
   ]
  },
  {
   "cell_type": "code",
   "execution_count": 4,
   "metadata": {},
   "outputs": [
    {
     "data": {
      "text/latex": [
       "$\\displaystyle \\left[\\begin{matrix}1 & 0\\\\0 & 1\\end{matrix}\\right]$"
      ],
      "text/plain": [
       "Matrix([\n",
       "[1, 0],\n",
       "[0, 1]])"
      ]
     },
     "execution_count": 4,
     "metadata": {},
     "output_type": "execute_result"
    }
   ],
   "source": [
    "from sympy import sqrt, symbols, pi, cos, Matrix, latex, trace\n",
    "from IPython.display import display, Math\n",
    "\n",
    "sp.eye(2)"
   ]
  },
  {
   "attachments": {},
   "cell_type": "markdown",
   "metadata": {},
   "source": [
    "# O_tilde"
   ]
  },
  {
   "cell_type": "code",
   "execution_count": 5,
   "metadata": {},
   "outputs": [
    {
     "name": "stdout",
     "output_type": "stream",
     "text": [
      "Observable matrix:\n",
      "[[ 1.  0.  0.  0.]\n",
      " [ 0. -1.  0. -0.]\n",
      " [ 0.  0.  1.  0.]\n",
      " [ 0. -0.  0. -1.]]\n",
      "U:\n"
     ]
    },
    {
     "data": {
      "text/latex": [
       "$\\displaystyle \\left[\\begin{matrix}1.0 & 0 & 0 & 0\\\\0 & 1.0 & 0 & 0\\\\0 & 0 & 0.5 e^{i \\pi \\cos^{2}{\\left(\\theta \\right)}} + 0.5 & 0.5 - 0.5 e^{i \\pi \\cos^{2}{\\left(\\theta \\right)}}\\\\0 & 0 & 0.5 - 0.5 e^{i \\pi \\cos^{2}{\\left(\\theta \\right)}} & 0.5 e^{i \\pi \\cos^{2}{\\left(\\theta \\right)}} + 0.5\\end{matrix}\\right]$"
      ],
      "text/plain": [
       "<IPython.core.display.Math object>"
      ]
     },
     "metadata": {},
     "output_type": "display_data"
    },
    {
     "name": "stdout",
     "output_type": "stream",
     "text": [
      "U(a)^\\dagger:\n"
     ]
    },
    {
     "data": {
      "text/latex": [
       "$\\displaystyle \\left[\\begin{matrix}1.0 & 0 & 0 & 0\\\\0 & 1.0 & 0 & 0\\\\0 & 0 & 0.5 + 0.5 e^{- i \\pi \\cos^{2}{\\left(\\theta \\right)}} & 0.5 - 0.5 e^{- i \\pi \\cos^{2}{\\left(\\theta \\right)}}\\\\0 & 0 & 0.5 - 0.5 e^{- i \\pi \\cos^{2}{\\left(\\theta \\right)}} & 0.5 + 0.5 e^{- i \\pi \\cos^{2}{\\left(\\theta \\right)}}\\end{matrix}\\right]$"
      ],
      "text/plain": [
       "<IPython.core.display.Math object>"
      ]
     },
     "metadata": {},
     "output_type": "display_data"
    },
    {
     "name": "stdout",
     "output_type": "stream",
     "text": [
      "O_tilde:\n"
     ]
    },
    {
     "data": {
      "text/latex": [
       "$\\displaystyle \\left[\\begin{matrix}1.0 & 0 & 0 & 0\\\\0 & -1.0 & 0 & 0\\\\0 & 0 & 1.0 \\cos{\\left(\\pi \\cos^{2}{\\left(\\theta \\right)} \\right)} & - 1.0 i \\sin{\\left(\\pi \\sin^{2}{\\left(\\theta \\right)} \\right)}\\\\0 & 0 & 1.0 i \\sin{\\left(\\pi \\sin^{2}{\\left(\\theta \\right)} \\right)} & - 1.0 \\cos{\\left(\\pi \\cos^{2}{\\left(\\theta \\right)} \\right)}\\end{matrix}\\right]$"
      ],
      "text/plain": [
       "<IPython.core.display.Math object>"
      ]
     },
     "metadata": {},
     "output_type": "display_data"
    }
   ],
   "source": [
    "from sympy import tensorproduct\n",
    "\n",
    "II = np.eye(2)\n",
    "Z = np.array([[1, 0], [0, -1]])\n",
    "Ob = np.kron(II, Z)\n",
    "\n",
    "print(\"Observable matrix:\")\n",
    "print(Ob)\n",
    "\n",
    "# 计算U(a)^\\dagger O U(a)\n",
    "U_dagger = U.H\n",
    "O_tilde = U_dagger @ Ob @ U\n",
    "O_tilde.simplify()\n",
    "\n",
    "print(\"U:\")\n",
    "display(Math(latex(U)))\n",
    "print(\"U(a)^\\dagger:\")\n",
    "display(Math(latex(U_dagger)))\n",
    "# print(\"U(a)^\\dagger @ Ob:\")\n",
    "# display(Math(latex(U_dagger@Ob)))\n",
    "print(\"O_tilde:\")\n",
    "display(Math(latex(O_tilde)))"
   ]
  },
  {
   "attachments": {},
   "cell_type": "markdown",
   "metadata": {},
   "source": [
    "# PO and SG"
   ]
  },
  {
   "cell_type": "code",
   "execution_count": 6,
   "metadata": {},
   "outputs": [
    {
     "name": "stdout",
     "output_type": "stream",
     "text": [
      "PO1 matrix:\n"
     ]
    },
    {
     "data": {
      "text/latex": [
       "$\\displaystyle \\left[\\begin{matrix}1.0 & 0 & 0 & 0\\\\0 & 1.0 \\cos{\\left(\\pi \\cos^{2}{\\left(\\theta \\right)} \\right)} & 0 & - 1.0 i \\sin{\\left(\\pi \\sin^{2}{\\left(\\theta \\right)} \\right)}\\\\0 & 0 & -1.0 & 0\\\\0 & 1.0 i \\sin{\\left(\\pi \\sin^{2}{\\left(\\theta \\right)} \\right)} & 0 & - 1.0 \\cos{\\left(\\pi \\cos^{2}{\\left(\\theta \\right)} \\right)}\\end{matrix}\\right]$"
      ],
      "text/plain": [
       "<IPython.core.display.Math object>"
      ]
     },
     "metadata": {},
     "output_type": "display_data"
    },
    {
     "name": "stdout",
     "output_type": "stream",
     "text": [
      "PO2 matrix:\n"
     ]
    },
    {
     "data": {
      "text/latex": [
       "$\\displaystyle \\left[\\begin{matrix}1.0 & 0 & 0 & 0\\\\0 & -1.0 & 0 & 0\\\\0 & 0 & 1.0 \\cos{\\left(\\pi \\cos^{2}{\\left(\\theta \\right)} \\right)} & - 1.0 i \\sin{\\left(\\pi \\sin^{2}{\\left(\\theta \\right)} \\right)}\\\\0 & 0 & 1.0 i \\sin{\\left(\\pi \\sin^{2}{\\left(\\theta \\right)} \\right)} & - 1.0 \\cos{\\left(\\pi \\cos^{2}{\\left(\\theta \\right)} \\right)}\\end{matrix}\\right]$"
      ],
      "text/plain": [
       "<IPython.core.display.Math object>"
      ]
     },
     "metadata": {},
     "output_type": "display_data"
    },
    {
     "name": "stdout",
     "output_type": "stream",
     "text": [
      "PO matrix:\n"
     ]
    },
    {
     "data": {
      "text/latex": [
       "$\\displaystyle \\left[\\begin{matrix}1.0 & 0 & 0 & 0\\\\0 & 0.5 \\cos{\\left(\\pi \\cos^{2}{\\left(\\theta \\right)} \\right)} - 0.5 & 0 & - 0.5 i \\sin{\\left(\\pi \\sin^{2}{\\left(\\theta \\right)} \\right)}\\\\0 & 0 & 0.5 \\cos{\\left(\\pi \\cos^{2}{\\left(\\theta \\right)} \\right)} - 0.5 & - 0.5 i \\sin{\\left(\\pi \\sin^{2}{\\left(\\theta \\right)} \\right)}\\\\0 & 0.5 i \\sin{\\left(\\pi \\sin^{2}{\\left(\\theta \\right)} \\right)} & 0.5 i \\sin{\\left(\\pi \\sin^{2}{\\left(\\theta \\right)} \\right)} & - 1.0 \\cos{\\left(\\pi \\cos^{2}{\\left(\\theta \\right)} \\right)}\\end{matrix}\\right]$"
      ],
      "text/plain": [
       "<IPython.core.display.Math object>"
      ]
     },
     "metadata": {},
     "output_type": "display_data"
    },
    {
     "name": "stdout",
     "output_type": "stream",
     "text": [
      "HS_norm:\n"
     ]
    },
    {
     "data": {
      "text/latex": [
       "$\\displaystyle 0.5 \\sin^{2}{\\left(\\pi \\sin^{2}{\\left(\\theta \\right)} \\right)} - 1.0 \\cos{\\left(\\pi \\sin^{2}{\\left(\\theta \\right)} \\right)} + 1.0$"
      ],
      "text/plain": [
       "<IPython.core.display.Math object>"
      ]
     },
     "metadata": {},
     "output_type": "display_data"
    }
   ],
   "source": [
    "SWAP = Matrix([[1, 0, 0, 0],\n",
    "               [0, 0, 1, 0],\n",
    "               [0, 1, 0, 0],\n",
    "               [0, 0, 0, 1]])\n",
    "\n",
    "S_dagger = SWAP.T  # SWAP 门是自它的转置的逆，因此 S^† = S^T\n",
    "PO1 = S_dagger @ O_tilde @ SWAP\n",
    "PO1.simplify()\n",
    "print(\"PO1 matrix:\")\n",
    "display(Math(latex(PO1)))\n",
    "\n",
    "II = Matrix([[1, 0, 0, 0],\n",
    "               [0, 1, 0, 0],\n",
    "               [0, 0, 1, 0],\n",
    "               [0, 0, 0, 1]])\n",
    "PO2 = II @ O_tilde @ II\n",
    "PO2.simplify()\n",
    "print(\"PO2 matrix:\")\n",
    "display(Math(latex(PO2)))\n",
    "\n",
    "PO = 1/2 * (PO1 + PO2)\n",
    "\n",
    "print(\"PO matrix:\")\n",
    "display(Math(latex(PO)))\n",
    "\n",
    "# 计算 PO 和 O_tilde 之间的差\n",
    "diff_matrix = PO - O_tilde\n",
    "\n",
    "# 计算 H-S norm\n",
    "# HS_norm = sqrt(sum([abs(elem)**2 for elem in diff_matrix]))\n",
    "# HS_norm = sqrt(trace(diff_matrix.H * diff_matrix))\n",
    "HS_norm = trace(diff_matrix.H * diff_matrix)\n",
    "\n",
    "# 简化表达式\n",
    "HS_norm = HS_norm.simplify()\n",
    "\n",
    "print(\"HS_norm:\")\n",
    "display(Math(latex(HS_norm)))"
   ]
  },
  {
   "attachments": {},
   "cell_type": "markdown",
   "metadata": {},
   "source": [
    "# SG Plot"
   ]
  },
  {
   "cell_type": "code",
   "execution_count": 7,
   "metadata": {},
   "outputs": [
    {
     "data": {
      "image/png": "[encoded data removed]",
      "text/plain": [
       "<Figure size 720x432 with 1 Axes>"
      ]
     },
     "metadata": {
      "needs_background": "light"
     },
     "output_type": "display_data"
    }
   ],
   "source": [
    "import numpy as np\n",
    "import sympy as sp\n",
    "import matplotlib.pyplot as plt\n",
    "# from IPython.display import display\n",
    "\n",
    "y = sp.lambdify(theta, HS_norm, 'numpy')\n",
    "theta = np.linspace(-np.pi/2, np.pi/2, 100)  # 在区间 [-2, 2] 内创建 1000 个等间距的点\n",
    "y = y(theta)\n",
    "\n",
    "fig = plt.figure(figsize=(10, 6))  # 设置图像大小\n",
    "plt.plot(theta, y)  # 绘制函数图像\n",
    "plt.xlabel('theta')  # 设置 x 轴标签\n",
    "plt.ylabel('y')  # 设置 y 轴标签\n",
    "plt.title('SG(θ)')  # 设置标题\n",
    "plt.grid()  # 显示网格线\n",
    "\n",
    "# display(fig)  # 显示图像\n",
    "# plt.close(fig)  # 关闭图像，防止重复显示"
   ]
  }
 ],
 "metadata": {
  "kernelspec": {
   "display_name": "pennyl",
   "language": "python",
   "name": "python3"
  },
  "language_info": {
   "codemirror_mode": {
    "name": "ipython",
    "version": 3
   },
   "file_extension": ".py",
   "mimetype": "text/x-python",
   "name": "python",
   "nbconvert_exporter": "python",
   "pygments_lexer": "ipython3",
   "version": "3.9.12"
  },
  "orig_nbformat": 4
 },
 "nbformat": 4,
 "nbformat_minor": 2
}
