{
 "cells": [
  {
   "cell_type": "code",
   "execution_count": 157,
   "metadata": {},
   "outputs": [],
   "source": [
    "import numpy as np\n",
    "from numpy import exp, pi\n",
    "S_c = [([0,1,0], 1), ([0,1,1], 0), ([1,0,1], 0), ([1,1,1], 0)]\n",
    "T_c = [([1,0,0], 1), ([0,0,1], 1), ([1,0,1], 0), ([0,0,0], 0)]\n",
    "\n",
    "from qiskit import QuantumCircuit\n",
    "num_qubits = 3\n",
    "def encode(data) -> QuantumCircuit:\n",
    "    num_qubits = len(data)\n",
    "    qc = QuantumCircuit(num_qubits)\n",
    "    for k,i in enumerate(data): \n",
    "        if i == 1: qc.x(k)\n",
    "    return qc\n",
    "\n",
    "S = [(encode(s[0]), s[1]) for s in S_c]\n",
    "T = [(encode(t[0]), t[1]) for t in T_c]"
   ]
  },
  {
   "cell_type": "code",
   "execution_count": 158,
   "metadata": {},
   "outputs": [
    {
     "data": {
      "text/html": [
       "<pre style=\"word-wrap: normal;white-space: pre;background: #fff0;line-height: 1.1;font-family: &quot;Courier New&quot;,Courier,monospace\">     ┌───────────────────┐            ┌───────────────────┐ ░ »\n",
       "q_0: ┤ U(θ[0],θ[1],θ[2]) ├─────■──────┤ U(θ[6],θ[7],θ[8]) ├─░─»\n",
       "     └───────────────────┘┌────┴─────┐└───────────────────┘ ░ »\n",
       "q_1: ─────────────────────┤ Ry(θ[3]) ├──────────────────────░─»\n",
       "                          └──────────┘                      ░ »\n",
       "q_2: ───────────────────────────────────────────────────────░─»\n",
       "                                                            ░ »\n",
       "«                                                                  ░ »\n",
       "«q_0: ─────────────────────────────────────────────────────────────░─»\n",
       "«     ┌─────────────────────┐             ┌──────────────────────┐ ░ »\n",
       "«q_1: ┤ U(θ[9],θ[10],θ[11]) ├──────■──────┤ U(θ[15],θ[16],θ[17]) ├─░─»\n",
       "«     └─────────────────────┘┌─────┴─────┐└──────────────────────┘ ░ »\n",
       "«q_2: ───────────────────────┤ Ry(θ[12]) ├─────────────────────────░─»\n",
       "«                            └───────────┘                         ░ »\n",
       "«                             ┌───────────┐                        \n",
       "«q_0: ────────────────────────┤ Ry(θ[21]) ├────────────────────────\n",
       "«                             └─────┬─────┘                        \n",
       "«q_1: ──────────────────────────────┼──────────────────────────────\n",
       "«     ┌──────────────────────┐      │      ┌──────────────────────┐\n",
       "«q_2: ┤ U(θ[18],θ[19],θ[20]) ├──────■──────┤ U(θ[24],θ[25],θ[26]) ├\n",
       "«     └──────────────────────┘             └──────────────────────┘</pre>"
      ],
      "text/plain": [
       "     ┌───────────────────┐            ┌───────────────────┐ ░ »\n",
       "q_0: ┤ U(θ[0],θ[1],θ[2]) ├─────■──────┤ U(θ[6],θ[7],θ[8]) ├─░─»\n",
       "     └───────────────────┘┌────┴─────┐└───────────────────┘ ░ »\n",
       "q_1: ─────────────────────┤ Ry(θ[3]) ├──────────────────────░─»\n",
       "                          └──────────┘                      ░ »\n",
       "q_2: ───────────────────────────────────────────────────────░─»\n",
       "                                                            ░ »\n",
       "«                                                                  ░ »\n",
       "«q_0: ─────────────────────────────────────────────────────────────░─»\n",
       "«     ┌─────────────────────┐             ┌──────────────────────┐ ░ »\n",
       "«q_1: ┤ U(θ[9],θ[10],θ[11]) ├──────■──────┤ U(θ[15],θ[16],θ[17]) ├─░─»\n",
       "«     └─────────────────────┘┌─────┴─────┐└──────────────────────┘ ░ »\n",
       "«q_2: ───────────────────────┤ Ry(θ[12]) ├─────────────────────────░─»\n",
       "«                            └───────────┘                         ░ »\n",
       "«                             ┌───────────┐                        \n",
       "«q_0: ────────────────────────┤ Ry(θ[21]) ├────────────────────────\n",
       "«                             └─────┬─────┘                        \n",
       "«q_1: ──────────────────────────────┼──────────────────────────────\n",
       "«     ┌──────────────────────┐      │      ┌──────────────────────┐\n",
       "«q_2: ┤ U(θ[18],θ[19],θ[20]) ├──────■──────┤ U(θ[24],θ[25],θ[26]) ├\n",
       "«     └──────────────────────┘             └──────────────────────┘"
      ]
     },
     "execution_count": 158,
     "metadata": {},
     "output_type": "execute_result"
    }
   ],
   "source": [
    "from qiskit.circuit import QuantumCircuit, ParameterVector\n",
    "ansatz = QuantumCircuit(3)\n",
    "def univ_2bits(ansatz: QuantumCircuit, parameters, ind):\n",
    "    ansatz.u(parameters[0], parameters[1], parameters[2], ind)\n",
    "    ansatz.cry(parameters[3], ind, (ind+1) % ansatz.num_qubits)\n",
    "    ansatz.u(parameters[6], parameters[7], parameters[8], ind)\n",
    "\n",
    "theta = ParameterVector('θ', 27)\n",
    "# univ_2bits(ansatz, theta[0:6], 0)\n",
    "univ_2bits(ansatz, theta[0:9], 0)\n",
    "ansatz.barrier()\n",
    "# univ_2bits(ansatz, theta[6:12], 1)\n",
    "univ_2bits(ansatz, theta[9:18], 1)\n",
    "ansatz.barrier()\n",
    "# univ_2bits(ansatz, theta[12:18], 2)\n",
    "univ_2bits(ansatz, theta[18:27], 2)\n",
    "ansatz.draw()"
   ]
  },
  {
   "cell_type": "code",
   "execution_count": 159,
   "metadata": {},
   "outputs": [],
   "source": [
    "from qiskit.providers.aer import AerSimulator\n",
    "from qiskit.utils import QuantumInstance\n",
    "from qiskit.opflow import StateFn, PauliExpectation, CircuitSampler, Gradient, Z, I \n",
    "from qiskit import transpile\n",
    "# Initialize Gradient calculator & Sampler\n",
    "shifter = Gradient()\n",
    "sampler = CircuitSampler(QuantumInstance(AerSimulator()))\n",
    "ansatz = transpile(ansatz)\n",
    "# ansatz = RealAmplitudes(num_qubits, reps=2, entanglement='circular')\n",
    "\n",
    "observable = Z^I^I # + I^Z^I + I^I^Z\n",
    "\n",
    "def eval_expct(ansatz:QuantumCircuit, theta):\n",
    "    expectation = StateFn(observable, is_measurement=True) @ StateFn(ansatz)\n",
    "    pauli_basis = PauliExpectation().convert(expectation)\n",
    "    value_dict = dict(zip(ansatz.parameters, theta))\n",
    "    result = sampler.convert(pauli_basis, params=value_dict).eval()\n",
    "    return np.real(result)\n"
   ]
  },
  {
   "cell_type": "code",
   "execution_count": 160,
   "metadata": {},
   "outputs": [],
   "source": [
    "def logistic(x, k = 2):\n",
    "    mother = 1 + exp(- k*x )\n",
    "    return 1 / mother\n",
    "\n",
    "def cost( para):\n",
    "    loss = 0\n",
    "    for qcirc, label in S:\n",
    "        qc = qcirc.compose(ansatz)\n",
    "        judgement = logistic(eval_expct(qc, para))\n",
    "        loss += (judgement - label)**2\n",
    "    return loss"
   ]
  },
  {
   "cell_type": "code",
   "execution_count": 161,
   "metadata": {},
   "outputs": [],
   "source": [
    "def grad(func, para: np.array, EPS = 0.1) -> np.array:\n",
    "    n = len(para)\n",
    "    gradient = [0]*n\n",
    "    for i in range(n):\n",
    "        # calculate partial f_i\n",
    "        e_i = np.identity(n)[:, i]\n",
    "        plus = para + EPS*e_i\n",
    "        minus = para - EPS*e_i\n",
    "        gradient[i] = (func(plus) - func(minus)) / (2*EPS)\n",
    "    return np.array(gradient)\n",
    "\n",
    "\n",
    "from copy import copy\n",
    "\n",
    "def grad_des(func, para, callback, maxiter = 100, eta = 0.5):\n",
    "    theta = copy(para)\n",
    "    for i in range(maxiter):\n",
    "        callback(func(theta), theta)\n",
    "        theta = theta - eta * grad(func, theta)"
   ]
  },
  {
   "cell_type": "code",
   "execution_count": 162,
   "metadata": {},
   "outputs": [],
   "source": [
    "from My_qcirc import generate_freegroup, SWAP, tensor, Ry,Ad, trace, dagger\n",
    "from qiskit.quantum_info.operators import Operator\n",
    "\n",
    "H = generate_freegroup([SWAP(0,1,3), SWAP(1,2,3), SWAP(2,0,3)])\n",
    "\n",
    "def Twirling(O: np.matrix, symmetry_group: list) -> np.matrix:\n",
    "    SOS_list = [Ad(symmetry_op, O) for symmetry_op in symmetry_group ]\n",
    "    return 1/6 * sum(O)\n",
    "\n",
    "def g(para, observable, symmetry_group) -> float:\n",
    "    value_dict = dict(zip(ansatz.parameters, para))\n",
    "    U = np.matrix(Operator(ansatz.bind_parameters(value_dict)))\n",
    "    O = Ad(U, np.matrix(Operator(observable)))\n",
    "    PO = Twirling(O, symmetry_group)\n",
    "    delta = O - PO\n",
    "    return trace(delta @ dagger(delta)).real\n"
   ]
  },
  {
   "cell_type": "code",
   "execution_count": 163,
   "metadata": {},
   "outputs": [],
   "source": [
    "init_para = np.random.random(ansatz.num_parameters) * 2*pi\n",
    "maxiter = 15\n",
    "\n",
    "func_list = []\n",
    "x_list = []\n",
    "def callback(y, x):\n",
    "    func_list.append(y)\n",
    "    x_list.append(x)\n",
    "\n",
    "grad_des(cost, init_para, callback, maxiter = maxiter)\n"
   ]
  },
  {
   "cell_type": "code",
   "execution_count": 164,
   "metadata": {},
   "outputs": [],
   "source": [
    "from functools import partial\n",
    "gg = partial(g, observable = observable, symmetry_group = H)\n",
    "\n",
    "lamd = 1\n",
    "funcG_list = []\n",
    "xG_list = []\n",
    "def callback_g(y, x):\n",
    "    funcG_list.append(y - lamd*gg(x))\n",
    "    xG_list.append(x)\n",
    "grad_des(lambda x: cost(x) + lamd * gg(x), \n",
    "        init_para, callback_g, maxiter = maxiter)"
   ]
  },
  {
   "cell_type": "code",
   "execution_count": 165,
   "metadata": {},
   "outputs": [
    {
     "data": {
      "text/plain": [
       "<matplotlib.legend.Legend at 0x16a85a1afa0>"
      ]
     },
     "execution_count": 165,
     "metadata": {},
     "output_type": "execute_result"
    },
    {
     "data": {
      "image/png": "[encoded data removed]",
      "text/plain": [
       "<Figure size 432x288 with 1 Axes>"
      ]
     },
     "metadata": {
      "needs_background": "light"
     },
     "output_type": "display_data"
    }
   ],
   "source": [
    "import matplotlib.pyplot as plt\n",
    "plt.plot(func_list, label='without guidance')\n",
    "plt.plot(funcG_list, label='with guidance')\n",
    "plt.legend()"
   ]
  },
  {
   "cell_type": "code",
   "execution_count": 170,
   "metadata": {},
   "outputs": [
    {
     "name": "stdout",
     "output_type": "stream",
     "text": [
      "test error without symmetry error: 1.513080\n",
      "test error with symmetry error: 1.407832\n",
      "improvement rate: 0.074759\n"
     ]
    }
   ],
   "source": [
    "def test_err( para):\n",
    "    loss = 0\n",
    "    for qcirc, label in T:\n",
    "        qc = qcirc.compose(ansatz)\n",
    "        judgement = logistic(eval_expct(qc, para))\n",
    "        loss += (judgement - label)**2\n",
    "    return loss\n",
    "\n",
    "err_1 = test_err(x_list[-1])\n",
    "err_2 = test_err(xG_list[-1])\n",
    "\n",
    "print(\"test error without symmetry error: %f\" % err_1)\n",
    "print(\"test error with symmetry error: %f\" % err_2)\n",
    "print(\"improvement rate: %f\" % (err_1/err_2 -1))"
   ]
  }
 ],
 "metadata": {
  "kernelspec": {
   "display_name": "base",
   "language": "python",
   "name": "python3"
  },
  "language_info": {
   "codemirror_mode": {
    "name": "ipython",
    "version": 3
   },
   "file_extension": ".py",
   "mimetype": "text/x-python",
   "name": "python",
   "nbconvert_exporter": "python",
   "pygments_lexer": "ipython3",
   "version": "3.9.12"
  },
  "orig_nbformat": 4,
  "vscode": {
   "interpreter": {
    "hash": "91bb753b057673435fb8d6f6a083e6c818364728098c7ae050ca3a25357dd754"
   }
  }
 },
 "nbformat": 4,
 "nbformat_minor": 2
}
