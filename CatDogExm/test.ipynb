{
 "cells": [
  {
   "cell_type": "code",
   "execution_count": 3,
   "metadata": {},
   "outputs": [],
   "source": [
    "import numpy as np\n",
    "para = np.array([1,2,3])\n",
    "func = lambda x : x[0]**2 + x[1] **2 + x[2] **2\n",
    "# EPS = 0.1\n",
    "\n",
    "def grad(func, para: np.array, EPS = 0.1) -> np.array:\n",
    "    n = len(para)\n",
    "    gradient = [0]*n\n",
    "    for i in range(n):\n",
    "        # calculate partial f_i\n",
    "        e_i = np.identity(n)[:, i]\n",
    "        plus = para + EPS*e_i\n",
    "        minus = para - EPS*e_i\n",
    "        gradient[i] = (func(plus) - func(minus)) / (2*EPS)\n",
    "    return np.array(gradient)"
   ]
  },
  {
   "cell_type": "code",
   "execution_count": 7,
   "metadata": {},
   "outputs": [],
   "source": [
    "func_list = []\n",
    "x_list = []\n",
    "def callback(y, x):\n",
    "    func_list.append(y)\n",
    "    x_list.append(x)"
   ]
  },
  {
   "cell_type": "code",
   "execution_count": 9,
   "metadata": {},
   "outputs": [],
   "source": [
    "from copy import copy\n",
    "maxiter = 300\n",
    "eta = 0.5\n",
    "def grad_des(func, para, maxiter = 300, eta = 0.5):\n",
    "    theta = copy(para)\n",
    "    for i in range(maxiter):\n",
    "        callback(func(theta), theta)\n",
    "        theta = theta - eta * grad(func, theta)\n"
   ]
  },
  {
   "cell_type": "code",
   "execution_count": 14,
   "metadata": {},
   "outputs": [
    {
     "ename": "TypeError",
     "evalue": "ParameterExpression with unbound parameters ({ParameterVectorElement(θ[0])}) cannot be cast to a float.",
     "output_type": "error",
     "traceback": [
      "\u001b[1;31m---------------------------------------------------------------------------\u001b[0m",
      "\u001b[1;31mTypeError\u001b[0m                                 Traceback (most recent call last)",
      "File \u001b[1;32me:\\Anaconda\\lib\\site-packages\\qiskit\\circuit\\parameterexpression.py:459\u001b[0m, in \u001b[0;36mParameterExpression.__float__\u001b[1;34m(self)\u001b[0m\n\u001b[0;32m    458\u001b[0m \u001b[39mtry\u001b[39;00m:\n\u001b[1;32m--> 459\u001b[0m     \u001b[39mreturn\u001b[39;00m \u001b[39mfloat\u001b[39;49m(\u001b[39mself\u001b[39;49m\u001b[39m.\u001b[39;49m_symbol_expr)\n\u001b[0;32m    460\u001b[0m \u001b[39m# TypeError is for sympy, RuntimeError for symengine\u001b[39;00m\n",
      "File \u001b[1;32me:\\Anaconda\\lib\\site-packages\\sympy\\core\\expr.py:345\u001b[0m, in \u001b[0;36mExpr.__float__\u001b[1;34m(self)\u001b[0m\n\u001b[0;32m    344\u001b[0m     \u001b[39mraise\u001b[39;00m \u001b[39mTypeError\u001b[39;00m(\u001b[39m\"\u001b[39m\u001b[39mCannot convert complex to float\u001b[39m\u001b[39m\"\u001b[39m)\n\u001b[1;32m--> 345\u001b[0m \u001b[39mraise\u001b[39;00m \u001b[39mTypeError\u001b[39;00m(\u001b[39m\"\u001b[39m\u001b[39mCannot convert expression to float\u001b[39m\u001b[39m\"\u001b[39m)\n",
      "\u001b[1;31mTypeError\u001b[0m: Cannot convert expression to float",
      "\nThe above exception was the direct cause of the following exception:\n",
      "\u001b[1;31mTypeError\u001b[0m                                 Traceback (most recent call last)",
      "\u001b[1;32mc:\\Users\\GroupMember\\OneDrive\\Academic\\Project\\Symmetric Harvesting\\Codes\\CatDogExm\\test.ipynb Cell 4\u001b[0m in \u001b[0;36m<cell line: 10>\u001b[1;34m()\u001b[0m\n\u001b[0;32m      <a href='vscode-notebook-cell:/c%3A/Users/GroupMember/OneDrive/Academic/Project/Symmetric%20Harvesting/Codes/CatDogExm/test.ipynb#W3sZmlsZQ%3D%3D?line=7'>8</a>\u001b[0m qc\u001b[39m.\u001b[39mry(theta[\u001b[39m0\u001b[39m], \u001b[39m0\u001b[39m)\n\u001b[0;32m      <a href='vscode-notebook-cell:/c%3A/Users/GroupMember/OneDrive/Academic/Project/Symmetric%20Harvesting/Codes/CatDogExm/test.ipynb#W3sZmlsZQ%3D%3D?line=8'>9</a>\u001b[0m qc\u001b[39m.\u001b[39mdraw()\n\u001b[1;32m---> <a href='vscode-notebook-cell:/c%3A/Users/GroupMember/OneDrive/Academic/Project/Symmetric%20Harvesting/Codes/CatDogExm/test.ipynb#W3sZmlsZQ%3D%3D?line=9'>10</a>\u001b[0m A \u001b[39m=\u001b[39m Operator(qc)\n",
      "File \u001b[1;32me:\\Anaconda\\lib\\site-packages\\qiskit\\quantum_info\\operators\\operator.py:86\u001b[0m, in \u001b[0;36mOperator.__init__\u001b[1;34m(self, data, input_dims, output_dims)\u001b[0m\n\u001b[0;32m     77\u001b[0m     \u001b[39mself\u001b[39m\u001b[39m.\u001b[39m_data \u001b[39m=\u001b[39m np\u001b[39m.\u001b[39masarray(data, dtype\u001b[39m=\u001b[39m\u001b[39mcomplex\u001b[39m)\n\u001b[0;32m     78\u001b[0m \u001b[39melif\u001b[39;00m \u001b[39misinstance\u001b[39m(data, (QuantumCircuit, Instruction)):\n\u001b[0;32m     79\u001b[0m     \u001b[39m# If the input is a Terra QuantumCircuit or Instruction we\u001b[39;00m\n\u001b[0;32m     80\u001b[0m     \u001b[39m# perform a simulation to construct the unitary operator.\u001b[39;00m\n\u001b[1;32m   (...)\u001b[0m\n\u001b[0;32m     84\u001b[0m     \u001b[39m# conditional gates, measure, or reset will cause an\u001b[39;00m\n\u001b[0;32m     85\u001b[0m     \u001b[39m# exception to be raised.\u001b[39;00m\n\u001b[1;32m---> 86\u001b[0m     \u001b[39mself\u001b[39m\u001b[39m.\u001b[39m_data \u001b[39m=\u001b[39m \u001b[39mself\u001b[39;49m\u001b[39m.\u001b[39;49m_init_instruction(data)\u001b[39m.\u001b[39mdata\n\u001b[0;32m     87\u001b[0m \u001b[39melif\u001b[39;00m \u001b[39mhasattr\u001b[39m(data, \u001b[39m\"\u001b[39m\u001b[39mto_operator\u001b[39m\u001b[39m\"\u001b[39m):\n\u001b[0;32m     88\u001b[0m     \u001b[39m# If the data object has a 'to_operator' attribute this is given\u001b[39;00m\n\u001b[0;32m     89\u001b[0m     \u001b[39m# higher preference than the 'to_matrix' method for initializing\u001b[39;00m\n\u001b[0;32m     90\u001b[0m     \u001b[39m# an Operator object.\u001b[39;00m\n\u001b[0;32m     91\u001b[0m     data \u001b[39m=\u001b[39m data\u001b[39m.\u001b[39mto_operator()\n",
      "File \u001b[1;32me:\\Anaconda\\lib\\site-packages\\qiskit\\quantum_info\\operators\\operator.py:511\u001b[0m, in \u001b[0;36mOperator._init_instruction\u001b[1;34m(cls, instruction)\u001b[0m\n\u001b[0;32m    509\u001b[0m \u001b[39mif\u001b[39;00m \u001b[39misinstance\u001b[39m(instruction, QuantumCircuit):\n\u001b[0;32m    510\u001b[0m     instruction \u001b[39m=\u001b[39m instruction\u001b[39m.\u001b[39mto_instruction()\n\u001b[1;32m--> 511\u001b[0m op\u001b[39m.\u001b[39;49m_append_instruction(instruction)\n\u001b[0;32m    512\u001b[0m \u001b[39mreturn\u001b[39;00m op\n",
      "File \u001b[1;32me:\\Anaconda\\lib\\site-packages\\qiskit\\quantum_info\\operators\\operator.py:579\u001b[0m, in \u001b[0;36mOperator._append_instruction\u001b[1;34m(self, obj, qargs)\u001b[0m\n\u001b[0;32m    577\u001b[0m \u001b[39melse\u001b[39;00m:\n\u001b[0;32m    578\u001b[0m     new_qargs \u001b[39m=\u001b[39m [qargs[bit_indices[tup]] \u001b[39mfor\u001b[39;00m tup \u001b[39min\u001b[39;00m qregs]\n\u001b[1;32m--> 579\u001b[0m \u001b[39mself\u001b[39;49m\u001b[39m.\u001b[39;49m_append_instruction(instr, qargs\u001b[39m=\u001b[39;49mnew_qargs)\n",
      "File \u001b[1;32me:\\Anaconda\\lib\\site-packages\\qiskit\\quantum_info\\operators\\operator.py:534\u001b[0m, in \u001b[0;36mOperator._append_instruction\u001b[1;34m(self, obj, qargs)\u001b[0m\n\u001b[0;32m    531\u001b[0m \u001b[39mfrom\u001b[39;00m \u001b[39mqiskit\u001b[39;00m\u001b[39m.\u001b[39;00m\u001b[39mcircuit\u001b[39;00m\u001b[39m.\u001b[39;00m\u001b[39mbarrier\u001b[39;00m \u001b[39mimport\u001b[39;00m Barrier\n\u001b[0;32m    532\u001b[0m \u001b[39mfrom\u001b[39;00m \u001b[39m.\u001b[39;00m\u001b[39mscalar_op\u001b[39;00m \u001b[39mimport\u001b[39;00m ScalarOp\n\u001b[1;32m--> 534\u001b[0m mat \u001b[39m=\u001b[39m \u001b[39mself\u001b[39;49m\u001b[39m.\u001b[39;49m_instruction_to_matrix(obj)\n\u001b[0;32m    535\u001b[0m \u001b[39mif\u001b[39;00m mat \u001b[39mis\u001b[39;00m \u001b[39mnot\u001b[39;00m \u001b[39mNone\u001b[39;00m:\n\u001b[0;32m    536\u001b[0m     \u001b[39m# Perform the composition and inplace update the current state\u001b[39;00m\n\u001b[0;32m    537\u001b[0m     \u001b[39m# of the operator\u001b[39;00m\n\u001b[0;32m    538\u001b[0m     op \u001b[39m=\u001b[39m \u001b[39mself\u001b[39m\u001b[39m.\u001b[39mcompose(mat, qargs\u001b[39m=\u001b[39mqargs)\n",
      "File \u001b[1;32me:\\Anaconda\\lib\\site-packages\\qiskit\\quantum_info\\operators\\operator.py:524\u001b[0m, in \u001b[0;36mOperator._instruction_to_matrix\u001b[1;34m(cls, obj)\u001b[0m\n\u001b[0;32m    520\u001b[0m \u001b[39mif\u001b[39;00m \u001b[39mhasattr\u001b[39m(obj, \u001b[39m\"\u001b[39m\u001b[39mto_matrix\u001b[39m\u001b[39m\"\u001b[39m):\n\u001b[0;32m    521\u001b[0m     \u001b[39m# If instruction is a gate first we see if it has a\u001b[39;00m\n\u001b[0;32m    522\u001b[0m     \u001b[39m# `to_matrix` definition and if so use that.\u001b[39;00m\n\u001b[0;32m    523\u001b[0m     \u001b[39mtry\u001b[39;00m:\n\u001b[1;32m--> 524\u001b[0m         mat \u001b[39m=\u001b[39m obj\u001b[39m.\u001b[39;49mto_matrix()\n\u001b[0;32m    525\u001b[0m     \u001b[39mexcept\u001b[39;00m QiskitError:\n\u001b[0;32m    526\u001b[0m         \u001b[39mpass\u001b[39;00m\n",
      "File \u001b[1;32me:\\Anaconda\\lib\\site-packages\\qiskit\\circuit\\gate.py:55\u001b[0m, in \u001b[0;36mGate.to_matrix\u001b[1;34m(self)\u001b[0m\n\u001b[0;32m     44\u001b[0m \u001b[39m\"\"\"Return a Numpy.array for the gate unitary matrix.\u001b[39;00m\n\u001b[0;32m     45\u001b[0m \n\u001b[0;32m     46\u001b[0m \u001b[39mReturns:\u001b[39;00m\n\u001b[1;32m   (...)\u001b[0m\n\u001b[0;32m     51\u001b[0m \u001b[39m        exception will be raised when this base class method is called.\u001b[39;00m\n\u001b[0;32m     52\u001b[0m \u001b[39m\"\"\"\u001b[39;00m\n\u001b[0;32m     53\u001b[0m \u001b[39mif\u001b[39;00m \u001b[39mhasattr\u001b[39m(\u001b[39mself\u001b[39m, \u001b[39m\"\u001b[39m\u001b[39m__array__\u001b[39m\u001b[39m\"\u001b[39m):\n\u001b[0;32m     54\u001b[0m     \u001b[39m# pylint: disable=no-member\u001b[39;00m\n\u001b[1;32m---> 55\u001b[0m     \u001b[39mreturn\u001b[39;00m \u001b[39mself\u001b[39;49m\u001b[39m.\u001b[39;49m__array__(dtype\u001b[39m=\u001b[39;49m\u001b[39mcomplex\u001b[39;49m)\n\u001b[0;32m     56\u001b[0m \u001b[39mraise\u001b[39;00m CircuitError(\u001b[39mf\u001b[39m\u001b[39m\"\u001b[39m\u001b[39mto_matrix not defined for this \u001b[39m\u001b[39m{\u001b[39;00m\u001b[39mtype\u001b[39m(\u001b[39mself\u001b[39m)\u001b[39m}\u001b[39;00m\u001b[39m\"\u001b[39m)\n",
      "File \u001b[1;32me:\\Anaconda\\lib\\site-packages\\qiskit\\circuit\\library\\standard_gates\\ry.py:101\u001b[0m, in \u001b[0;36mRYGate.__array__\u001b[1;34m(self, dtype)\u001b[0m\n\u001b[0;32m     99\u001b[0m \u001b[39mdef\u001b[39;00m \u001b[39m__array__\u001b[39m(\u001b[39mself\u001b[39m, dtype\u001b[39m=\u001b[39m\u001b[39mNone\u001b[39;00m):\n\u001b[0;32m    100\u001b[0m     \u001b[39m\"\"\"Return a numpy.array for the RY gate.\"\"\"\u001b[39;00m\n\u001b[1;32m--> 101\u001b[0m     cos \u001b[39m=\u001b[39m math\u001b[39m.\u001b[39;49mcos(\u001b[39mself\u001b[39;49m\u001b[39m.\u001b[39;49mparams[\u001b[39m0\u001b[39;49m] \u001b[39m/\u001b[39;49m \u001b[39m2\u001b[39;49m)\n\u001b[0;32m    102\u001b[0m     sin \u001b[39m=\u001b[39m math\u001b[39m.\u001b[39msin(\u001b[39mself\u001b[39m\u001b[39m.\u001b[39mparams[\u001b[39m0\u001b[39m] \u001b[39m/\u001b[39m \u001b[39m2\u001b[39m)\n\u001b[0;32m    103\u001b[0m     \u001b[39mreturn\u001b[39;00m numpy\u001b[39m.\u001b[39marray([[cos, \u001b[39m-\u001b[39msin], [sin, cos]], dtype\u001b[39m=\u001b[39mdtype)\n",
      "File \u001b[1;32me:\\Anaconda\\lib\\site-packages\\qiskit\\circuit\\parameterexpression.py:462\u001b[0m, in \u001b[0;36mParameterExpression.__float__\u001b[1;34m(self)\u001b[0m\n\u001b[0;32m    460\u001b[0m \u001b[39m# TypeError is for sympy, RuntimeError for symengine\u001b[39;00m\n\u001b[0;32m    461\u001b[0m \u001b[39mexcept\u001b[39;00m (\u001b[39mTypeError\u001b[39;00m, \u001b[39mRuntimeError\u001b[39;00m) \u001b[39mas\u001b[39;00m exc:\n\u001b[1;32m--> 462\u001b[0m     \u001b[39mraise\u001b[39;00m \u001b[39mTypeError\u001b[39;00m(\n\u001b[0;32m    463\u001b[0m         \u001b[39m\"\u001b[39m\u001b[39mParameterExpression with unbound parameters (\u001b[39m\u001b[39m{}\u001b[39;00m\u001b[39m) \u001b[39m\u001b[39m\"\u001b[39m\n\u001b[0;32m    464\u001b[0m         \u001b[39m\"\u001b[39m\u001b[39mcannot be cast to a float.\u001b[39m\u001b[39m\"\u001b[39m\u001b[39m.\u001b[39mformat(\u001b[39mself\u001b[39m\u001b[39m.\u001b[39mparameters)\n\u001b[0;32m    465\u001b[0m     ) \u001b[39mfrom\u001b[39;00m \u001b[39mexc\u001b[39;00m\n",
      "\u001b[1;31mTypeError\u001b[0m: ParameterExpression with unbound parameters ({ParameterVectorElement(θ[0])}) cannot be cast to a float."
     ]
    }
   ],
   "source": [
    "from qiskit.quantum_info.operators import Operator\n",
    "from qiskit import QuantumCircuit\n",
    "from qiskit.circuit import ParameterVector\n",
    "\n",
    "theta = ParameterVector('θ', 3)\n",
    "\n",
    "qc= QuantumCircuit(3)\n",
    "qc.ry(theta[0], 0)\n",
    "qc.draw()\n",
    "\n",
    "A = Operator(qc)"
   ]
  },
  {
   "cell_type": "code",
   "execution_count": 22,
   "metadata": {},
   "outputs": [],
   "source": [
    "from qiskit.circuit.library import RealAmplitudes\n",
    "from qiskit.opflow import Z, I \n",
    "num_qubits = 3\n",
    "theta = np.random.random(9)\n",
    "ansatz = RealAmplitudes(num_qubits, reps=2,\n",
    "                        entanglement='circular',insert_barriers=True).decompose()\n",
    "value_dict = dict(zip(ansatz.parameters, theta))\n",
    "qc = ansatz.bind_parameters(value_dict)\n",
    "U = Operator(qc)\n",
    "\n",
    "observable = Z^I^I"
   ]
  },
  {
   "cell_type": "code",
   "execution_count": 33,
   "metadata": {},
   "outputs": [
    {
     "data": {
      "text/plain": [
       "matrix([[ 0.-0.j,  0.-1.j],\n",
       "        [-0.+1.j,  0.-0.j]])"
      ]
     },
     "execution_count": 33,
     "metadata": {},
     "output_type": "execute_result"
    }
   ],
   "source": [
    "A = np.matrix([[0,-1j], [1j,0]])\n",
    "A.T.conj()"
   ]
  },
  {
   "cell_type": "code",
   "execution_count": null,
   "metadata": {},
   "outputs": [],
   "source": []
  }
 ],
 "metadata": {
  "kernelspec": {
   "display_name": "base",
   "language": "python",
   "name": "python3"
  },
  "language_info": {
   "codemirror_mode": {
    "name": "ipython",
    "version": 3
   },
   "file_extension": ".py",
   "mimetype": "text/x-python",
   "name": "python",
   "nbconvert_exporter": "python",
   "pygments_lexer": "ipython3",
   "version": "3.9.12"
  },
  "orig_nbformat": 4,
  "vscode": {
   "interpreter": {
    "hash": "91bb753b057673435fb8d6f6a083e6c818364728098c7ae050ca3a25357dd754"
   }
  }
 },
 "nbformat": 4,
 "nbformat_minor": 2
}
