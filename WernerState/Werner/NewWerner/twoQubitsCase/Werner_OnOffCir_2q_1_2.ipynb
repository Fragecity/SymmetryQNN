{
 "cells": [
  {
   "cell_type": "code",
   "execution_count": 1,
   "metadata": {},
   "outputs": [],
   "source": [
    "import sys\n",
    "from pyprojroot import here\n",
    "sys.path.insert(0, str(here()))"
   ]
  },
  {
   "attachments": {},
   "cell_type": "markdown",
   "metadata": {},
   "source": [
    "too complex to use two parameters, then here combine them into 1 gate (doge)\n",
    "\n",
    "though it seems still complex\n",
    "\n",
    "unfinished 023-0522"
   ]
  },
  {
   "attachments": {},
   "cell_type": "markdown",
   "metadata": {},
   "source": [
    "# Gate eigen-decoposition"
   ]
  },
  {
   "cell_type": "code",
   "execution_count": 8,
   "metadata": {},
   "outputs": [
    {
     "name": "stdout",
     "output_type": "stream",
     "text": [
      "Eigenvalues:\n",
      " [-1.   +0.j     0.707+0.707j  0.707-0.707j  1.   +0.j   ]\n",
      "Eigenvectors:\n",
      " [[ 0.271+0.j   0.   -0.5j  0.   +0.5j -0.653+0.j ]\n",
      " [ 0.271+0.j   0.   +0.5j  0.   -0.5j -0.653+0.j ]\n",
      " [-0.653+0.j   0.5  +0.j   0.5  -0.j  -0.271+0.j ]\n",
      " [-0.653+0.j  -0.5  -0.j  -0.5  +0.j  -0.271+0.j ]]\n",
      "P matrix:\n",
      " [[ 0.271+0.j   0.   -0.5j  0.   +0.5j -0.653+0.j ]\n",
      " [ 0.271+0.j   0.   +0.5j  0.   -0.5j -0.653+0.j ]\n",
      " [-0.653+0.j   0.5  +0.j   0.5  -0.j  -0.271+0.j ]\n",
      " [-0.653+0.j  -0.5  -0.j  -0.5  +0.j  -0.271+0.j ]]\n",
      "D matrix:\n",
      " [[-1.   +0.j     0.   +0.j     0.   +0.j     0.   +0.j   ]\n",
      " [ 0.   +0.j     0.707+0.707j  0.   +0.j     0.   +0.j   ]\n",
      " [ 0.   +0.j     0.   +0.j     0.707-0.707j  0.   +0.j   ]\n",
      " [ 0.   +0.j     0.   +0.j     0.   +0.j     1.   +0.j   ]]\n",
      "P_inv matrix:\n",
      " [[ 0.271+0.j   0.271+0.j  -0.653+0.j  -0.653+0.j ]\n",
      " [-0.   +0.5j -0.   -0.5j  0.5  +0.j  -0.5  +0.j ]\n",
      " [-0.   -0.5j -0.   +0.5j  0.5  -0.j  -0.5  -0.j ]\n",
      " [-0.653-0.j  -0.653+0.j  -0.271-0.j  -0.271-0.j ]]\n"
     ]
    }
   ],
   "source": [
    "%matplotlib inline\n",
    "import numpy as np\n",
    "import sympy as sp\n",
    "from sympy import sqrt, symbols, pi, cos, Matrix, latex, trace\n",
    "from IPython.display import display, Math\n",
    "\n",
    "np.set_printoptions(precision=3, suppress=True)\n",
    "\n",
    "#* H \\otimes I\n",
    "IDENTITY = np.array([[1, 0],\n",
    "                     [0, 1]])\n",
    "\n",
    "HADAMARD = np.array([[1/np.sqrt(2), 1/np.sqrt(2)],\n",
    "                   [1/np.sqrt(2), -1/np.sqrt(2)]])\n",
    "\n",
    "HI = np.kron(HADAMARD, IDENTITY)\n",
    "\n",
    "CNOT = np.array([[1, 0, 0, 0],\n",
    "                 [0, 1, 0, 0],\n",
    "                 [0, 0, 0, 1],\n",
    "                 [0, 0, 1, 0]])\n",
    "\n",
    "eigenvalues, eigenvectors = np.linalg.eig(CNOT @ HI)\n",
    "\n",
    "print(\"Eigenvalues:\\n\", eigenvalues)\n",
    "print(\"Eigenvectors:\\n\", eigenvectors)\n",
    "\n",
    "P = eigenvectors\n",
    "D = np.diag(eigenvalues)\n",
    "P_inv = np.linalg.inv(P)\n",
    "\n",
    "print(\"P matrix:\\n\", P)\n",
    "print(\"D matrix:\\n\", D)\n",
    "print(\"P_inv matrix:\\n\", P_inv)"
   ]
  },
  {
   "attachments": {},
   "cell_type": "markdown",
   "metadata": {},
   "source": [
    "# Circuit Form U(θ)"
   ]
  },
  {
   "cell_type": "code",
   "execution_count": 16,
   "metadata": {},
   "outputs": [
    {
     "data": {
      "text/latex": [
       "$\\displaystyle \\left[\\begin{matrix}e^{i \\pi \\cos^{2}{\\left(\\theta \\right)}} & 0 & 0 & 0\\\\0 & e^{\\frac{i \\pi \\cos^{2}{\\left(\\theta \\right)}}{4}} & 0 & 0\\\\0 & 0 & e^{- \\frac{i \\pi \\cos^{2}{\\left(\\theta \\right)}}{4}} & 0\\\\0 & 0 & 0 & 1\\end{matrix}\\right]$"
      ],
      "text/plain": [
       "<IPython.core.display.Math object>"
      ]
     },
     "metadata": {},
     "output_type": "display_data"
    },
    {
     "name": "stdout",
     "output_type": "stream",
     "text": [
      "U(θ):\n"
     ]
    },
    {
     "data": {
      "text/latex": [
       "$\\displaystyle \\left[\\begin{matrix}\\left(0.427 \\sin{\\left(\\frac{\\pi \\cos^{2}{\\left(\\theta \\right)}}{4} \\right)} + 0.25 \\sin{\\left(\\frac{\\pi \\cos^{2}{\\left(\\theta \\right)}}{2} \\right)} + 0.0732 \\sin{\\left(\\frac{5 \\pi \\cos^{2}{\\left(\\theta \\right)}}{4} \\right)}\\right) \\sin{\\left(\\frac{\\pi \\cos^{2}{\\left(\\theta \\right)}}{4} \\right)} + i \\left(\\left(0.427 \\sin{\\left(\\frac{\\pi \\cos^{2}{\\left(\\theta \\right)}}{4} \\right)} + 0.25 \\sin{\\left(\\frac{\\pi \\cos^{2}{\\left(\\theta \\right)}}{2} \\right)} + 0.0732 \\sin{\\left(\\frac{5 \\pi \\cos^{2}{\\left(\\theta \\right)}}{4} \\right)}\\right) \\cos{\\left(\\frac{\\pi \\cos^{2}{\\left(\\theta \\right)}}{4} \\right)} - 0.427 \\sin{\\left(\\frac{\\pi \\cos^{2}{\\left(\\theta \\right)}}{4} \\right)} \\cos{\\left(\\frac{\\pi \\cos^{2}{\\left(\\theta \\right)}}{4} \\right)} - 0.25 \\sin{\\left(\\frac{\\pi \\cos^{2}{\\left(\\theta \\right)}}{4} \\right)} \\cos{\\left(\\frac{\\pi \\cos^{2}{\\left(\\theta \\right)}}{2} \\right)} - 0.0732 \\sin{\\left(\\frac{\\pi \\cos^{2}{\\left(\\theta \\right)}}{4} \\right)} \\cos{\\left(\\frac{5 \\pi \\cos^{2}{\\left(\\theta \\right)}}{4} \\right)} - 0.25 \\sin{\\left(\\frac{\\pi \\cos^{2}{\\left(\\theta \\right)}}{4} \\right)}\\right) + 0.427 \\cos^{2}{\\left(\\frac{\\pi \\cos^{2}{\\left(\\theta \\right)}}{4} \\right)} + 0.25 \\cos{\\left(\\frac{\\pi \\cos^{2}{\\left(\\theta \\right)}}{4} \\right)} \\cos{\\left(\\frac{\\pi \\cos^{2}{\\left(\\theta \\right)}}{2} \\right)} + 0.0732 \\cos{\\left(\\frac{\\pi \\cos^{2}{\\left(\\theta \\right)}}{4} \\right)} \\cos{\\left(\\frac{5 \\pi \\cos^{2}{\\left(\\theta \\right)}}{4} \\right)} + 0.25 \\cos{\\left(\\frac{\\pi \\cos^{2}{\\left(\\theta \\right)}}{4} \\right)} & \\left(0.427 \\sin{\\left(\\frac{\\pi \\cos^{2}{\\left(\\theta \\right)}}{4} \\right)} - 0.25 \\sin{\\left(\\frac{\\pi \\cos^{2}{\\left(\\theta \\right)}}{2} \\right)} + 0.0732 \\sin{\\left(\\frac{5 \\pi \\cos^{2}{\\left(\\theta \\right)}}{4} \\right)}\\right) \\sin{\\left(\\frac{\\pi \\cos^{2}{\\left(\\theta \\right)}}{4} \\right)} + i \\left(\\left(0.427 \\sin{\\left(\\frac{\\pi \\cos^{2}{\\left(\\theta \\right)}}{4} \\right)} - 0.25 \\sin{\\left(\\frac{\\pi \\cos^{2}{\\left(\\theta \\right)}}{2} \\right)} + 0.0732 \\sin{\\left(\\frac{5 \\pi \\cos^{2}{\\left(\\theta \\right)}}{4} \\right)}\\right) \\cos{\\left(\\frac{\\pi \\cos^{2}{\\left(\\theta \\right)}}{4} \\right)} - 0.427 \\sin{\\left(\\frac{\\pi \\cos^{2}{\\left(\\theta \\right)}}{4} \\right)} \\cos{\\left(\\frac{\\pi \\cos^{2}{\\left(\\theta \\right)}}{4} \\right)} + 0.25 \\sin{\\left(\\frac{\\pi \\cos^{2}{\\left(\\theta \\right)}}{4} \\right)} \\cos{\\left(\\frac{\\pi \\cos^{2}{\\left(\\theta \\right)}}{2} \\right)} - 0.0732 \\sin{\\left(\\frac{\\pi \\cos^{2}{\\left(\\theta \\right)}}{4} \\right)} \\cos{\\left(\\frac{5 \\pi \\cos^{2}{\\left(\\theta \\right)}}{4} \\right)} + 0.25 \\sin{\\left(\\frac{\\pi \\cos^{2}{\\left(\\theta \\right)}}{4} \\right)}\\right) + 0.427 \\cos^{2}{\\left(\\frac{\\pi \\cos^{2}{\\left(\\theta \\right)}}{4} \\right)} - 0.25 \\cos{\\left(\\frac{\\pi \\cos^{2}{\\left(\\theta \\right)}}{4} \\right)} \\cos{\\left(\\frac{\\pi \\cos^{2}{\\left(\\theta \\right)}}{2} \\right)} + 0.0732 \\cos{\\left(\\frac{\\pi \\cos^{2}{\\left(\\theta \\right)}}{4} \\right)} \\cos{\\left(\\frac{5 \\pi \\cos^{2}{\\left(\\theta \\right)}}{4} \\right)} - 0.25 \\cos{\\left(\\frac{\\pi \\cos^{2}{\\left(\\theta \\right)}}{4} \\right)} & i \\left(\\left(0.177 \\sin{\\left(\\frac{\\pi \\cos^{2}{\\left(\\theta \\right)}}{4} \\right)} - 0.177 \\sin{\\left(\\frac{5 \\pi \\cos^{2}{\\left(\\theta \\right)}}{4} \\right)} - 0.25 \\cos{\\left(\\frac{\\pi \\cos^{2}{\\left(\\theta \\right)}}{2} \\right)} + 0.25\\right) \\cos{\\left(\\frac{\\pi \\cos^{2}{\\left(\\theta \\right)}}{4} \\right)} - 0.25 \\sin{\\left(\\frac{\\pi \\cos^{2}{\\left(\\theta \\right)}}{4} \\right)} \\sin{\\left(\\frac{\\pi \\cos^{2}{\\left(\\theta \\right)}}{2} \\right)} - 0.177 \\sin{\\left(\\frac{\\pi \\cos^{2}{\\left(\\theta \\right)}}{4} \\right)} \\cos{\\left(\\frac{\\pi \\cos^{2}{\\left(\\theta \\right)}}{4} \\right)} + 0.177 \\sin{\\left(\\frac{\\pi \\cos^{2}{\\left(\\theta \\right)}}{4} \\right)} \\cos{\\left(\\frac{5 \\pi \\cos^{2}{\\left(\\theta \\right)}}{4} \\right)}\\right) + \\left(0.177 \\sin{\\left(\\frac{\\pi \\cos^{2}{\\left(\\theta \\right)}}{4} \\right)} - 0.177 \\sin{\\left(\\frac{5 \\pi \\cos^{2}{\\left(\\theta \\right)}}{4} \\right)} - 0.25 \\cos{\\left(\\frac{\\pi \\cos^{2}{\\left(\\theta \\right)}}{2} \\right)} + 0.25\\right) \\sin{\\left(\\frac{\\pi \\cos^{2}{\\left(\\theta \\right)}}{4} \\right)} + 0.25 \\sin{\\left(\\frac{\\pi \\cos^{2}{\\left(\\theta \\right)}}{2} \\right)} \\cos{\\left(\\frac{\\pi \\cos^{2}{\\left(\\theta \\right)}}{4} \\right)} + 0.177 \\cos^{2}{\\left(\\frac{\\pi \\cos^{2}{\\left(\\theta \\right)}}{4} \\right)} - 0.177 \\cos{\\left(\\frac{\\pi \\cos^{2}{\\left(\\theta \\right)}}{4} \\right)} \\cos{\\left(\\frac{5 \\pi \\cos^{2}{\\left(\\theta \\right)}}{4} \\right)} & i \\left(\\left(0.177 \\sin{\\left(\\frac{\\pi \\cos^{2}{\\left(\\theta \\right)}}{4} \\right)} - 0.177 \\sin{\\left(\\frac{5 \\pi \\cos^{2}{\\left(\\theta \\right)}}{4} \\right)} + 0.25 \\cos{\\left(\\frac{\\pi \\cos^{2}{\\left(\\theta \\right)}}{2} \\right)} - 0.25\\right) \\cos{\\left(\\frac{\\pi \\cos^{2}{\\left(\\theta \\right)}}{4} \\right)} + 0.25 \\sin{\\left(\\frac{\\pi \\cos^{2}{\\left(\\theta \\right)}}{4} \\right)} \\sin{\\left(\\frac{\\pi \\cos^{2}{\\left(\\theta \\right)}}{2} \\right)} - 0.177 \\sin{\\left(\\frac{\\pi \\cos^{2}{\\left(\\theta \\right)}}{4} \\right)} \\cos{\\left(\\frac{\\pi \\cos^{2}{\\left(\\theta \\right)}}{4} \\right)} + 0.177 \\sin{\\left(\\frac{\\pi \\cos^{2}{\\left(\\theta \\right)}}{4} \\right)} \\cos{\\left(\\frac{5 \\pi \\cos^{2}{\\left(\\theta \\right)}}{4} \\right)}\\right) + \\left(0.177 \\sin{\\left(\\frac{\\pi \\cos^{2}{\\left(\\theta \\right)}}{4} \\right)} - 0.177 \\sin{\\left(\\frac{5 \\pi \\cos^{2}{\\left(\\theta \\right)}}{4} \\right)} + 0.25 \\cos{\\left(\\frac{\\pi \\cos^{2}{\\left(\\theta \\right)}}{2} \\right)} - 0.25\\right) \\sin{\\left(\\frac{\\pi \\cos^{2}{\\left(\\theta \\right)}}{4} \\right)} - 0.25 \\sin{\\left(\\frac{\\pi \\cos^{2}{\\left(\\theta \\right)}}{2} \\right)} \\cos{\\left(\\frac{\\pi \\cos^{2}{\\left(\\theta \\right)}}{4} \\right)} + 0.177 \\cos^{2}{\\left(\\frac{\\pi \\cos^{2}{\\left(\\theta \\right)}}{4} \\right)} - 0.177 \\cos{\\left(\\frac{\\pi \\cos^{2}{\\left(\\theta \\right)}}{4} \\right)} \\cos{\\left(\\frac{5 \\pi \\cos^{2}{\\left(\\theta \\right)}}{4} \\right)}\\\\\\left(0.427 \\sin{\\left(\\frac{\\pi \\cos^{2}{\\left(\\theta \\right)}}{4} \\right)} - 0.25 \\sin{\\left(\\frac{\\pi \\cos^{2}{\\left(\\theta \\right)}}{2} \\right)} + 0.0732 \\sin{\\left(\\frac{5 \\pi \\cos^{2}{\\left(\\theta \\right)}}{4} \\right)}\\right) \\sin{\\left(\\frac{\\pi \\cos^{2}{\\left(\\theta \\right)}}{4} \\right)} + i \\left(\\left(0.427 \\sin{\\left(\\frac{\\pi \\cos^{2}{\\left(\\theta \\right)}}{4} \\right)} - 0.25 \\sin{\\left(\\frac{\\pi \\cos^{2}{\\left(\\theta \\right)}}{2} \\right)} + 0.0732 \\sin{\\left(\\frac{5 \\pi \\cos^{2}{\\left(\\theta \\right)}}{4} \\right)}\\right) \\cos{\\left(\\frac{\\pi \\cos^{2}{\\left(\\theta \\right)}}{4} \\right)} - 0.427 \\sin{\\left(\\frac{\\pi \\cos^{2}{\\left(\\theta \\right)}}{4} \\right)} \\cos{\\left(\\frac{\\pi \\cos^{2}{\\left(\\theta \\right)}}{4} \\right)} + 0.25 \\sin{\\left(\\frac{\\pi \\cos^{2}{\\left(\\theta \\right)}}{4} \\right)} \\cos{\\left(\\frac{\\pi \\cos^{2}{\\left(\\theta \\right)}}{2} \\right)} - 0.0732 \\sin{\\left(\\frac{\\pi \\cos^{2}{\\left(\\theta \\right)}}{4} \\right)} \\cos{\\left(\\frac{5 \\pi \\cos^{2}{\\left(\\theta \\right)}}{4} \\right)} + 0.25 \\sin{\\left(\\frac{\\pi \\cos^{2}{\\left(\\theta \\right)}}{4} \\right)}\\right) + 0.427 \\cos^{2}{\\left(\\frac{\\pi \\cos^{2}{\\left(\\theta \\right)}}{4} \\right)} - 0.25 \\cos{\\left(\\frac{\\pi \\cos^{2}{\\left(\\theta \\right)}}{4} \\right)} \\cos{\\left(\\frac{\\pi \\cos^{2}{\\left(\\theta \\right)}}{2} \\right)} + 0.0732 \\cos{\\left(\\frac{\\pi \\cos^{2}{\\left(\\theta \\right)}}{4} \\right)} \\cos{\\left(\\frac{5 \\pi \\cos^{2}{\\left(\\theta \\right)}}{4} \\right)} - 0.25 \\cos{\\left(\\frac{\\pi \\cos^{2}{\\left(\\theta \\right)}}{4} \\right)} & \\left(0.427 \\sin{\\left(\\frac{\\pi \\cos^{2}{\\left(\\theta \\right)}}{4} \\right)} + 0.25 \\sin{\\left(\\frac{\\pi \\cos^{2}{\\left(\\theta \\right)}}{2} \\right)} + 0.0732 \\sin{\\left(\\frac{5 \\pi \\cos^{2}{\\left(\\theta \\right)}}{4} \\right)}\\right) \\sin{\\left(\\frac{\\pi \\cos^{2}{\\left(\\theta \\right)}}{4} \\right)} + i \\left(\\left(0.427 \\sin{\\left(\\frac{\\pi \\cos^{2}{\\left(\\theta \\right)}}{4} \\right)} + 0.25 \\sin{\\left(\\frac{\\pi \\cos^{2}{\\left(\\theta \\right)}}{2} \\right)} + 0.0732 \\sin{\\left(\\frac{5 \\pi \\cos^{2}{\\left(\\theta \\right)}}{4} \\right)}\\right) \\cos{\\left(\\frac{\\pi \\cos^{2}{\\left(\\theta \\right)}}{4} \\right)} - 0.427 \\sin{\\left(\\frac{\\pi \\cos^{2}{\\left(\\theta \\right)}}{4} \\right)} \\cos{\\left(\\frac{\\pi \\cos^{2}{\\left(\\theta \\right)}}{4} \\right)} - 0.25 \\sin{\\left(\\frac{\\pi \\cos^{2}{\\left(\\theta \\right)}}{4} \\right)} \\cos{\\left(\\frac{\\pi \\cos^{2}{\\left(\\theta \\right)}}{2} \\right)} - 0.0732 \\sin{\\left(\\frac{\\pi \\cos^{2}{\\left(\\theta \\right)}}{4} \\right)} \\cos{\\left(\\frac{5 \\pi \\cos^{2}{\\left(\\theta \\right)}}{4} \\right)} - 0.25 \\sin{\\left(\\frac{\\pi \\cos^{2}{\\left(\\theta \\right)}}{4} \\right)}\\right) + 0.427 \\cos^{2}{\\left(\\frac{\\pi \\cos^{2}{\\left(\\theta \\right)}}{4} \\right)} + 0.25 \\cos{\\left(\\frac{\\pi \\cos^{2}{\\left(\\theta \\right)}}{4} \\right)} \\cos{\\left(\\frac{\\pi \\cos^{2}{\\left(\\theta \\right)}}{2} \\right)} + 0.0732 \\cos{\\left(\\frac{\\pi \\cos^{2}{\\left(\\theta \\right)}}{4} \\right)} \\cos{\\left(\\frac{5 \\pi \\cos^{2}{\\left(\\theta \\right)}}{4} \\right)} + 0.25 \\cos{\\left(\\frac{\\pi \\cos^{2}{\\left(\\theta \\right)}}{4} \\right)} & i \\left(\\left(0.177 \\sin{\\left(\\frac{\\pi \\cos^{2}{\\left(\\theta \\right)}}{4} \\right)} - 0.177 \\sin{\\left(\\frac{5 \\pi \\cos^{2}{\\left(\\theta \\right)}}{4} \\right)} + 0.25 \\cos{\\left(\\frac{\\pi \\cos^{2}{\\left(\\theta \\right)}}{2} \\right)} - 0.25\\right) \\cos{\\left(\\frac{\\pi \\cos^{2}{\\left(\\theta \\right)}}{4} \\right)} + 0.25 \\sin{\\left(\\frac{\\pi \\cos^{2}{\\left(\\theta \\right)}}{4} \\right)} \\sin{\\left(\\frac{\\pi \\cos^{2}{\\left(\\theta \\right)}}{2} \\right)} - 0.177 \\sin{\\left(\\frac{\\pi \\cos^{2}{\\left(\\theta \\right)}}{4} \\right)} \\cos{\\left(\\frac{\\pi \\cos^{2}{\\left(\\theta \\right)}}{4} \\right)} + 0.177 \\sin{\\left(\\frac{\\pi \\cos^{2}{\\left(\\theta \\right)}}{4} \\right)} \\cos{\\left(\\frac{5 \\pi \\cos^{2}{\\left(\\theta \\right)}}{4} \\right)}\\right) + \\left(0.177 \\sin{\\left(\\frac{\\pi \\cos^{2}{\\left(\\theta \\right)}}{4} \\right)} - 0.177 \\sin{\\left(\\frac{5 \\pi \\cos^{2}{\\left(\\theta \\right)}}{4} \\right)} + 0.25 \\cos{\\left(\\frac{\\pi \\cos^{2}{\\left(\\theta \\right)}}{2} \\right)} - 0.25\\right) \\sin{\\left(\\frac{\\pi \\cos^{2}{\\left(\\theta \\right)}}{4} \\right)} - 0.25 \\sin{\\left(\\frac{\\pi \\cos^{2}{\\left(\\theta \\right)}}{2} \\right)} \\cos{\\left(\\frac{\\pi \\cos^{2}{\\left(\\theta \\right)}}{4} \\right)} + 0.177 \\cos^{2}{\\left(\\frac{\\pi \\cos^{2}{\\left(\\theta \\right)}}{4} \\right)} - 0.177 \\cos{\\left(\\frac{\\pi \\cos^{2}{\\left(\\theta \\right)}}{4} \\right)} \\cos{\\left(\\frac{5 \\pi \\cos^{2}{\\left(\\theta \\right)}}{4} \\right)} & - \\left(- 0.177 \\sin{\\left(\\pi \\cos^{2}{\\left(\\theta \\right)} \\right)} - 0.25 \\cos{\\left(\\frac{\\pi \\cos^{2}{\\left(\\theta \\right)}}{4} \\right)}\\right) \\sin{\\left(\\frac{\\pi \\cos^{2}{\\left(\\theta \\right)}}{4} \\right)} \\cos{\\left(\\frac{\\pi \\cos^{2}{\\left(\\theta \\right)}}{4} \\right)} + i \\left(\\left(- 0.177 \\sin{\\left(\\pi \\cos^{2}{\\left(\\theta \\right)} \\right)} - 0.25 \\cos{\\left(\\frac{\\pi \\cos^{2}{\\left(\\theta \\right)}}{4} \\right)}\\right) \\sin^{2}{\\left(\\frac{\\pi \\cos^{2}{\\left(\\theta \\right)}}{4} \\right)} + \\left(\\left(- 0.177 \\sin{\\left(\\pi \\cos^{2}{\\left(\\theta \\right)} \\right)} - 0.25 \\cos{\\left(\\frac{\\pi \\cos^{2}{\\left(\\theta \\right)}}{4} \\right)}\\right) \\cos{\\left(\\frac{\\pi \\cos^{2}{\\left(\\theta \\right)}}{4} \\right)} + 0.25 \\sin^{2}{\\left(\\frac{\\pi \\cos^{2}{\\left(\\theta \\right)}}{4} \\right)} - 0.177 \\sin{\\left(\\frac{\\pi \\cos^{2}{\\left(\\theta \\right)}}{4} \\right)} \\cos{\\left(\\pi \\cos^{2}{\\left(\\theta \\right)} \\right)} + 0.177 \\sin{\\left(\\frac{\\pi \\cos^{2}{\\left(\\theta \\right)}}{4} \\right)} + 0.25\\right) \\cos{\\left(\\frac{\\pi \\cos^{2}{\\left(\\theta \\right)}}{4} \\right)} - 0.25 \\sin^{2}{\\left(\\frac{\\pi \\cos^{2}{\\left(\\theta \\right)}}{4} \\right)} \\cos{\\left(\\frac{\\pi \\cos^{2}{\\left(\\theta \\right)}}{4} \\right)} + 0.177 \\sin{\\left(\\frac{\\pi \\cos^{2}{\\left(\\theta \\right)}}{4} \\right)} \\cos{\\left(\\frac{\\pi \\cos^{2}{\\left(\\theta \\right)}}{4} \\right)} \\cos{\\left(\\pi \\cos^{2}{\\left(\\theta \\right)} \\right)} - 0.177 \\sin{\\left(\\frac{\\pi \\cos^{2}{\\left(\\theta \\right)}}{4} \\right)} \\cos{\\left(\\frac{\\pi \\cos^{2}{\\left(\\theta \\right)}}{4} \\right)}\\right) + \\left(\\left(- 0.177 \\sin{\\left(\\pi \\cos^{2}{\\left(\\theta \\right)} \\right)} - 0.25 \\cos{\\left(\\frac{\\pi \\cos^{2}{\\left(\\theta \\right)}}{4} \\right)}\\right) \\cos{\\left(\\frac{\\pi \\cos^{2}{\\left(\\theta \\right)}}{4} \\right)} + 0.25 \\sin^{2}{\\left(\\frac{\\pi \\cos^{2}{\\left(\\theta \\right)}}{4} \\right)} - 0.177 \\sin{\\left(\\frac{\\pi \\cos^{2}{\\left(\\theta \\right)}}{4} \\right)} \\cos{\\left(\\pi \\cos^{2}{\\left(\\theta \\right)} \\right)} + 0.177 \\sin{\\left(\\frac{\\pi \\cos^{2}{\\left(\\theta \\right)}}{4} \\right)} + 0.25\\right) \\sin{\\left(\\frac{\\pi \\cos^{2}{\\left(\\theta \\right)}}{4} \\right)} + 0.25 \\sin{\\left(\\frac{\\pi \\cos^{2}{\\left(\\theta \\right)}}{4} \\right)} \\cos^{2}{\\left(\\frac{\\pi \\cos^{2}{\\left(\\theta \\right)}}{4} \\right)} - 0.177 \\cos^{2}{\\left(\\frac{\\pi \\cos^{2}{\\left(\\theta \\right)}}{4} \\right)} \\cos{\\left(\\pi \\cos^{2}{\\left(\\theta \\right)} \\right)} + 0.177 \\cos^{2}{\\left(\\frac{\\pi \\cos^{2}{\\left(\\theta \\right)}}{4} \\right)}\\\\- \\left(- 0.177 \\sin{\\left(\\pi \\cos^{2}{\\left(\\theta \\right)} \\right)} + 0.25 \\cos{\\left(\\frac{\\pi \\cos^{2}{\\left(\\theta \\right)}}{4} \\right)}\\right) \\sin{\\left(\\frac{\\pi \\cos^{2}{\\left(\\theta \\right)}}{4} \\right)} \\cos{\\left(\\frac{\\pi \\cos^{2}{\\left(\\theta \\right)}}{4} \\right)} + i \\left(\\left(- 0.177 \\sin{\\left(\\pi \\cos^{2}{\\left(\\theta \\right)} \\right)} + 0.25 \\cos{\\left(\\frac{\\pi \\cos^{2}{\\left(\\theta \\right)}}{4} \\right)}\\right) \\sin^{2}{\\left(\\frac{\\pi \\cos^{2}{\\left(\\theta \\right)}}{4} \\right)} + \\left(\\left(- 0.177 \\sin{\\left(\\pi \\cos^{2}{\\left(\\theta \\right)} \\right)} + 0.25 \\cos{\\left(\\frac{\\pi \\cos^{2}{\\left(\\theta \\right)}}{4} \\right)}\\right) \\cos{\\left(\\frac{\\pi \\cos^{2}{\\left(\\theta \\right)}}{4} \\right)} - 0.25 \\sin^{2}{\\left(\\frac{\\pi \\cos^{2}{\\left(\\theta \\right)}}{4} \\right)} - 0.177 \\sin{\\left(\\frac{\\pi \\cos^{2}{\\left(\\theta \\right)}}{4} \\right)} \\cos{\\left(\\pi \\cos^{2}{\\left(\\theta \\right)} \\right)} + 0.177 \\sin{\\left(\\frac{\\pi \\cos^{2}{\\left(\\theta \\right)}}{4} \\right)} - 0.25\\right) \\cos{\\left(\\frac{\\pi \\cos^{2}{\\left(\\theta \\right)}}{4} \\right)} + 0.25 \\sin^{2}{\\left(\\frac{\\pi \\cos^{2}{\\left(\\theta \\right)}}{4} \\right)} \\cos{\\left(\\frac{\\pi \\cos^{2}{\\left(\\theta \\right)}}{4} \\right)} + 0.177 \\sin{\\left(\\frac{\\pi \\cos^{2}{\\left(\\theta \\right)}}{4} \\right)} \\cos{\\left(\\frac{\\pi \\cos^{2}{\\left(\\theta \\right)}}{4} \\right)} \\cos{\\left(\\pi \\cos^{2}{\\left(\\theta \\right)} \\right)} - 0.177 \\sin{\\left(\\frac{\\pi \\cos^{2}{\\left(\\theta \\right)}}{4} \\right)} \\cos{\\left(\\frac{\\pi \\cos^{2}{\\left(\\theta \\right)}}{4} \\right)}\\right) + \\left(\\left(- 0.177 \\sin{\\left(\\pi \\cos^{2}{\\left(\\theta \\right)} \\right)} + 0.25 \\cos{\\left(\\frac{\\pi \\cos^{2}{\\left(\\theta \\right)}}{4} \\right)}\\right) \\cos{\\left(\\frac{\\pi \\cos^{2}{\\left(\\theta \\right)}}{4} \\right)} - 0.25 \\sin^{2}{\\left(\\frac{\\pi \\cos^{2}{\\left(\\theta \\right)}}{4} \\right)} - 0.177 \\sin{\\left(\\frac{\\pi \\cos^{2}{\\left(\\theta \\right)}}{4} \\right)} \\cos{\\left(\\pi \\cos^{2}{\\left(\\theta \\right)} \\right)} + 0.177 \\sin{\\left(\\frac{\\pi \\cos^{2}{\\left(\\theta \\right)}}{4} \\right)} - 0.25\\right) \\sin{\\left(\\frac{\\pi \\cos^{2}{\\left(\\theta \\right)}}{4} \\right)} - 0.25 \\sin{\\left(\\frac{\\pi \\cos^{2}{\\left(\\theta \\right)}}{4} \\right)} \\cos^{2}{\\left(\\frac{\\pi \\cos^{2}{\\left(\\theta \\right)}}{4} \\right)} - 0.177 \\cos^{2}{\\left(\\frac{\\pi \\cos^{2}{\\left(\\theta \\right)}}{4} \\right)} \\cos{\\left(\\pi \\cos^{2}{\\left(\\theta \\right)} \\right)} + 0.177 \\cos^{2}{\\left(\\frac{\\pi \\cos^{2}{\\left(\\theta \\right)}}{4} \\right)} & - \\left(- 0.177 \\sin{\\left(\\pi \\cos^{2}{\\left(\\theta \\right)} \\right)} - 0.25 \\cos{\\left(\\frac{\\pi \\cos^{2}{\\left(\\theta \\right)}}{4} \\right)}\\right) \\sin{\\left(\\frac{\\pi \\cos^{2}{\\left(\\theta \\right)}}{4} \\right)} \\cos{\\left(\\frac{\\pi \\cos^{2}{\\left(\\theta \\right)}}{4} \\right)} + i \\left(\\left(- 0.177 \\sin{\\left(\\pi \\cos^{2}{\\left(\\theta \\right)} \\right)} - 0.25 \\cos{\\left(\\frac{\\pi \\cos^{2}{\\left(\\theta \\right)}}{4} \\right)}\\right) \\sin^{2}{\\left(\\frac{\\pi \\cos^{2}{\\left(\\theta \\right)}}{4} \\right)} + \\left(\\left(- 0.177 \\sin{\\left(\\pi \\cos^{2}{\\left(\\theta \\right)} \\right)} - 0.25 \\cos{\\left(\\frac{\\pi \\cos^{2}{\\left(\\theta \\right)}}{4} \\right)}\\right) \\cos{\\left(\\frac{\\pi \\cos^{2}{\\left(\\theta \\right)}}{4} \\right)} + 0.25 \\sin^{2}{\\left(\\frac{\\pi \\cos^{2}{\\left(\\theta \\right)}}{4} \\right)} - 0.177 \\sin{\\left(\\frac{\\pi \\cos^{2}{\\left(\\theta \\right)}}{4} \\right)} \\cos{\\left(\\pi \\cos^{2}{\\left(\\theta \\right)} \\right)} + 0.177 \\sin{\\left(\\frac{\\pi \\cos^{2}{\\left(\\theta \\right)}}{4} \\right)} + 0.25\\right) \\cos{\\left(\\frac{\\pi \\cos^{2}{\\left(\\theta \\right)}}{4} \\right)} - 0.25 \\sin^{2}{\\left(\\frac{\\pi \\cos^{2}{\\left(\\theta \\right)}}{4} \\right)} \\cos{\\left(\\frac{\\pi \\cos^{2}{\\left(\\theta \\right)}}{4} \\right)} + 0.177 \\sin{\\left(\\frac{\\pi \\cos^{2}{\\left(\\theta \\right)}}{4} \\right)} \\cos{\\left(\\frac{\\pi \\cos^{2}{\\left(\\theta \\right)}}{4} \\right)} \\cos{\\left(\\pi \\cos^{2}{\\left(\\theta \\right)} \\right)} - 0.177 \\sin{\\left(\\frac{\\pi \\cos^{2}{\\left(\\theta \\right)}}{4} \\right)} \\cos{\\left(\\frac{\\pi \\cos^{2}{\\left(\\theta \\right)}}{4} \\right)}\\right) + \\left(\\left(- 0.177 \\sin{\\left(\\pi \\cos^{2}{\\left(\\theta \\right)} \\right)} - 0.25 \\cos{\\left(\\frac{\\pi \\cos^{2}{\\left(\\theta \\right)}}{4} \\right)}\\right) \\cos{\\left(\\frac{\\pi \\cos^{2}{\\left(\\theta \\right)}}{4} \\right)} + 0.25 \\sin^{2}{\\left(\\frac{\\pi \\cos^{2}{\\left(\\theta \\right)}}{4} \\right)} - 0.177 \\sin{\\left(\\frac{\\pi \\cos^{2}{\\left(\\theta \\right)}}{4} \\right)} \\cos{\\left(\\pi \\cos^{2}{\\left(\\theta \\right)} \\right)} + 0.177 \\sin{\\left(\\frac{\\pi \\cos^{2}{\\left(\\theta \\right)}}{4} \\right)} + 0.25\\right) \\sin{\\left(\\frac{\\pi \\cos^{2}{\\left(\\theta \\right)}}{4} \\right)} + 0.25 \\sin{\\left(\\frac{\\pi \\cos^{2}{\\left(\\theta \\right)}}{4} \\right)} \\cos^{2}{\\left(\\frac{\\pi \\cos^{2}{\\left(\\theta \\right)}}{4} \\right)} - 0.177 \\cos^{2}{\\left(\\frac{\\pi \\cos^{2}{\\left(\\theta \\right)}}{4} \\right)} \\cos{\\left(\\pi \\cos^{2}{\\left(\\theta \\right)} \\right)} + 0.177 \\cos^{2}{\\left(\\frac{\\pi \\cos^{2}{\\left(\\theta \\right)}}{4} \\right)} & - \\left(0.25 \\sin{\\left(\\frac{\\pi \\cos^{2}{\\left(\\theta \\right)}}{4} \\right)} + 0.427 \\sin{\\left(\\pi \\cos^{2}{\\left(\\theta \\right)} \\right)}\\right) \\sin{\\left(\\frac{\\pi \\cos^{2}{\\left(\\theta \\right)}}{4} \\right)} \\cos{\\left(\\frac{\\pi \\cos^{2}{\\left(\\theta \\right)}}{4} \\right)} + \\left(\\left(0.25 \\sin{\\left(\\frac{\\pi \\cos^{2}{\\left(\\theta \\right)}}{4} \\right)} + 0.427 \\sin{\\left(\\pi \\cos^{2}{\\left(\\theta \\right)} \\right)}\\right) \\cos{\\left(\\frac{\\pi \\cos^{2}{\\left(\\theta \\right)}}{4} \\right)} + 0.25 \\sin{\\left(\\frac{\\pi \\cos^{2}{\\left(\\theta \\right)}}{4} \\right)} \\cos{\\left(\\frac{\\pi \\cos^{2}{\\left(\\theta \\right)}}{4} \\right)} + 0.427 \\sin{\\left(\\frac{\\pi \\cos^{2}{\\left(\\theta \\right)}}{4} \\right)} \\cos{\\left(\\pi \\cos^{2}{\\left(\\theta \\right)} \\right)} + 0.0732 \\sin{\\left(\\frac{\\pi \\cos^{2}{\\left(\\theta \\right)}}{4} \\right)}\\right) \\sin{\\left(\\frac{\\pi \\cos^{2}{\\left(\\theta \\right)}}{4} \\right)} + i \\left(\\left(0.25 \\sin{\\left(\\frac{\\pi \\cos^{2}{\\left(\\theta \\right)}}{4} \\right)} + 0.427 \\sin{\\left(\\pi \\cos^{2}{\\left(\\theta \\right)} \\right)}\\right) \\sin^{2}{\\left(\\frac{\\pi \\cos^{2}{\\left(\\theta \\right)}}{4} \\right)} + \\left(\\left(0.25 \\sin{\\left(\\frac{\\pi \\cos^{2}{\\left(\\theta \\right)}}{4} \\right)} + 0.427 \\sin{\\left(\\pi \\cos^{2}{\\left(\\theta \\right)} \\right)}\\right) \\cos{\\left(\\frac{\\pi \\cos^{2}{\\left(\\theta \\right)}}{4} \\right)} + 0.25 \\sin{\\left(\\frac{\\pi \\cos^{2}{\\left(\\theta \\right)}}{4} \\right)} \\cos{\\left(\\frac{\\pi \\cos^{2}{\\left(\\theta \\right)}}{4} \\right)} + 0.427 \\sin{\\left(\\frac{\\pi \\cos^{2}{\\left(\\theta \\right)}}{4} \\right)} \\cos{\\left(\\pi \\cos^{2}{\\left(\\theta \\right)} \\right)} + 0.0732 \\sin{\\left(\\frac{\\pi \\cos^{2}{\\left(\\theta \\right)}}{4} \\right)}\\right) \\cos{\\left(\\frac{\\pi \\cos^{2}{\\left(\\theta \\right)}}{4} \\right)} - 0.25 \\sin{\\left(\\frac{\\pi \\cos^{2}{\\left(\\theta \\right)}}{4} \\right)} \\cos^{2}{\\left(\\frac{\\pi \\cos^{2}{\\left(\\theta \\right)}}{4} \\right)} - 0.427 \\sin{\\left(\\frac{\\pi \\cos^{2}{\\left(\\theta \\right)}}{4} \\right)} \\cos{\\left(\\frac{\\pi \\cos^{2}{\\left(\\theta \\right)}}{4} \\right)} \\cos{\\left(\\pi \\cos^{2}{\\left(\\theta \\right)} \\right)} - 0.0732 \\sin{\\left(\\frac{\\pi \\cos^{2}{\\left(\\theta \\right)}}{4} \\right)} \\cos{\\left(\\frac{\\pi \\cos^{2}{\\left(\\theta \\right)}}{4} \\right)} - 0.25 \\sin{\\left(\\frac{\\pi \\cos^{2}{\\left(\\theta \\right)}}{4} \\right)}\\right) + 0.25 \\cos^{3}{\\left(\\frac{\\pi \\cos^{2}{\\left(\\theta \\right)}}{4} \\right)} + 0.427 \\cos^{2}{\\left(\\frac{\\pi \\cos^{2}{\\left(\\theta \\right)}}{4} \\right)} \\cos{\\left(\\pi \\cos^{2}{\\left(\\theta \\right)} \\right)} + 0.0732 \\cos^{2}{\\left(\\frac{\\pi \\cos^{2}{\\left(\\theta \\right)}}{4} \\right)} + 0.25 \\cos{\\left(\\frac{\\pi \\cos^{2}{\\left(\\theta \\right)}}{4} \\right)} & - \\left(- 0.25 \\sin{\\left(\\frac{\\pi \\cos^{2}{\\left(\\theta \\right)}}{4} \\right)} + 0.427 \\sin{\\left(\\pi \\cos^{2}{\\left(\\theta \\right)} \\right)}\\right) \\sin{\\left(\\frac{\\pi \\cos^{2}{\\left(\\theta \\right)}}{4} \\right)} \\cos{\\left(\\frac{\\pi \\cos^{2}{\\left(\\theta \\right)}}{4} \\right)} + \\left(\\left(- 0.25 \\sin{\\left(\\frac{\\pi \\cos^{2}{\\left(\\theta \\right)}}{4} \\right)} + 0.427 \\sin{\\left(\\pi \\cos^{2}{\\left(\\theta \\right)} \\right)}\\right) \\cos{\\left(\\frac{\\pi \\cos^{2}{\\left(\\theta \\right)}}{4} \\right)} - 0.25 \\sin{\\left(\\frac{\\pi \\cos^{2}{\\left(\\theta \\right)}}{4} \\right)} \\cos{\\left(\\frac{\\pi \\cos^{2}{\\left(\\theta \\right)}}{4} \\right)} + 0.427 \\sin{\\left(\\frac{\\pi \\cos^{2}{\\left(\\theta \\right)}}{4} \\right)} \\cos{\\left(\\pi \\cos^{2}{\\left(\\theta \\right)} \\right)} + 0.0732 \\sin{\\left(\\frac{\\pi \\cos^{2}{\\left(\\theta \\right)}}{4} \\right)}\\right) \\sin{\\left(\\frac{\\pi \\cos^{2}{\\left(\\theta \\right)}}{4} \\right)} + i \\left(\\left(- 0.25 \\sin{\\left(\\frac{\\pi \\cos^{2}{\\left(\\theta \\right)}}{4} \\right)} + 0.427 \\sin{\\left(\\pi \\cos^{2}{\\left(\\theta \\right)} \\right)}\\right) \\sin^{2}{\\left(\\frac{\\pi \\cos^{2}{\\left(\\theta \\right)}}{4} \\right)} + \\left(\\left(- 0.25 \\sin{\\left(\\frac{\\pi \\cos^{2}{\\left(\\theta \\right)}}{4} \\right)} + 0.427 \\sin{\\left(\\pi \\cos^{2}{\\left(\\theta \\right)} \\right)}\\right) \\cos{\\left(\\frac{\\pi \\cos^{2}{\\left(\\theta \\right)}}{4} \\right)} - 0.25 \\sin{\\left(\\frac{\\pi \\cos^{2}{\\left(\\theta \\right)}}{4} \\right)} \\cos{\\left(\\frac{\\pi \\cos^{2}{\\left(\\theta \\right)}}{4} \\right)} + 0.427 \\sin{\\left(\\frac{\\pi \\cos^{2}{\\left(\\theta \\right)}}{4} \\right)} \\cos{\\left(\\pi \\cos^{2}{\\left(\\theta \\right)} \\right)} + 0.0732 \\sin{\\left(\\frac{\\pi \\cos^{2}{\\left(\\theta \\right)}}{4} \\right)}\\right) \\cos{\\left(\\frac{\\pi \\cos^{2}{\\left(\\theta \\right)}}{4} \\right)} + 0.25 \\sin{\\left(\\frac{\\pi \\cos^{2}{\\left(\\theta \\right)}}{4} \\right)} \\cos^{2}{\\left(\\frac{\\pi \\cos^{2}{\\left(\\theta \\right)}}{4} \\right)} - 0.427 \\sin{\\left(\\frac{\\pi \\cos^{2}{\\left(\\theta \\right)}}{4} \\right)} \\cos{\\left(\\frac{\\pi \\cos^{2}{\\left(\\theta \\right)}}{4} \\right)} \\cos{\\left(\\pi \\cos^{2}{\\left(\\theta \\right)} \\right)} - 0.0732 \\sin{\\left(\\frac{\\pi \\cos^{2}{\\left(\\theta \\right)}}{4} \\right)} \\cos{\\left(\\frac{\\pi \\cos^{2}{\\left(\\theta \\right)}}{4} \\right)} + 0.25 \\sin{\\left(\\frac{\\pi \\cos^{2}{\\left(\\theta \\right)}}{4} \\right)}\\right) - 0.25 \\cos^{3}{\\left(\\frac{\\pi \\cos^{2}{\\left(\\theta \\right)}}{4} \\right)} + 0.427 \\cos^{2}{\\left(\\frac{\\pi \\cos^{2}{\\left(\\theta \\right)}}{4} \\right)} \\cos{\\left(\\pi \\cos^{2}{\\left(\\theta \\right)} \\right)} + 0.0732 \\cos^{2}{\\left(\\frac{\\pi \\cos^{2}{\\left(\\theta \\right)}}{4} \\right)} - 0.25 \\cos{\\left(\\frac{\\pi \\cos^{2}{\\left(\\theta \\right)}}{4} \\right)}\\\\i \\left(\\left(0.177 \\sin{\\left(\\frac{\\pi \\cos^{2}{\\left(\\theta \\right)}}{4} \\right)} - 0.177 \\sin{\\left(\\frac{5 \\pi \\cos^{2}{\\left(\\theta \\right)}}{4} \\right)} - 0.25 \\cos{\\left(\\frac{\\pi \\cos^{2}{\\left(\\theta \\right)}}{2} \\right)} + 0.25\\right) \\cos{\\left(\\frac{\\pi \\cos^{2}{\\left(\\theta \\right)}}{4} \\right)} - 0.25 \\sin{\\left(\\frac{\\pi \\cos^{2}{\\left(\\theta \\right)}}{4} \\right)} \\sin{\\left(\\frac{\\pi \\cos^{2}{\\left(\\theta \\right)}}{2} \\right)} - 0.177 \\sin{\\left(\\frac{\\pi \\cos^{2}{\\left(\\theta \\right)}}{4} \\right)} \\cos{\\left(\\frac{\\pi \\cos^{2}{\\left(\\theta \\right)}}{4} \\right)} + 0.177 \\sin{\\left(\\frac{\\pi \\cos^{2}{\\left(\\theta \\right)}}{4} \\right)} \\cos{\\left(\\frac{5 \\pi \\cos^{2}{\\left(\\theta \\right)}}{4} \\right)}\\right) + \\left(0.177 \\sin{\\left(\\frac{\\pi \\cos^{2}{\\left(\\theta \\right)}}{4} \\right)} - 0.177 \\sin{\\left(\\frac{5 \\pi \\cos^{2}{\\left(\\theta \\right)}}{4} \\right)} - 0.25 \\cos{\\left(\\frac{\\pi \\cos^{2}{\\left(\\theta \\right)}}{2} \\right)} + 0.25\\right) \\sin{\\left(\\frac{\\pi \\cos^{2}{\\left(\\theta \\right)}}{4} \\right)} + 0.25 \\sin{\\left(\\frac{\\pi \\cos^{2}{\\left(\\theta \\right)}}{2} \\right)} \\cos{\\left(\\frac{\\pi \\cos^{2}{\\left(\\theta \\right)}}{4} \\right)} + 0.177 \\cos^{2}{\\left(\\frac{\\pi \\cos^{2}{\\left(\\theta \\right)}}{4} \\right)} - 0.177 \\cos{\\left(\\frac{\\pi \\cos^{2}{\\left(\\theta \\right)}}{4} \\right)} \\cos{\\left(\\frac{5 \\pi \\cos^{2}{\\left(\\theta \\right)}}{4} \\right)} & i \\left(\\left(0.177 \\sin{\\left(\\frac{\\pi \\cos^{2}{\\left(\\theta \\right)}}{4} \\right)} - 0.177 \\sin{\\left(\\frac{5 \\pi \\cos^{2}{\\left(\\theta \\right)}}{4} \\right)} + 0.25 \\cos{\\left(\\frac{\\pi \\cos^{2}{\\left(\\theta \\right)}}{2} \\right)} - 0.25\\right) \\cos{\\left(\\frac{\\pi \\cos^{2}{\\left(\\theta \\right)}}{4} \\right)} + 0.25 \\sin{\\left(\\frac{\\pi \\cos^{2}{\\left(\\theta \\right)}}{4} \\right)} \\sin{\\left(\\frac{\\pi \\cos^{2}{\\left(\\theta \\right)}}{2} \\right)} - 0.177 \\sin{\\left(\\frac{\\pi \\cos^{2}{\\left(\\theta \\right)}}{4} \\right)} \\cos{\\left(\\frac{\\pi \\cos^{2}{\\left(\\theta \\right)}}{4} \\right)} + 0.177 \\sin{\\left(\\frac{\\pi \\cos^{2}{\\left(\\theta \\right)}}{4} \\right)} \\cos{\\left(\\frac{5 \\pi \\cos^{2}{\\left(\\theta \\right)}}{4} \\right)}\\right) + \\left(0.177 \\sin{\\left(\\frac{\\pi \\cos^{2}{\\left(\\theta \\right)}}{4} \\right)} - 0.177 \\sin{\\left(\\frac{5 \\pi \\cos^{2}{\\left(\\theta \\right)}}{4} \\right)} + 0.25 \\cos{\\left(\\frac{\\pi \\cos^{2}{\\left(\\theta \\right)}}{2} \\right)} - 0.25\\right) \\sin{\\left(\\frac{\\pi \\cos^{2}{\\left(\\theta \\right)}}{4} \\right)} - 0.25 \\sin{\\left(\\frac{\\pi \\cos^{2}{\\left(\\theta \\right)}}{2} \\right)} \\cos{\\left(\\frac{\\pi \\cos^{2}{\\left(\\theta \\right)}}{4} \\right)} + 0.177 \\cos^{2}{\\left(\\frac{\\pi \\cos^{2}{\\left(\\theta \\right)}}{4} \\right)} - 0.177 \\cos{\\left(\\frac{\\pi \\cos^{2}{\\left(\\theta \\right)}}{4} \\right)} \\cos{\\left(\\frac{5 \\pi \\cos^{2}{\\left(\\theta \\right)}}{4} \\right)} & - \\left(- 0.25 \\sin{\\left(\\frac{\\pi \\cos^{2}{\\left(\\theta \\right)}}{4} \\right)} + 0.427 \\sin{\\left(\\pi \\cos^{2}{\\left(\\theta \\right)} \\right)}\\right) \\sin{\\left(\\frac{\\pi \\cos^{2}{\\left(\\theta \\right)}}{4} \\right)} \\cos{\\left(\\frac{\\pi \\cos^{2}{\\left(\\theta \\right)}}{4} \\right)} + \\left(\\left(- 0.25 \\sin{\\left(\\frac{\\pi \\cos^{2}{\\left(\\theta \\right)}}{4} \\right)} + 0.427 \\sin{\\left(\\pi \\cos^{2}{\\left(\\theta \\right)} \\right)}\\right) \\cos{\\left(\\frac{\\pi \\cos^{2}{\\left(\\theta \\right)}}{4} \\right)} - 0.25 \\sin{\\left(\\frac{\\pi \\cos^{2}{\\left(\\theta \\right)}}{4} \\right)} \\cos{\\left(\\frac{\\pi \\cos^{2}{\\left(\\theta \\right)}}{4} \\right)} + 0.427 \\sin{\\left(\\frac{\\pi \\cos^{2}{\\left(\\theta \\right)}}{4} \\right)} \\cos{\\left(\\pi \\cos^{2}{\\left(\\theta \\right)} \\right)} + 0.0732 \\sin{\\left(\\frac{\\pi \\cos^{2}{\\left(\\theta \\right)}}{4} \\right)}\\right) \\sin{\\left(\\frac{\\pi \\cos^{2}{\\left(\\theta \\right)}}{4} \\right)} + i \\left(\\left(- 0.25 \\sin{\\left(\\frac{\\pi \\cos^{2}{\\left(\\theta \\right)}}{4} \\right)} + 0.427 \\sin{\\left(\\pi \\cos^{2}{\\left(\\theta \\right)} \\right)}\\right) \\sin^{2}{\\left(\\frac{\\pi \\cos^{2}{\\left(\\theta \\right)}}{4} \\right)} + \\left(\\left(- 0.25 \\sin{\\left(\\frac{\\pi \\cos^{2}{\\left(\\theta \\right)}}{4} \\right)} + 0.427 \\sin{\\left(\\pi \\cos^{2}{\\left(\\theta \\right)} \\right)}\\right) \\cos{\\left(\\frac{\\pi \\cos^{2}{\\left(\\theta \\right)}}{4} \\right)} - 0.25 \\sin{\\left(\\frac{\\pi \\cos^{2}{\\left(\\theta \\right)}}{4} \\right)} \\cos{\\left(\\frac{\\pi \\cos^{2}{\\left(\\theta \\right)}}{4} \\right)} + 0.427 \\sin{\\left(\\frac{\\pi \\cos^{2}{\\left(\\theta \\right)}}{4} \\right)} \\cos{\\left(\\pi \\cos^{2}{\\left(\\theta \\right)} \\right)} + 0.0732 \\sin{\\left(\\frac{\\pi \\cos^{2}{\\left(\\theta \\right)}}{4} \\right)}\\right) \\cos{\\left(\\frac{\\pi \\cos^{2}{\\left(\\theta \\right)}}{4} \\right)} + 0.25 \\sin{\\left(\\frac{\\pi \\cos^{2}{\\left(\\theta \\right)}}{4} \\right)} \\cos^{2}{\\left(\\frac{\\pi \\cos^{2}{\\left(\\theta \\right)}}{4} \\right)} - 0.427 \\sin{\\left(\\frac{\\pi \\cos^{2}{\\left(\\theta \\right)}}{4} \\right)} \\cos{\\left(\\frac{\\pi \\cos^{2}{\\left(\\theta \\right)}}{4} \\right)} \\cos{\\left(\\pi \\cos^{2}{\\left(\\theta \\right)} \\right)} - 0.0732 \\sin{\\left(\\frac{\\pi \\cos^{2}{\\left(\\theta \\right)}}{4} \\right)} \\cos{\\left(\\frac{\\pi \\cos^{2}{\\left(\\theta \\right)}}{4} \\right)} + 0.25 \\sin{\\left(\\frac{\\pi \\cos^{2}{\\left(\\theta \\right)}}{4} \\right)}\\right) - 0.25 \\cos^{3}{\\left(\\frac{\\pi \\cos^{2}{\\left(\\theta \\right)}}{4} \\right)} + 0.427 \\cos^{2}{\\left(\\frac{\\pi \\cos^{2}{\\left(\\theta \\right)}}{4} \\right)} \\cos{\\left(\\pi \\cos^{2}{\\left(\\theta \\right)} \\right)} + 0.0732 \\cos^{2}{\\left(\\frac{\\pi \\cos^{2}{\\left(\\theta \\right)}}{4} \\right)} - 0.25 \\cos{\\left(\\frac{\\pi \\cos^{2}{\\left(\\theta \\right)}}{4} \\right)} & \\left(0.0732 \\sin{\\left(\\frac{\\pi \\cos^{2}{\\left(\\theta \\right)}}{4} \\right)} + 0.25 \\sin{\\left(\\frac{\\pi \\cos^{2}{\\left(\\theta \\right)}}{2} \\right)} + 0.427 \\sin{\\left(\\frac{5 \\pi \\cos^{2}{\\left(\\theta \\right)}}{4} \\right)}\\right) \\sin{\\left(\\frac{\\pi \\cos^{2}{\\left(\\theta \\right)}}{4} \\right)} + i \\left(\\left(0.0732 \\sin{\\left(\\frac{\\pi \\cos^{2}{\\left(\\theta \\right)}}{4} \\right)} + 0.25 \\sin{\\left(\\frac{\\pi \\cos^{2}{\\left(\\theta \\right)}}{2} \\right)} + 0.427 \\sin{\\left(\\frac{5 \\pi \\cos^{2}{\\left(\\theta \\right)}}{4} \\right)}\\right) \\cos{\\left(\\frac{\\pi \\cos^{2}{\\left(\\theta \\right)}}{4} \\right)} - 0.0732 \\sin{\\left(\\frac{\\pi \\cos^{2}{\\left(\\theta \\right)}}{4} \\right)} \\cos{\\left(\\frac{\\pi \\cos^{2}{\\left(\\theta \\right)}}{4} \\right)} - 0.25 \\sin{\\left(\\frac{\\pi \\cos^{2}{\\left(\\theta \\right)}}{4} \\right)} \\cos{\\left(\\frac{\\pi \\cos^{2}{\\left(\\theta \\right)}}{2} \\right)} - 0.427 \\sin{\\left(\\frac{\\pi \\cos^{2}{\\left(\\theta \\right)}}{4} \\right)} \\cos{\\left(\\frac{5 \\pi \\cos^{2}{\\left(\\theta \\right)}}{4} \\right)} - 0.25 \\sin{\\left(\\frac{\\pi \\cos^{2}{\\left(\\theta \\right)}}{4} \\right)}\\right) + 0.0732 \\cos^{2}{\\left(\\frac{\\pi \\cos^{2}{\\left(\\theta \\right)}}{4} \\right)} + 0.25 \\cos{\\left(\\frac{\\pi \\cos^{2}{\\left(\\theta \\right)}}{4} \\right)} \\cos{\\left(\\frac{\\pi \\cos^{2}{\\left(\\theta \\right)}}{2} \\right)} + 0.427 \\cos{\\left(\\frac{\\pi \\cos^{2}{\\left(\\theta \\right)}}{4} \\right)} \\cos{\\left(\\frac{5 \\pi \\cos^{2}{\\left(\\theta \\right)}}{4} \\right)} + 0.25 \\cos{\\left(\\frac{\\pi \\cos^{2}{\\left(\\theta \\right)}}{4} \\right)}\\end{matrix}\\right]$"
      ],
      "text/plain": [
       "<IPython.core.display.Math object>"
      ]
     },
     "metadata": {},
     "output_type": "display_data"
    }
   ],
   "source": [
    "# 定义符号变量\n",
    "theta = sp.Symbol('theta', real=True)\n",
    "\n",
    "# 定义矩阵D\n",
    "D = sp.diag(sp.exp(sp.I*sp.pi*sp.cos(theta)**2), sp.exp(sp.I*sp.pi/4*sp.cos(theta)**2), sp.exp(-1*sp.I*sp.pi/4*sp.cos(theta)**2), 1)\n",
    "\n",
    "display(Math(latex(D)))\n",
    "\n",
    "U =  P * D * P_inv\n",
    "U.simplify()\n",
    "U = sp.expand_complex(U)\n",
    "U = sp.nsimplify(U, tolerance=1e-10)\n",
    "U = U.evalf(3)\n",
    "\n",
    "print(\"U(θ):\")\n",
    "display(Math(latex(U)))"
   ]
  },
  {
   "attachments": {},
   "cell_type": "markdown",
   "metadata": {},
   "source": [
    "As the Z msmt result of input 00 and 11 are related to the front two columns of the matrix, we could easily found outputs of them are 1 and -1, respectively. Both of them are independent of θ."
   ]
  },
  {
   "attachments": {},
   "cell_type": "markdown",
   "metadata": {},
   "source": [
    "# O_tilde"
   ]
  },
  {
   "cell_type": "code",
   "execution_count": null,
   "metadata": {},
   "outputs": [],
   "source": [
    "from sympy import tensorproduct\n",
    "\n",
    "Ob = np.array( [[ 1,  0,  0,  0],\n",
    "                [ 0,  1,  0,  0],\n",
    "                [ 0,  0,  1,  0],\n",
    "                [ 0,  0,  0, -1]])\n",
    "\n",
    "print(\"Observable matrix:\")\n",
    "print(Ob)\n",
    "\n",
    "# 计算U(a)^\\dagger O U(a)\n",
    "U_dagger = U.H\n",
    "O_tilde = U_dagger @ Ob @ U\n",
    "O_tilde = O_tilde.simplify()\n",
    "\n",
    "print(\"U:\")\n",
    "display(Math(latex(U)))\n",
    "print(\"U(a)^\\dagger:\")\n",
    "display(Math(latex(U_dagger)))\n",
    "# print(\"U(a)^\\dagger @ Ob:\")\n",
    "# display(Math(latex(U_dagger@Ob)))\n",
    "print(\"O_tilde:\")\n",
    "display(Math(latex(O_tilde)))"
   ]
  },
  {
   "attachments": {},
   "cell_type": "markdown",
   "metadata": {},
   "source": [
    "# PO and SG"
   ]
  },
  {
   "cell_type": "code",
   "execution_count": null,
   "metadata": {},
   "outputs": [],
   "source": [
    "from Symmetries.WernerSysSwapSymmetry import WernerSysSwapSymmetry\n",
    "symmetry = WernerSysSwapSymmetry(1)\n",
    "\n",
    "PO = symmetry._twirling(np.array(O_tilde.tolist()))\n",
    "np.array(PO)"
   ]
  },
  {
   "cell_type": "code",
   "execution_count": null,
   "metadata": {},
   "outputs": [],
   "source": [
    "SWAP = Matrix([[1, 0, 0, 0],\n",
    "               [0, 0, 1, 0],\n",
    "               [0, 1, 0, 0],\n",
    "               [0, 0, 0, 1]])\n",
    "\n",
    "S_dagger = SWAP.T  # SWAP 门是自它的转置的逆，因此 S^† = S^T\n",
    "PO1 = S_dagger @ O_tilde @ SWAP\n",
    "PO1.simplify()\n",
    "print(\"PO1 matrix:\")\n",
    "display(Math(latex(PO1)))\n",
    "\n",
    "II = Matrix([[1, 0, 0, 0],\n",
    "               [0, 1, 0, 0],\n",
    "               [0, 0, 1, 0],\n",
    "               [0, 0, 0, 1]])\n",
    "PO2 = II @ O_tilde @ II\n",
    "PO2.simplify()\n",
    "print(\"PO2 matrix:\")\n",
    "display(Math(latex(PO2)))\n",
    "\n",
    "PO = 1/2 * (PO1 + PO2)\n",
    "\n",
    "print(\"PO matrix:\")\n",
    "display(Math(latex(PO)))\n",
    "\n",
    "# 计算 PO 和 O_tilde 之间的差\n",
    "diff_matrix = PO - O_tilde\n",
    "\n",
    "# 计算 H-S norm\n",
    "# HS_norm = sqrt(sum([abs(elem)**2 for elem in diff_matrix]))\n",
    "# HS_norm = sqrt(trace(diff_matrix.H * diff_matrix))\n",
    "HS_norm = trace(diff_matrix.H * diff_matrix)\n",
    "\n",
    "# 简化表达式\n",
    "HS_norm = HS_norm.simplify()\n",
    "\n",
    "print(\"HS_norm:\")\n",
    "display(Math(latex(HS_norm)))"
   ]
  },
  {
   "attachments": {},
   "cell_type": "markdown",
   "metadata": {},
   "source": [
    "we could see that, for all kinds of possible circuit parameter settings, twirling operation would make the prediction better or worse or keeps.\n",
    "\n",
    "Then its hard to tell what would twirling do to the circuit."
   ]
  },
  {
   "attachments": {},
   "cell_type": "markdown",
   "metadata": {},
   "source": [
    "# SG Plot\n",
    "\n",
    "output on 00 and 11 would always be constant values as stated below, here we plot the SG relative to $\\theta$"
   ]
  },
  {
   "cell_type": "code",
   "execution_count": null,
   "metadata": {},
   "outputs": [],
   "source": [
    "import numpy as np\n",
    "import sympy as sp\n",
    "import matplotlib.pyplot as plt\n",
    "\n",
    "ticks = np.linspace(-np.pi, np.pi, 9) \n",
    "tick_labels = [r'$-\\pi$', r'$-\\frac{3\\pi}{4}$', r'$-\\frac{\\pi}{2}$', r'$-\\frac{\\pi}{4}$', 0, r'$\\frac{\\pi}{4}$', r'$\\frac{\\pi}{2}$', r'$\\frac{3\\pi}{4}$', r'$\\pi$']\n",
    "\n",
    "theta_samples = np.linspace(-np.pi, np.pi, 100)\n",
    "phi_samples = np.linspace(-np.pi, np.pi, 100)\n",
    "theta_samples, phi_samples = np.meshgrid(theta_samples, phi_samples)\n",
    "\n",
    "y_sg_func = sp.lambdify([theta, phi], HS_norm, 'numpy')\n",
    "y_sg_values = np.abs(y_sg_func(theta_samples, phi_samples))\n",
    "\n",
    "fig = plt.figure(figsize=(12, 4))\n",
    "\n",
    "# 3D 曲面子图\n",
    "ax1 = fig.add_subplot(121, projection='3d')\n",
    "ax1.plot_surface(theta_samples, phi_samples, y_sg_values, cmap='viridis')\n",
    "ax1.set_xlabel(r'$\\theta$')\n",
    "ax1.set_ylabel(r'$\\phi$')\n",
    "ax1.set_xticks(ticks)\n",
    "ax1.set_xticklabels(tick_labels)\n",
    "ax1.set_yticks(ticks)\n",
    "ax1.set_yticklabels(tick_labels)\n",
    "ax1.set_zlabel(r'$\\|\\|H-S\\|\\|$')\n",
    "ax1.set_title(r'3D Surface of $\\|\\|H-S\\|\\|$')\n",
    "\n",
    "# Heatmap 子图\n",
    "ax2 = fig.add_subplot(122)\n",
    "c = ax2.pcolormesh(theta_samples, phi_samples, y_sg_values, cmap='viridis', shading='auto')\n",
    "ax2.set_xlabel(r'$\\theta$')\n",
    "ax2.set_ylabel(r'$\\phi$')\n",
    "ax2.set_xticks(ticks)\n",
    "ax2.set_xticklabels(tick_labels)\n",
    "ax2.set_yticks(ticks)\n",
    "ax2.set_yticklabels(tick_labels)\n",
    "ax2.set_title(r'Heatmap of $\\|\\|H-S\\|\\|$')\n",
    "\n",
    "# 添加 colorbar\n",
    "fig.colorbar(c, ax=ax2)\n",
    "\n",
    "plt.show()"
   ]
  },
  {
   "cell_type": "code",
   "execution_count": null,
   "metadata": {},
   "outputs": [],
   "source": [
    "y_sg_func(np.pi/2, 0)"
   ]
  },
  {
   "cell_type": "code",
   "execution_count": null,
   "metadata": {},
   "outputs": [],
   "source": [
    "# one test example\n",
    "\n",
    "# po_func = sp.lambdify([theta, phi], PO, 'numpy')\n",
    "# po_value = po_func(np.pi/2, 0)\n",
    "\n",
    "# print(\"IX:\\n\",IX)\n",
    "# O_ix = IX @ Ob @ IX\n",
    "# print(\"U_ix:\\n\",O_ix)\n",
    "\n",
    "# PO_ix1 = S_dagger @ O_ix @ SWAP\n",
    "# print(\"PO_ix1:\\n\",PO_ix1)\n",
    "# PO_ix2 = II @ O_ix @ II\n",
    "# print(\"PO_ix2:\\n\",PO_ix2)\n",
    "# PO_ix = 1/2 * (PO_ix1 + PO_ix2)\n",
    "# print(\"PO_ix:\\n\",PO_ix)\n",
    "\n",
    "# tmp_diff = PO_ix - O_ix\n",
    "# print(\"tmp_diff:\\n\",tmp_diff)\n",
    "# HS_norm_ix = trace(tmp_diff.H * tmp_diff)\n",
    "# print(\"HS_norm_ix:\\n\",HS_norm_ix)"
   ]
  },
  {
   "attachments": {},
   "cell_type": "markdown",
   "metadata": {},
   "source": [
    "# Output forms of each input"
   ]
  },
  {
   "cell_type": "code",
   "execution_count": null,
   "metadata": {},
   "outputs": [],
   "source": [
    "def zMsmtU_columnalue(U_column):\n",
    "    odd_sum = sum([np.abs(U_column[i])**2 for i in range(1, len(U_column), 2)])\n",
    "    even_sum = sum([np.abs(U_column[i])**2 for i in range(0, len(U_column), 2)])\n",
    "    rs = sp.simplify(even_sum - odd_sum)\n",
    "    return sp.nsimplify(rs, tolerance=1e-10)\n",
    "\n",
    "display(Math(latex(U)))\n",
    "\n",
    "zVals = [0, 0, 0, 0]\n",
    "\n",
    "for i in range(4):\n",
    "    U_column = U[:,i]\n",
    "    display(Math(latex(U_column.T)))\n",
    "    zVals[i] = zMsmtU_columnalue(U_column)\n",
    "    display(Math(latex(zVals[i])))\n"
   ]
  },
  {
   "attachments": {},
   "cell_type": "markdown",
   "metadata": {},
   "source": [
    "# Summary\n",
    "This is the same as the circuit $CNOT_{A \\rightarrow B}^{(cos^2(\\theta))}$, both the circuit output and SG"
   ]
  },
  {
   "attachments": {},
   "cell_type": "markdown",
   "metadata": {},
   "source": [
    "# loss function and label strategy\n",
    "\n",
    "1. cc loss for each input\n",
    "2. plot each 3-d view loss landscape"
   ]
  },
  {
   "attachments": {},
   "cell_type": "markdown",
   "metadata": {},
   "source": [
    "## square loss"
   ]
  },
  {
   "cell_type": "code",
   "execution_count": null,
   "metadata": {},
   "outputs": [],
   "source": [
    "zLabels = [[1, -1, -1, 1], [-1, 1, 1, -1]] # y < 0 -> -1 as cat; y > 0 -> 1 as cat\n",
    "\n",
    "theta_samples = np.linspace(-np.pi, np.pi, 100)\n",
    "phi_samples = np.linspace(-np.pi, np.pi, 100)\n",
    "theta_samples, phi_samples = np.meshgrid(theta_samples, phi_samples)\n",
    "\n",
    "fig, axs = plt.subplots(4, 4, figsize=(20, 16))\n",
    "\n",
    "for zIdx, zLabel in enumerate(zLabels):\n",
    "    for i in range(4):\n",
    "        y_square_loss = (zVals[i] - zLabel[i])**2\n",
    "        y_square_loss_func = sp.lambdify([theta, phi], y_square_loss, 'numpy')\n",
    "        y_square_loss_func_vectorized = np.vectorize(y_square_loss_func)\n",
    "        y_square_loss_values = np.abs(y_square_loss_func_vectorized(theta_samples, phi_samples))\n",
    "\n",
    "        axs[2*zIdx, i].set_title(f\"Input state: {bin(i)} (Heatmap)\")\n",
    "        heatmap = axs[2*zIdx, i].imshow(y_square_loss_values, cmap='viridis', origin='lower',\n",
    "                                extent=[-np.pi, np.pi, -np.pi, np.pi], aspect='auto')\n",
    "        axs[2*zIdx, i].set_xlabel(r'$\\theta$')\n",
    "        axs[2*zIdx, i].set_ylabel(r'$\\phi$')\n",
    "        axs[2*zIdx, i].set_xticks(ticks)\n",
    "        axs[2*zIdx, i].set_xticklabels(tick_labels)\n",
    "        axs[2*zIdx, i].set_yticks(ticks)\n",
    "        axs[2*zIdx, i].set_yticklabels(tick_labels)\n",
    "        fig.colorbar(heatmap, ax=axs[2*zIdx, i])\n",
    "\n",
    "        axs[2*zIdx+1, i] = fig.add_subplot(4, 4, 8*zIdx+i+5, projection='3d')\n",
    "        axs[2*zIdx+1, i].set_title(f\"Input state: {bin(i)} (3D plot)\")\n",
    "        surf = axs[2*zIdx+1, i].plot_surface(theta_samples, phi_samples, y_square_loss_values, cmap='viridis', edgecolor='none')\n",
    "        axs[2*zIdx+1, i].set_xlabel(r'\\theta')\n",
    "        axs[2*zIdx+1, i].set_ylabel(r'$\\phi$')\n",
    "        axs[2*zIdx+1, i].set_xticks(ticks)\n",
    "        axs[2*zIdx+1, i].set_xticklabels(tick_labels)\n",
    "        axs[2*zIdx+1, i].set_yticks(ticks)\n",
    "        axs[2*zIdx+1, i].set_yticklabels(tick_labels)\n",
    "        axs[2*zIdx+1, i].set_zlabel('loss value')\n",
    "    \n",
    "plt.subplots_adjust(hspace=0.3)\n",
    "plt.show()"
   ]
  },
  {
   "attachments": {},
   "cell_type": "markdown",
   "metadata": {},
   "source": [
    "then, add SG"
   ]
  },
  {
   "cell_type": "code",
   "execution_count": null,
   "metadata": {},
   "outputs": [],
   "source": [
    "zLabels = [[1, -1, -1, 1], [-1, 1, 1, -1]] # y < 0 -> -1 as cat; y > 0 -> 1 as cat\n",
    "\n",
    "theta_samples = np.linspace(-np.pi, np.pi, 100)\n",
    "phi_samples = np.linspace(-np.pi, np.pi, 100)\n",
    "theta_samples, phi_samples = np.meshgrid(theta_samples, phi_samples)\n",
    "\n",
    "fig, axs = plt.subplots(4, 4, figsize=(20, 16))\n",
    "\n",
    "ticks = np.linspace(-np.pi, np.pi, 9) \n",
    "tick_labels = [r'$-\\pi$', r'$-\\frac{3\\pi}{4}$', r'$-\\frac{\\pi}{2}$', r'$-\\frac{\\pi}{4}$', 0, r'$\\frac{\\pi}{4}$', r'$\\frac{\\pi}{2}$', r'$\\frac{3\\pi}{4}$', r'$\\pi$']\n",
    "\n",
    "for zIdx, zLabel in enumerate(zLabels):\n",
    "    for i in range(4):\n",
    "        y_square_loss = (zVals[i] - zLabel[i])**2\n",
    "        y_square_loss_func = sp.lambdify([theta, phi], y_square_loss, 'numpy')\n",
    "        y_square_loss_func_vectorized = np.vectorize(y_square_loss_func)\n",
    "        y_square_loss_values = np.abs(y_square_loss_func_vectorized(theta_samples, phi_samples))\n",
    "        sg_values = y_sg_func(theta_samples, phi_samples)\n",
    "        y_square_loss_values_sg = y_square_loss_values + sg_values\n",
    "\n",
    "        axs[2*zIdx, i].set_title(f\"Input state: {bin(i)} (Heatmap)\")\n",
    "        heatmap = axs[2*zIdx, i].imshow(y_square_loss_values_sg, cmap='viridis', origin='lower',\n",
    "                                extent=[-np.pi, np.pi, -np.pi, np.pi], aspect='auto')\n",
    "        axs[2*zIdx, i].set_xlabel(r'$\\theta$')\n",
    "        axs[2*zIdx, i].set_ylabel(r'$\\phi$')\n",
    "        axs[2*zIdx, i].set_xticks(ticks)\n",
    "        axs[2*zIdx, i].set_xticklabels(tick_labels)\n",
    "        axs[2*zIdx, i].set_yticks(ticks)\n",
    "        axs[2*zIdx, i].set_yticklabels(tick_labels)\n",
    "        fig.colorbar(heatmap, ax=axs[2*zIdx, i])\n",
    "\n",
    "        axs[2*zIdx+1, i] = fig.add_subplot(4, 4, 8*zIdx+i+5, projection='3d')\n",
    "        axs[2*zIdx+1, i].set_title(f\"Input state: {bin(i)} (3D plot)\")\n",
    "        surf = axs[2*zIdx+1, i].plot_surface(theta_samples, phi_samples, y_square_loss_values_sg, cmap='viridis', edgecolor='none')\n",
    "        axs[2*zIdx+1, i].set_xlabel(r'\\theta')\n",
    "        axs[2*zIdx+1, i].set_ylabel(r'$\\phi$')\n",
    "        axs[2*zIdx+1, i].set_xticks(ticks)\n",
    "        axs[2*zIdx+1, i].set_xticklabels(tick_labels)\n",
    "        axs[2*zIdx+1, i].set_yticks(ticks)\n",
    "        axs[2*zIdx+1, i].set_yticklabels(tick_labels)\n",
    "        axs[2*zIdx+1, i].set_zlabel('loss value')\n",
    "    \n",
    "plt.subplots_adjust(hspace=0.3)\n",
    "plt.show()"
   ]
  },
  {
   "attachments": {},
   "cell_type": "markdown",
   "metadata": {},
   "source": [
    "this result seems good as SG do:\n",
    "\n",
    "    1. provide small value in all candidate positions\n",
    "    2. At the same time, loss curve provides two local minima points that one conserves symmetry and one not\n",
    "    3. SG's local minima augments the depth of the symmetry conserved but sharpens another\n",
    "\n",
    "TODO: But is this because in this case, the circuit is special that makes loss+SG suit for optimal points? Is there any case that loss+SG sharpens the optimal one but strengths others?\n",
    "\n",
    "    1. SG candidates contains Best ones (1) + loss over-fitting ones under SG (2) + others (4)\n",
    "    2. Loss candidates contains Best ones (1) + over-fitting ones with SG (2) + other over-fitting ones (3) (When model could be well-trained)\n",
    "    3. Add SG would help Best ones (1) + over-fitting ones with under SG (2) + ... \n",
    "    4. (This is an unconvincing way)\n",
    "\n",
    "    1. When model over-fits, it usually do not generalize well on even SG preserved samples.\n",
    "    2. \n",
    "\n",
    "or say, there are some symmetry in QNNs?"
   ]
  },
  {
   "attachments": {},
   "cell_type": "markdown",
   "metadata": {},
   "source": [
    "SG角度：这里的SG给出了两种label策略下的解，从而在某个专门的loss下进行训练时，对应label策略下的解就会被加强，从而更为凸显。\n",
    "\n",
    "loss角度：过拟合的解不符合SG的要求，从而被抵消，而同期出现的同水平的另外一组解被凸显。"
   ]
  },
  {
   "attachments": {},
   "cell_type": "markdown",
   "metadata": {},
   "source": [
    "## hinge loss"
   ]
  },
  {
   "cell_type": "code",
   "execution_count": null,
   "metadata": {},
   "outputs": [],
   "source": [
    "# zLabels = [[1, -1, -1, 1], [-1, 1, 1, -1]] # y < 0 -> -1 as cat; y > 0 -> 1 as cat\n",
    "\n",
    "# theta_samples = np.linspace(-np.pi, np.pi, 100)\n",
    "# phi_samples = np.linspace(-np.pi, np.pi, 100)\n",
    "# theta_samples, phi_samples = np.meshgrid(theta_samples, phi_samples)\n",
    "\n",
    "# fig, axs = plt.subplots(4, 4, figsize=(20, 16))\n",
    "\n",
    "# ticks = np.linspace(-np.pi, np.pi, 9) \n",
    "# tick_labels = [r'$-\\pi$', r'$-\\frac{3\\pi}{4}$', r'$-\\frac{\\pi}{2}$', r'$-\\frac{\\pi}{4}$', 0, r'$\\frac{\\pi}{4}$', r'$\\frac{\\pi}{2}$', r'$\\frac{3\\pi}{4}$', r'$\\pi$']\n",
    "\n",
    "# for zIdx, zLabel in enumerate(zLabels):\n",
    "#     for i in range(4):\n",
    "#         y_hinge_loss = sp.Max(0, 1 - zVals[i] * zLabel[i])\n",
    "#         y_hinge_loss_func = sp.lambdify([theta, phi], y_hinge_loss, 'numpy')\n",
    "#         y_hinge_loss_func_vectorized = np.vectorize(y_hinge_loss_func)\n",
    "#         y_hinge_loss_values = np.abs(y_hinge_loss_func_vectorized(theta_samples, phi_samples))\n",
    "\n",
    "#         axs[2*zIdx, i].set_title(f\"Input state: {bin(i)} (Heatmap)\")\n",
    "#         heatmap = axs[2*zIdx, i].imshow(y_hinge_loss_values, cmap='viridis', origin='lower',\n",
    "#                                 extent=[-np.pi, np.pi, -np.pi, np.pi], aspect='auto')\n",
    "#         axs[2*zIdx, i].set_xlabel(r'\\theta')\n",
    "#         axs[2*zIdx, i].set_ylabel(r'$\\phi$')\n",
    "#         axs[2*zIdx, i].set_xticks(ticks)\n",
    "#         axs[2*zIdx, i].set_xticklabels(tick_labels)\n",
    "#         axs[2*zIdx, i].set_yticks(ticks)\n",
    "#         axs[2*zIdx, i].set_yticklabels(tick_labels)\n",
    "#         fig.colorbar(heatmap, ax=axs[2*zIdx, i])\n",
    "\n",
    "#         axs[2*zIdx+1, i] = fig.add_subplot(4, 4, 8*zIdx+i+5, projection='3d')\n",
    "#         axs[2*zIdx+1, i].set_title(f\"Input state: {bin(i)} (3D plot)\")\n",
    "#         surf = axs[2*zIdx+1, i].plot_surface(theta_samples, phi_samples, y_hinge_loss_values, cmap='viridis', edgecolor='none')\n",
    "#         axs[2*zIdx+1, i].set_xlabel(r'\\theta')\n",
    "#         axs[2*zIdx+1, i].set_ylabel(r'$\\phi$')\n",
    "#         axs[2*zIdx+1, i].set_xticks(ticks)\n",
    "#         axs[2*zIdx+1, i].set_xticklabels(tick_labels)\n",
    "#         axs[2*zIdx+1, i].set_yticks(ticks)\n",
    "#         axs[2*zIdx+1, i].set_yticklabels(tick_labels)\n",
    "#         axs[2*zIdx+1, i].set_zlabel('loss value')\n",
    "    \n",
    "# plt.subplots_adjust(hspace=0.3)\n",
    "# plt.show()"
   ]
  }
 ],
 "metadata": {
  "kernelspec": {
   "display_name": "pennyl",
   "language": "python",
   "name": "python3"
  },
  "language_info": {
   "codemirror_mode": {
    "name": "ipython",
    "version": 3
   },
   "file_extension": ".py",
   "mimetype": "text/x-python",
   "name": "python",
   "nbconvert_exporter": "python",
   "pygments_lexer": "ipython3",
   "version": "3.9.12"
  },
  "orig_nbformat": 4
 },
 "nbformat": 4,
 "nbformat_minor": 2
}
